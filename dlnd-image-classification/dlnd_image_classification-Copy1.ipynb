{
 "cells": [
  {
   "cell_type": "markdown",
   "metadata": {
    "collapsed": true,
    "deletable": true,
    "editable": true
   },
   "source": [
    "# Image Classification\n",
    "In this project, you'll classify images from the [CIFAR-10 dataset](https://www.cs.toronto.edu/~kriz/cifar.html).  The dataset consists of airplanes, dogs, cats, and other objects. You'll preprocess the images, then train a convolutional neural network on all the samples. The images need to be normalized and the labels need to be one-hot encoded.  You'll get to apply what you learned and build a convolutional, max pooling, dropout, and fully connected layers.  At the end, you'll get to see your neural network's predictions on the sample images.\n",
    "## Get the Data\n",
    "Run the following cell to download the [CIFAR-10 dataset for python](https://www.cs.toronto.edu/~kriz/cifar-10-python.tar.gz)."
   ]
  },
  {
   "cell_type": "code",
   "execution_count": 29,
   "metadata": {
    "collapsed": false,
    "deletable": true,
    "editable": true
   },
   "outputs": [
    {
     "name": "stderr",
     "output_type": "stream",
     "text": [
      "CIFAR-10 Dataset: 171MB [00:36, 4.67MB/s]                              \n"
     ]
    },
    {
     "name": "stdout",
     "output_type": "stream",
     "text": [
      "All files found!\n"
     ]
    }
   ],
   "source": [
    "\"\"\"\n",
    "DON'T MODIFY ANYTHING IN THIS CELL THAT IS BELOW THIS LINE\n",
    "\"\"\"\n",
    "from urllib.request import urlretrieve\n",
    "from os.path import isfile, isdir\n",
    "from tqdm import tqdm\n",
    "import problem_unittests as tests\n",
    "import tarfile\n",
    "\n",
    "cifar10_dataset_folder_path = 'cifar-10-batches-py'\n",
    "\n",
    "class DLProgress(tqdm):\n",
    "    last_block = 0\n",
    "\n",
    "    def hook(self, block_num=1, block_size=1, total_size=None):\n",
    "        self.total = total_size\n",
    "        self.update((block_num - self.last_block) * block_size)\n",
    "        self.last_block = block_num\n",
    "\n",
    "if not isfile('cifar-10-python.tar.gz'):\n",
    "    with DLProgress(unit='B', unit_scale=True, miniters=1, desc='CIFAR-10 Dataset') as pbar:\n",
    "        urlretrieve(\n",
    "            'https://www.cs.toronto.edu/~kriz/cifar-10-python.tar.gz',\n",
    "            'cifar-10-python.tar.gz',\n",
    "            pbar.hook)\n",
    "\n",
    "if not isdir(cifar10_dataset_folder_path):\n",
    "    with tarfile.open('cifar-10-python.tar.gz') as tar:\n",
    "        tar.extractall()\n",
    "        tar.close()\n",
    "\n",
    "\n",
    "tests.test_folder_path(cifar10_dataset_folder_path)"
   ]
  },
  {
   "cell_type": "markdown",
   "metadata": {
    "deletable": true,
    "editable": true
   },
   "source": [
    "## Explore the Data\n",
    "The dataset is broken into batches to prevent your machine from running out of memory.  The CIFAR-10 dataset consists of 5 batches, named `data_batch_1`, `data_batch_2`, etc.. Each batch contains the labels and images that are one of the following:\n",
    "* airplane\n",
    "* automobile\n",
    "* bird\n",
    "* cat\n",
    "* deer\n",
    "* dog\n",
    "* frog\n",
    "* horse\n",
    "* ship\n",
    "* truck\n",
    "\n",
    "Understanding a dataset is part of making predictions on the data.  Play around with the code cell below by changing the `batch_id` and `sample_id`. The `batch_id` is the id for a batch (1-5). The `sample_id` is the id for a image and label pair in the batch.\n",
    "\n",
    "Ask yourself \"What are all possible labels?\", \"What is the range of values for the image data?\", \"Are the labels in order or random?\".  Answers to questions like these will help you preprocess the data and end up with better predictions."
   ]
  },
  {
   "cell_type": "code",
   "execution_count": 30,
   "metadata": {
    "collapsed": false,
    "deletable": true,
    "editable": true
   },
   "outputs": [
    {
     "name": "stdout",
     "output_type": "stream",
     "text": [
      "\n",
      "Stats of batch 5:\n",
      "Samples: 10000\n",
      "Label Counts: {0: 1014, 1: 1014, 2: 952, 3: 1016, 4: 997, 5: 1025, 6: 980, 7: 977, 8: 1003, 9: 1022}\n",
      "First 20 Labels: [1, 8, 5, 1, 5, 7, 4, 3, 8, 2, 7, 2, 0, 1, 5, 9, 6, 2, 0, 8]\n",
      "\n",
      "Example of Image 9999:\n",
      "Image - Min Value: 4 Max Value: 255\n",
      "Image - Shape: (32, 32, 3)\n",
      "Label - Label Id: 1 Name: automobile\n"
     ]
    },
    {
     "data": {
      "image/png": "[encoded data removed]",
      "text/plain": [
       "<matplotlib.figure.Figure at 0x7f27b73b6e48>"
      ]
     },
     "metadata": {
      "image/png": {
       "height": 250,
       "width": 253
      }
     },
     "output_type": "display_data"
    }
   ],
   "source": [
    "%matplotlib inline\n",
    "%config InlineBackend.figure_format = 'retina'\n",
    "\n",
    "import helper\n",
    "import numpy as np\n",
    "\n",
    "# Explore the dataset\n",
    "batch_id = 5\n",
    "sample_id = 9999\n",
    "helper.display_stats(cifar10_dataset_folder_path, batch_id, sample_id)"
   ]
  },
  {
   "cell_type": "markdown",
   "metadata": {
    "deletable": true,
    "editable": true
   },
   "source": [
    "## Implement Preprocess Functions\n",
    "### Normalize\n",
    "In the cell below, implement the `normalize` function to take in image data, `x`, and return it as a normalized Numpy array. The values should be in the range of 0 to 1, inclusive.  The return object should be the same shape as `x`."
   ]
  },
  {
   "cell_type": "code",
   "execution_count": 31,
   "metadata": {
    "collapsed": false,
    "deletable": true,
    "editable": true
   },
   "outputs": [
    {
     "name": "stdout",
     "output_type": "stream",
     "text": [
      "Tests Passed\n"
     ]
    }
   ],
   "source": [
    "def normalize(x):\n",
    "    \"\"\"\n",
    "    Normalize a list of sample image data in the range of 0 to 1\n",
    "    : x: List of image data.  The image shape is (32, 32, 3)\n",
    "    : return: Numpy array of normalize data\n",
    "    \"\"\"\n",
    "    # TODO: Implement Function\n",
    "    x_max = np.max(x)\n",
    "    x_min = np.min(x)\n",
    "    return (x - x_min) / (x_max - x_min)\n",
    "\n",
    "\n",
    "\"\"\"\n",
    "DON'T MODIFY ANYTHING IN THIS CELL THAT IS BELOW THIS LINE\n",
    "\"\"\"\n",
    "tests.test_normalize(normalize)"
   ]
  },
  {
   "cell_type": "markdown",
   "metadata": {
    "deletable": true,
    "editable": true
   },
   "source": [
    "### One-hot encode\n",
    "Just like the previous code cell, you'll be implementing a function for preprocessing.  This time, you'll implement the `one_hot_encode` function. The input, `x`, are a list of labels.  Implement the function to return the list of labels as One-Hot encoded Numpy array.  The possible values for labels are 0 to 9. The one-hot encoding function should return the same encoding for each value between each call to `one_hot_encode`.  Make sure to save the map of encodings outside the function.\n",
    "\n",
    "Hint: Don't reinvent the wheel."
   ]
  },
  {
   "cell_type": "code",
   "execution_count": 48,
   "metadata": {
    "collapsed": false,
    "deletable": true,
    "editable": true
   },
   "outputs": [
    {
     "name": "stdout",
     "output_type": "stream",
     "text": [
      "Tests Passed\n"
     ]
    }
   ],
   "source": [
    "global encoded\n",
    "\n",
    "def one_hot_encode(x):\n",
    "    \"\"\"\n",
    "    One hot encode a list of sample labels. Return a one-hot encoded vector for each label.\n",
    "    : x: List of sample Labels\n",
    "    : return: Numpy array of one-hot encoded labels\n",
    "    \"\"\"\n",
    "    # TODO: Implement Function\n",
    "    encoded = np.zeros((len(x), 10))\n",
    "    encoded[np.arange(len(x)), x] = 1\n",
    "    return encoded\n",
    "\n",
    "\n",
    "\"\"\"\n",
    "DON'T MODIFY ANYTHING IN THIS CELL THAT IS BELOW THIS LINE\n",
    "\"\"\"\n",
    "tests.test_one_hot_encode(one_hot_encode)"
   ]
  },
  {
   "cell_type": "markdown",
   "metadata": {
    "deletable": true,
    "editable": true
   },
   "source": [
    "### Randomize Data\n",
    "As you saw from exploring the data above, the order of the samples are randomized.  It doesn't hurt to randomize it again, but you don't need to for this dataset."
   ]
  },
  {
   "cell_type": "markdown",
   "metadata": {
    "deletable": true,
    "editable": true
   },
   "source": [
    "## Preprocess all the data and save it\n",
    "Running the code cell below will preprocess all the CIFAR-10 data and save it to file. The code below also uses 10% of the training data for validation."
   ]
  },
  {
   "cell_type": "code",
   "execution_count": 33,
   "metadata": {
    "collapsed": false,
    "deletable": true,
    "editable": true
   },
   "outputs": [],
   "source": [
    "\"\"\"\n",
    "DON'T MODIFY ANYTHING IN THIS CELL\n",
    "\"\"\"\n",
    "# Preprocess Training, Validation, and Testing Data\n",
    "helper.preprocess_and_save_data(cifar10_dataset_folder_path, normalize, one_hot_encode)"
   ]
  },
  {
   "cell_type": "markdown",
   "metadata": {
    "deletable": true,
    "editable": true
   },
   "source": [
    "# Check Point\n",
    "This is your first checkpoint.  If you ever decide to come back to this notebook or have to restart the notebook, you can start from here.  The preprocessed data has been saved to disk."
   ]
  },
  {
   "cell_type": "code",
   "execution_count": 34,
   "metadata": {
    "collapsed": true,
    "deletable": true,
    "editable": true
   },
   "outputs": [],
   "source": [
    "\"\"\"\n",
    "DON'T MODIFY ANYTHING IN THIS CELL\n",
    "\"\"\"\n",
    "import pickle\n",
    "import problem_unittests as tests\n",
    "import helper\n",
    "\n",
    "# Load the Preprocessed Validation data\n",
    "valid_features, valid_labels = pickle.load(open('preprocess_validation.p', mode='rb'))"
   ]
  },
  {
   "cell_type": "markdown",
   "metadata": {
    "deletable": true,
    "editable": true
   },
   "source": [
    "## Build the network\n",
    "For the neural network, you'll build each layer into a function.  Most of the code you've seen has been outside of functions. To test your code more thoroughly, we require that you put each layer in a function.  This allows us to give you better feedback and test for simple mistakes using our unittests before you submit your project.\n",
    "\n",
    ">**Note:** If you're finding it hard to dedicate enough time for this course each week, we've provided a small shortcut to this part of the project. In the next couple of problems, you'll have the option to use classes from the [TensorFlow Layers](https://www.tensorflow.org/api_docs/python/tf/layers) or [TensorFlow Layers (contrib)](https://www.tensorflow.org/api_guides/python/contrib.layers) packages to build each layer, except the layers you build in the \"Convolutional and Max Pooling Layer\" section.  TF Layers is similar to Keras's and TFLearn's abstraction to layers, so it's easy to pickup.\n",
    "\n",
    ">However, if you would like to get the most out of this course, try to solve all the problems _without_ using anything from the TF Layers packages. You **can** still use classes from other packages that happen to have the same name as ones you find in TF Layers! For example, instead of using the TF Layers version of the `conv2d` class, [tf.layers.conv2d](https://www.tensorflow.org/api_docs/python/tf/layers/conv2d), you would want to use the TF Neural Network version of `conv2d`, [tf.nn.conv2d](https://www.tensorflow.org/api_docs/python/tf/nn/conv2d). \n",
    "\n",
    "Let's begin!\n",
    "\n",
    "### Input\n",
    "The neural network needs to read the image data, one-hot encoded labels, and dropout keep probability. Implement the following functions\n",
    "* Implement `neural_net_image_input`\n",
    " * Return a [TF Placeholder](https://www.tensorflow.org/api_docs/python/tf/placeholder)\n",
    " * Set the shape using `image_shape` with batch size set to `None`.\n",
    " * Name the TensorFlow placeholder \"x\" using the TensorFlow `name` parameter in the [TF Placeholder](https://www.tensorflow.org/api_docs/python/tf/placeholder).\n",
    "* Implement `neural_net_label_input`\n",
    " * Return a [TF Placeholder](https://www.tensorflow.org/api_docs/python/tf/placeholder)\n",
    " * Set the shape using `n_classes` with batch size set to `None`.\n",
    " * Name the TensorFlow placeholder \"y\" using the TensorFlow `name` parameter in the [TF Placeholder](https://www.tensorflow.org/api_docs/python/tf/placeholder).\n",
    "* Implement `neural_net_keep_prob_input`\n",
    " * Return a [TF Placeholder](https://www.tensorflow.org/api_docs/python/tf/placeholder) for dropout keep probability.\n",
    " * Name the TensorFlow placeholder \"keep_prob\" using the TensorFlow `name` parameter in the [TF Placeholder](https://www.tensorflow.org/api_docs/python/tf/placeholder).\n",
    "\n",
    "These names will be used at the end of the project to load your saved model.\n",
    "\n",
    "Note: `None` for shapes in TensorFlow allow for a dynamic size."
   ]
  },
  {
   "cell_type": "code",
   "execution_count": 43,
   "metadata": {
    "collapsed": false,
    "deletable": true,
    "editable": true
   },
   "outputs": [
    {
     "name": "stdout",
     "output_type": "stream",
     "text": [
      "Image Input Tests Passed.\n",
      "Label Input Tests Passed.\n",
      "Keep Prob Tests Passed.\n"
     ]
    }
   ],
   "source": [
    "import tensorflow as tf\n",
    "\n",
    "def neural_net_image_input(image_shape):\n",
    "    \"\"\"\n",
    "    Return a Tensor for a bach of image input\n",
    "    : image_shape: Shape of the images\n",
    "    : return: Tensor for image input.\n",
    "    \"\"\"\n",
    "    # TODO: Implement Function\n",
    "    return tf.placeholder(tf.float32, [None, *image_shape[:]], name=\"x\")\n",
    "\n",
    "\n",
    "def neural_net_label_input(n_classes):\n",
    "    \"\"\"\n",
    "    Return a Tensor for a batch of label input\n",
    "    : n_classes: Number of classes\n",
    "    : return: Tensor for label input.\n",
    "    \"\"\"\n",
    "    # TODO: Implement Function\n",
    "    return tf.placeholder(tf.float32, [None, n_classes], name=\"y\")\n",
    "\n",
    "\n",
    "def neural_net_keep_prob_input():\n",
    "    \"\"\"\n",
    "    Return a Tensor for keep probability\n",
    "    : return: Tensor for keep probability.\n",
    "    \"\"\"\n",
    "    # TODO: Implement Function\n",
    "    return tf.placeholder(tf.float32, name=\"keep_prob\")\n",
    "\n",
    "\n",
    "\"\"\"\n",
    "DON'T MODIFY ANYTHING IN THIS CELL THAT IS BELOW THIS LINE\n",
    "\"\"\"\n",
    "tf.reset_default_graph()\n",
    "tests.test_nn_image_inputs(neural_net_image_input)\n",
    "tests.test_nn_label_inputs(neural_net_label_input)\n",
    "tests.test_nn_keep_prob_inputs(neural_net_keep_prob_input)"
   ]
  },
  {
   "cell_type": "markdown",
   "metadata": {
    "deletable": true,
    "editable": true
   },
   "source": [
    "### Convolution and Max Pooling Layer\n",
    "Convolution layers have a lot of success with images. For this code cell, you should implement the function `conv2d_maxpool` to apply convolution then max pooling:\n",
    "* Create the weight and bias using `conv_ksize`, `conv_num_outputs` and the shape of `x_tensor`.\n",
    "* Apply a convolution to `x_tensor` using weight and `conv_strides`.\n",
    " * We recommend you use same padding, but you're welcome to use any padding.\n",
    "* Add bias\n",
    "* Add a nonlinear activation to the convolution.\n",
    "* Apply Max Pooling using `pool_ksize` and `pool_strides`.\n",
    " * We recommend you use same padding, but you're welcome to use any padding.\n",
    "\n",
    "**Note:** You **can't** use [TensorFlow Layers](https://www.tensorflow.org/api_docs/python/tf/layers) or [TensorFlow Layers (contrib)](https://www.tensorflow.org/api_guides/python/contrib.layers) for **this** layer, but you can still use TensorFlow's [Neural Network](https://www.tensorflow.org/api_docs/python/tf/nn) package. You may still use the shortcut option for all the **other** layers."
   ]
  },
  {
   "cell_type": "code",
   "execution_count": 98,
   "metadata": {
    "collapsed": false,
    "deletable": true,
    "editable": true
   },
   "outputs": [
    {
     "name": "stdout",
     "output_type": "stream",
     "text": [
      "Tests Passed\n"
     ]
    }
   ],
   "source": [
    "def conv2d_maxpool(x_tensor, conv_num_outputs, conv_ksize, conv_strides, pool_ksize, pool_strides):\n",
    "    \"\"\"\n",
    "    Apply convolution then max pooling to x_tensor\n",
    "    :param x_tensor: TensorFlow Tensor\n",
    "    :param conv_num_outputs: Number of outputs for the convolutional layer\n",
    "    :param conv_ksize: kernal size 2-D Tuple for the convolutional layer\n",
    "    :param conv_strides: Stride 2-D Tuple for convolution\n",
    "    :param pool_ksize: kernal size 2-D Tuple for pool\n",
    "    :param pool_strides: Stride 2-D Tuple for pool\n",
    "    : return: A tensor that represents convolution and max pooling of x_tensor\n",
    "    \"\"\"\n",
    "    # TODO: Implement Function\n",
    "    weight = tf.Variable(tf.truncated_normal([*conv_ksize[:], x_tensor.shape[3].value, conv_num_outputs], stddev=0.1))\n",
    "    bias = tf.Variable(tf.zeros([conv_num_outputs]))\n",
    "    x_tensor = tf.nn.conv2d(x_tensor, weight, strides=[1, *conv_strides[:], 1], padding='SAME')\n",
    "    x_tensor = tf.nn.bias_add(x_tensor, bias)\n",
    "    x_tensor = tf.nn.relu(x_tensor)\n",
    "    return tf.nn.max_pool(\n",
    "        x_tensor,\n",
    "        ksize=[1, *pool_ksize[:], 1],\n",
    "        strides=[1, *pool_strides[:], 1],\n",
    "        padding='SAME') \n",
    "\n",
    "\n",
    "\"\"\"\n",
    "DON'T MODIFY ANYTHING IN THIS CELL THAT IS BELOW THIS LINE\n",
    "\"\"\"\n",
    "tests.test_con_pool(conv2d_maxpool)"
   ]
  },
  {
   "cell_type": "markdown",
   "metadata": {
    "deletable": true,
    "editable": true
   },
   "source": [
    "### Flatten Layer\n",
    "Implement the `flatten` function to change the dimension of `x_tensor` from a 4-D tensor to a 2-D tensor.  The output should be the shape (*Batch Size*, *Flattened Image Size*). Shortcut option: you can use classes from the [TensorFlow Layers](https://www.tensorflow.org/api_docs/python/tf/layers) or [TensorFlow Layers (contrib)](https://www.tensorflow.org/api_guides/python/contrib.layers) packages for this layer. For more of a challenge, only use other TensorFlow packages."
   ]
  },
  {
   "cell_type": "code",
   "execution_count": 74,
   "metadata": {
    "collapsed": false,
    "deletable": true,
    "editable": true
   },
   "outputs": [
    {
     "name": "stdout",
     "output_type": "stream",
     "text": [
      "Tests Passed\n"
     ]
    }
   ],
   "source": [
    "def flatten(x_tensor):\n",
    "    \"\"\"\n",
    "    Flatten x_tensor to (Batch Size, Flattened Image Size)\n",
    "    : x_tensor: A tensor of size (Batch Size, ...), where ... are the image dimensions.\n",
    "    : return: A tensor of size (Batch Size, Flattened Image Size).\n",
    "    \"\"\"\n",
    "    # TODO: Implement Function\n",
    "    dim = x_tensor.shape[1].value * x_tensor.shape[2].value * x_tensor.shape[3].value\n",
    "    return tf.reshape(x_tensor, [-1, dim])\n",
    "\n",
    "\n",
    "\"\"\"\n",
    "DON'T MODIFY ANYTHING IN THIS CELL THAT IS BELOW THIS LINE\n",
    "\"\"\"\n",
    "tests.test_flatten(flatten)"
   ]
  },
  {
   "cell_type": "markdown",
   "metadata": {
    "deletable": true,
    "editable": true
   },
   "source": [
    "### Fully-Connected Layer\n",
    "Implement the `fully_conn` function to apply a fully connected layer to `x_tensor` with the shape (*Batch Size*, *num_outputs*). Shortcut option: you can use classes from the [TensorFlow Layers](https://www.tensorflow.org/api_docs/python/tf/layers) or [TensorFlow Layers (contrib)](https://www.tensorflow.org/api_guides/python/contrib.layers) packages for this layer. For more of a challenge, only use other TensorFlow packages."
   ]
  },
  {
   "cell_type": "code",
   "execution_count": 99,
   "metadata": {
    "collapsed": false,
    "deletable": true,
    "editable": true
   },
   "outputs": [
    {
     "name": "stdout",
     "output_type": "stream",
     "text": [
      "Tests Passed\n"
     ]
    }
   ],
   "source": [
    "def fully_conn(x_tensor, num_outputs):\n",
    "    \"\"\"\n",
    "    Apply a fully connected layer to x_tensor using weight and bias\n",
    "    : x_tensor: A 2-D tensor where the first dimension is batch size.\n",
    "    : num_outputs: The number of output that the new tensor should be.\n",
    "    : return: A 2-D tensor where the second dimension is num_outputs.\n",
    "    \"\"\"\n",
    "    # TODO: Implement Function\n",
    "    weight = tf.Variable(tf.truncated_normal([x_tensor.shape[1].value, num_outputs], stddev=0.1))\n",
    "    bias = tf.Variable(tf.zeros([num_outputs]))\n",
    "    x_tensor = tf.add(tf.matmul(x_tensor, weight), bias)\n",
    "    return tf.nn.relu(x_tensor)\n",
    "\n",
    "\n",
    "\"\"\"\n",
    "DON'T MODIFY ANYTHING IN THIS CELL THAT IS BELOW THIS LINE\n",
    "\"\"\"\n",
    "tests.test_fully_conn(fully_conn)"
   ]
  },
  {
   "cell_type": "markdown",
   "metadata": {
    "deletable": true,
    "editable": true
   },
   "source": [
    "### Output Layer\n",
    "Implement the `output` function to apply a fully connected layer to `x_tensor` with the shape (*Batch Size*, *num_outputs*). Shortcut option: you can use classes from the [TensorFlow Layers](https://www.tensorflow.org/api_docs/python/tf/layers) or [TensorFlow Layers (contrib)](https://www.tensorflow.org/api_guides/python/contrib.layers) packages for this layer. For more of a challenge, only use other TensorFlow packages.\n",
    "\n",
    "**Note:** Activation, softmax, or cross entropy should **not** be applied to this."
   ]
  },
  {
   "cell_type": "code",
   "execution_count": 100,
   "metadata": {
    "collapsed": false,
    "deletable": true,
    "editable": true
   },
   "outputs": [
    {
     "name": "stdout",
     "output_type": "stream",
     "text": [
      "Tests Passed\n"
     ]
    }
   ],
   "source": [
    "def output(x_tensor, num_outputs):\n",
    "    \"\"\"\n",
    "    Apply a output layer to x_tensor using weight and bias\n",
    "    : x_tensor: A 2-D tensor where the first dimension is batch size.\n",
    "    : num_outputs: The number of output that the new tensor should be.\n",
    "    : return: A 2-D tensor where the second dimension is num_outputs.\n",
    "    \"\"\"\n",
    "    # TODO: Implement Function\n",
    "    weight = tf.Variable(tf.truncated_normal([x_tensor.shape[1].value, num_outputs], stddev=0.1))\n",
    "    bias = tf.Variable(tf.zeros([num_outputs]))\n",
    "    return tf.add(tf.matmul(x_tensor, weight), bias)\n",
    "\n",
    "\n",
    "\"\"\"\n",
    "DON'T MODIFY ANYTHING IN THIS CELL THAT IS BELOW THIS LINE\n",
    "\"\"\"\n",
    "tests.test_output(output)"
   ]
  },
  {
   "cell_type": "markdown",
   "metadata": {
    "deletable": true,
    "editable": true
   },
   "source": [
    "### Create Convolutional Model\n",
    "Implement the function `conv_net` to create a convolutional neural network model. The function takes in a batch of images, `x`, and outputs logits.  Use the layers you created above to create this model:\n",
    "\n",
    "* Apply 1, 2, or 3 Convolution and Max Pool layers\n",
    "* Apply a Flatten Layer\n",
    "* Apply 1, 2, or 3 Fully Connected Layers\n",
    "* Apply an Output Layer\n",
    "* Return the output\n",
    "* Apply [TensorFlow's Dropout](https://www.tensorflow.org/api_docs/python/tf/nn/dropout) to one or more layers in the model using `keep_prob`. "
   ]
  },
  {
   "cell_type": "code",
   "execution_count": 101,
   "metadata": {
    "collapsed": false,
    "deletable": true,
    "editable": true
   },
   "outputs": [
    {
     "name": "stdout",
     "output_type": "stream",
     "text": [
      "Neural Network Built!\n"
     ]
    }
   ],
   "source": [
    "def conv_net(x, keep_prob):\n",
    "    \"\"\"\n",
    "    Create a convolutional neural network model\n",
    "    : x: Placeholder tensor that holds image data.\n",
    "    : keep_prob: Placeholder tensor that hold dropout keep probability.\n",
    "    : return: Tensor that represents logits\n",
    "    \"\"\"\n",
    "    # TODO: Apply 1, 2, or 3 Convolution and Max Pool layers\n",
    "    #    Play around with different number of outputs, kernel size and stride\n",
    "    # Function Definition from Above:\n",
    "    #    conv2d_maxpool(x_tensor, conv_num_outputs, conv_ksize, conv_strides, pool_ksize, pool_strides)\n",
    "    \n",
    "    x = conv2d_maxpool(x, 18, (2, 2), (1, 1), (2, 2), (2, 2))\n",
    "    x = tf.nn.dropout(x, keep_prob)\n",
    "\n",
    "    # TODO: Apply a Flatten Layer\n",
    "    # Function Definition from Above:\n",
    "    #   flatten(x_tensor)\n",
    "    \n",
    "    x = flatten(x)\n",
    "    \n",
    "    # TODO: Apply 1, 2, or 3 Fully Connected Layers\n",
    "    #    Play around with different number of outputs\n",
    "    # Function Definition from Above:\n",
    "    #   fully_conn(x_tensor, num_outputs)\n",
    "    \n",
    "    x = fully_conn(x, 384)\n",
    "    x = tf.nn.dropout(x, keep_prob)\n",
    "    \n",
    "    # TODO: Apply an Output Layer\n",
    "    #    Set this to the number of classes\n",
    "    # Function Definition from Above:\n",
    "    #   output(x_tensor, num_outputs)\n",
    "    \n",
    "    x = output(x, 10)\n",
    "    \n",
    "    # TODO: return output\n",
    "    return x\n",
    "\n",
    "\n",
    "\"\"\"\n",
    "DON'T MODIFY ANYTHING IN THIS CELL THAT IS BELOW THIS LINE\n",
    "\"\"\"\n",
    "\n",
    "##############################\n",
    "## Build the Neural Network ##\n",
    "##############################\n",
    "\n",
    "# Remove previous weights, bias, inputs, etc..\n",
    "tf.reset_default_graph()\n",
    "\n",
    "# Inputs\n",
    "x = neural_net_image_input((32, 32, 3))\n",
    "y = neural_net_label_input(10)\n",
    "keep_prob = neural_net_keep_prob_input()\n",
    "\n",
    "# Model\n",
    "logits = conv_net(x, keep_prob)\n",
    "\n",
    "# Name logits Tensor, so that is can be loaded from disk after training\n",
    "logits = tf.identity(logits, name='logits')\n",
    "\n",
    "# Loss and Optimizer\n",
    "cost = tf.reduce_mean(tf.nn.softmax_cross_entropy_with_logits(logits=logits, labels=y))\n",
    "optimizer = tf.train.AdamOptimizer().minimize(cost)\n",
    "\n",
    "# Accuracy\n",
    "correct_pred = tf.equal(tf.argmax(logits, 1), tf.argmax(y, 1))\n",
    "accuracy = tf.reduce_mean(tf.cast(correct_pred, tf.float32), name='accuracy')\n",
    "\n",
    "tests.test_conv_net(conv_net)"
   ]
  },
  {
   "cell_type": "markdown",
   "metadata": {
    "deletable": true,
    "editable": true
   },
   "source": [
    "## Train the Neural Network\n",
    "### Single Optimization\n",
    "Implement the function `train_neural_network` to do a single optimization.  The optimization should use `optimizer` to optimize in `session` with a `feed_dict` of the following:\n",
    "* `x` for image input\n",
    "* `y` for labels\n",
    "* `keep_prob` for keep probability for dropout\n",
    "\n",
    "This function will be called for each batch, so `tf.global_variables_initializer()` has already been called.\n",
    "\n",
    "Note: Nothing needs to be returned. This function is only optimizing the neural network."
   ]
  },
  {
   "cell_type": "code",
   "execution_count": 94,
   "metadata": {
    "collapsed": false,
    "deletable": true,
    "editable": true
   },
   "outputs": [
    {
     "name": "stdout",
     "output_type": "stream",
     "text": [
      "Tests Passed\n"
     ]
    }
   ],
   "source": [
    "def train_neural_network(session, optimizer, keep_probability, feature_batch, label_batch):\n",
    "    \"\"\"\n",
    "    Optimize the session on a batch of images and labels\n",
    "    : session: Current TensorFlow session\n",
    "    : optimizer: TensorFlow optimizer function\n",
    "    : keep_probability: keep probability\n",
    "    : feature_batch: Batch of Numpy image data\n",
    "    : label_batch: Batch of Numpy label data\n",
    "    \"\"\"\n",
    "    # TODO: Implement Function\n",
    "    session.run(optimizer, feed_dict={\n",
    "            x: feature_batch,\n",
    "            y: label_batch,\n",
    "            keep_prob: keep_probability})\n",
    "\n",
    "\n",
    "\"\"\"\n",
    "DON'T MODIFY ANYTHING IN THIS CELL THAT IS BELOW THIS LINE\n",
    "\"\"\"\n",
    "tests.test_train_nn(train_neural_network)"
   ]
  },
  {
   "cell_type": "markdown",
   "metadata": {
    "deletable": true,
    "editable": true
   },
   "source": [
    "### Show Stats\n",
    "Implement the function `print_stats` to print loss and validation accuracy.  Use the global variables `valid_features` and `valid_labels` to calculate validation accuracy.  Use a keep probability of `1.0` to calculate the loss and validation accuracy."
   ]
  },
  {
   "cell_type": "code",
   "execution_count": 95,
   "metadata": {
    "collapsed": false,
    "deletable": true,
    "editable": true
   },
   "outputs": [],
   "source": [
    "def print_stats(session, feature_batch, label_batch, cost, accuracy):\n",
    "    \"\"\"\n",
    "    Print information about loss and validation accuracy\n",
    "    : session: Current TensorFlow session\n",
    "    : feature_batch: Batch of Numpy image data\n",
    "    : label_batch: Batch of Numpy label data\n",
    "    : cost: TensorFlow cost function\n",
    "    : accuracy: TensorFlow accuracy function\n",
    "    \"\"\"\n",
    "    # TODO: Implement Function\n",
    "    loss = session.run(cost, feed_dict={\n",
    "        x: feature_batch,\n",
    "        y: label_batch,\n",
    "        keep_prob: 1.})\n",
    "    valid_acc = session.run(accuracy, feed_dict={\n",
    "                x: valid_features,\n",
    "                y: valid_labels,\n",
    "                keep_prob: 1.})\n",
    "    \n",
    "    print('Loss: {:>10.4f} Validation Accuracy: {:.6f}'.format(loss, valid_acc))"
   ]
  },
  {
   "cell_type": "markdown",
   "metadata": {
    "deletable": true,
    "editable": true
   },
   "source": [
    "### Hyperparameters\n",
    "Tune the following parameters:\n",
    "* Set `epochs` to the number of iterations until the network stops learning or start overfitting\n",
    "* Set `batch_size` to the highest number that your machine has memory for.  Most people set them to common sizes of memory:\n",
    " * 64\n",
    " * 128\n",
    " * 256\n",
    " * ...\n",
    "* Set `keep_probability` to the probability of keeping a node using dropout"
   ]
  },
  {
   "cell_type": "code",
   "execution_count": 104,
   "metadata": {
    "collapsed": true,
    "deletable": true,
    "editable": true
   },
   "outputs": [],
   "source": [
    "# TODO: Tune Parameters\n",
    "epochs = 25\n",
    "batch_size = 128\n",
    "keep_probability = 0.5"
   ]
  },
  {
   "cell_type": "markdown",
   "metadata": {
    "deletable": true,
    "editable": true
   },
   "source": [
    "### Train on a Single CIFAR-10 Batch\n",
    "Instead of training the neural network on all the CIFAR-10 batches of data, let's use a single batch. This should save time while you iterate on the model to get a better accuracy.  Once the final validation accuracy is 50% or greater, run the model on all the data in the next section."
   ]
  },
  {
   "cell_type": "code",
   "execution_count": 102,
   "metadata": {
    "collapsed": false,
    "deletable": true,
    "editable": true
   },
   "outputs": [
    {
     "name": "stdout",
     "output_type": "stream",
     "text": [
      "Checking the Training on a Single Batch...\n",
      "Epoch  1, CIFAR-10 Batch 1:  Loss:     2.1514 Validation Accuracy: 0.265000\n",
      "Epoch  2, CIFAR-10 Batch 1:  Loss:     1.9291 Validation Accuracy: 0.369000\n",
      "Epoch  3, CIFAR-10 Batch 1:  Loss:     1.7368 Validation Accuracy: 0.413000\n",
      "Epoch  4, CIFAR-10 Batch 1:  Loss:     1.5990 Validation Accuracy: 0.451800\n",
      "Epoch  5, CIFAR-10 Batch 1:  Loss:     1.4720 Validation Accuracy: 0.475400\n",
      "Epoch  6, CIFAR-10 Batch 1:  Loss:     1.3667 Validation Accuracy: 0.487400\n",
      "Epoch  7, CIFAR-10 Batch 1:  Loss:     1.2937 Validation Accuracy: 0.499000\n",
      "Epoch  8, CIFAR-10 Batch 1:  Loss:     1.2086 Validation Accuracy: 0.509400\n",
      "Epoch  9, CIFAR-10 Batch 1:  Loss:     1.1478 Validation Accuracy: 0.512600\n",
      "Epoch 10, CIFAR-10 Batch 1:  Loss:     1.0498 Validation Accuracy: 0.520000\n",
      "Epoch 11, CIFAR-10 Batch 1:  Loss:     1.0038 Validation Accuracy: 0.527600\n",
      "Epoch 12, CIFAR-10 Batch 1:  Loss:     0.9291 Validation Accuracy: 0.527400\n",
      "Epoch 13, CIFAR-10 Batch 1:  Loss:     0.8507 Validation Accuracy: 0.533800\n",
      "Epoch 14, CIFAR-10 Batch 1:  Loss:     0.8397 Validation Accuracy: 0.538600\n",
      "Epoch 15, CIFAR-10 Batch 1:  Loss:     0.7839 Validation Accuracy: 0.537200\n",
      "Epoch 16, CIFAR-10 Batch 1:  Loss:     0.7410 Validation Accuracy: 0.537800\n",
      "Epoch 17, CIFAR-10 Batch 1:  Loss:     0.7043 Validation Accuracy: 0.546800\n",
      "Epoch 18, CIFAR-10 Batch 1:  Loss:     0.6601 Validation Accuracy: 0.545200\n",
      "Epoch 19, CIFAR-10 Batch 1:  Loss:     0.6168 Validation Accuracy: 0.550600\n",
      "Epoch 20, CIFAR-10 Batch 1:  Loss:     0.5765 Validation Accuracy: 0.550200\n",
      "Epoch 21, CIFAR-10 Batch 1:  Loss:     0.5417 Validation Accuracy: 0.548400\n",
      "Epoch 22, CIFAR-10 Batch 1:  Loss:     0.5048 Validation Accuracy: 0.544600\n",
      "Epoch 23, CIFAR-10 Batch 1:  Loss:     0.4461 Validation Accuracy: 0.555600\n",
      "Epoch 24, CIFAR-10 Batch 1:  Loss:     0.4352 Validation Accuracy: 0.554400\n",
      "Epoch 25, CIFAR-10 Batch 1:  Loss:     0.4186 Validation Accuracy: 0.560000\n",
      "Epoch 26, CIFAR-10 Batch 1:  Loss:     0.3981 Validation Accuracy: 0.556600\n",
      "Epoch 27, CIFAR-10 Batch 1:  Loss:     0.3505 Validation Accuracy: 0.561200\n",
      "Epoch 28, CIFAR-10 Batch 1:  Loss:     0.3428 Validation Accuracy: 0.557800\n",
      "Epoch 29, CIFAR-10 Batch 1:  Loss:     0.2969 Validation Accuracy: 0.557600\n",
      "Epoch 30, CIFAR-10 Batch 1:  Loss:     0.2921 Validation Accuracy: 0.561200\n",
      "Epoch 31, CIFAR-10 Batch 1:  Loss:     0.2649 Validation Accuracy: 0.566200\n",
      "Epoch 32, CIFAR-10 Batch 1:  Loss:     0.2855 Validation Accuracy: 0.556400\n",
      "Epoch 33, CIFAR-10 Batch 1:  Loss:     0.2348 Validation Accuracy: 0.562000\n",
      "Epoch 34, CIFAR-10 Batch 1:  Loss:     0.2308 Validation Accuracy: 0.560800\n",
      "Epoch 35, CIFAR-10 Batch 1:  Loss:     0.2091 Validation Accuracy: 0.564200\n",
      "Epoch 36, CIFAR-10 Batch 1:  Loss:     0.1718 Validation Accuracy: 0.566000\n",
      "Epoch 37, CIFAR-10 Batch 1:  Loss:     0.1933 Validation Accuracy: 0.553600\n",
      "Epoch 38, CIFAR-10 Batch 1:  Loss:     0.1513 Validation Accuracy: 0.565000\n",
      "Epoch 39, CIFAR-10 Batch 1:  Loss:     0.1515 Validation Accuracy: 0.566800\n",
      "Epoch 40, CIFAR-10 Batch 1:  Loss:     0.1245 Validation Accuracy: 0.570200\n",
      "Epoch 41, CIFAR-10 Batch 1:  Loss:     0.1280 Validation Accuracy: 0.563400\n",
      "Epoch 42, CIFAR-10 Batch 1:  Loss:     0.1116 Validation Accuracy: 0.568800\n",
      "Epoch 43, CIFAR-10 Batch 1:  Loss:     0.1004 Validation Accuracy: 0.574000\n",
      "Epoch 44, CIFAR-10 Batch 1:  Loss:     0.1011 Validation Accuracy: 0.567200\n",
      "Epoch 45, CIFAR-10 Batch 1:  Loss:     0.0733 Validation Accuracy: 0.571400\n",
      "Epoch 46, CIFAR-10 Batch 1:  Loss:     0.0705 Validation Accuracy: 0.574600\n",
      "Epoch 47, CIFAR-10 Batch 1:  Loss:     0.0744 Validation Accuracy: 0.573400\n",
      "Epoch 48, CIFAR-10 Batch 1:  Loss:     0.0718 Validation Accuracy: 0.571200\n",
      "Epoch 49, CIFAR-10 Batch 1:  Loss:     0.0680 Validation Accuracy: 0.572400\n",
      "Epoch 50, CIFAR-10 Batch 1:  Loss:     0.0678 Validation Accuracy: 0.569800\n",
      "Epoch 51, CIFAR-10 Batch 1:  Loss:     0.0668 Validation Accuracy: 0.576400\n",
      "Epoch 52, CIFAR-10 Batch 1:  Loss:     0.0501 Validation Accuracy: 0.572600\n",
      "Epoch 53, CIFAR-10 Batch 1:  Loss:     0.0474 Validation Accuracy: 0.573400\n",
      "Epoch 54, CIFAR-10 Batch 1:  Loss:     0.0490 Validation Accuracy: 0.568600\n",
      "Epoch 55, CIFAR-10 Batch 1:  Loss:     0.0438 Validation Accuracy: 0.573200\n",
      "Epoch 56, CIFAR-10 Batch 1:  Loss:     0.0394 Validation Accuracy: 0.574800\n",
      "Epoch 57, CIFAR-10 Batch 1:  Loss:     0.0478 Validation Accuracy: 0.570400\n",
      "Epoch 58, CIFAR-10 Batch 1:  Loss:     0.0340 Validation Accuracy: 0.571000\n",
      "Epoch 59, CIFAR-10 Batch 1:  Loss:     0.0367 Validation Accuracy: 0.565400\n",
      "Epoch 60, CIFAR-10 Batch 1:  Loss:     0.0407 Validation Accuracy: 0.570600\n",
      "Epoch 61, CIFAR-10 Batch 1:  Loss:     0.0327 Validation Accuracy: 0.567200\n",
      "Epoch 62, CIFAR-10 Batch 1:  Loss:     0.0328 Validation Accuracy: 0.572000\n",
      "Epoch 63, CIFAR-10 Batch 1:  Loss:     0.0235 Validation Accuracy: 0.576600\n",
      "Epoch 64, CIFAR-10 Batch 1:  Loss:     0.0271 Validation Accuracy: 0.572600\n",
      "Epoch 65, CIFAR-10 Batch 1:  Loss:     0.0215 Validation Accuracy: 0.572000\n",
      "Epoch 66, CIFAR-10 Batch 1:  Loss:     0.0228 Validation Accuracy: 0.567000\n",
      "Epoch 67, CIFAR-10 Batch 1:  Loss:     0.0164 Validation Accuracy: 0.574400\n",
      "Epoch 68, CIFAR-10 Batch 1:  Loss:     0.0199 Validation Accuracy: 0.572600\n",
      "Epoch 69, CIFAR-10 Batch 1:  Loss:     0.0196 Validation Accuracy: 0.577800\n",
      "Epoch 70, CIFAR-10 Batch 1:  Loss:     0.0177 Validation Accuracy: 0.579400\n",
      "Epoch 71, CIFAR-10 Batch 1:  Loss:     0.0155 Validation Accuracy: 0.575000\n",
      "Epoch 72, CIFAR-10 Batch 1:  Loss:     0.0133 Validation Accuracy: 0.575600\n",
      "Epoch 73, CIFAR-10 Batch 1:  Loss:     0.0117 Validation Accuracy: 0.578800\n",
      "Epoch 74, CIFAR-10 Batch 1:  Loss:     0.0108 Validation Accuracy: 0.571400\n",
      "Epoch 75, CIFAR-10 Batch 1:  Loss:     0.0110 Validation Accuracy: 0.575600\n",
      "Epoch 76, CIFAR-10 Batch 1:  Loss:     0.0106 Validation Accuracy: 0.576600\n",
      "Epoch 77, CIFAR-10 Batch 1:  Loss:     0.0102 Validation Accuracy: 0.575400\n",
      "Epoch 78, CIFAR-10 Batch 1:  Loss:     0.0098 Validation Accuracy: 0.569200\n",
      "Epoch 79, CIFAR-10 Batch 1:  Loss:     0.0100 Validation Accuracy: 0.573800\n",
      "Epoch 80, CIFAR-10 Batch 1:  Loss:     0.0101 Validation Accuracy: 0.570800\n",
      "Epoch 81, CIFAR-10 Batch 1:  Loss:     0.0081 Validation Accuracy: 0.573800\n",
      "Epoch 82, CIFAR-10 Batch 1:  Loss:     0.0066 Validation Accuracy: 0.573800\n",
      "Epoch 83, CIFAR-10 Batch 1:  Loss:     0.0085 Validation Accuracy: 0.567800\n",
      "Epoch 84, CIFAR-10 Batch 1:  Loss:     0.0075 Validation Accuracy: 0.573800\n",
      "Epoch 85, CIFAR-10 Batch 1:  Loss:     0.0052 Validation Accuracy: 0.575000\n",
      "Epoch 86, CIFAR-10 Batch 1:  Loss:     0.0066 Validation Accuracy: 0.577600\n",
      "Epoch 87, CIFAR-10 Batch 1:  Loss:     0.0066 Validation Accuracy: 0.568800\n",
      "Epoch 88, CIFAR-10 Batch 1:  Loss:     0.0059 Validation Accuracy: 0.570400\n",
      "Epoch 89, CIFAR-10 Batch 1:  Loss:     0.0070 Validation Accuracy: 0.573000\n",
      "Epoch 90, CIFAR-10 Batch 1:  Loss:     0.0063 Validation Accuracy: 0.568600\n",
      "Epoch 91, CIFAR-10 Batch 1:  Loss:     0.0081 Validation Accuracy: 0.563800\n",
      "Epoch 92, CIFAR-10 Batch 1:  Loss:     0.0059 Validation Accuracy: 0.566800\n",
      "Epoch 93, CIFAR-10 Batch 1:  Loss:     0.0041 Validation Accuracy: 0.575800\n",
      "Epoch 94, CIFAR-10 Batch 1:  Loss:     0.0046 Validation Accuracy: 0.573400\n",
      "Epoch 95, CIFAR-10 Batch 1:  Loss:     0.0042 Validation Accuracy: 0.577200\n",
      "Epoch 96, CIFAR-10 Batch 1:  Loss:     0.0048 Validation Accuracy: 0.575600\n",
      "Epoch 97, CIFAR-10 Batch 1:  Loss:     0.0047 Validation Accuracy: 0.578200\n",
      "Epoch 98, CIFAR-10 Batch 1:  Loss:     0.0049 Validation Accuracy: 0.574200\n",
      "Epoch 99, CIFAR-10 Batch 1:  Loss:     0.0037 Validation Accuracy: 0.575600\n",
      "Epoch 100, CIFAR-10 Batch 1:  Loss:     0.0037 Validation Accuracy: 0.572200\n"
     ]
    }
   ],
   "source": [
    "\"\"\"\n",
    "DON'T MODIFY ANYTHING IN THIS CELL\n",
    "\"\"\"\n",
    "print('Checking the Training on a Single Batch...')\n",
    "with tf.Session() as sess:\n",
    "    # Initializing the variables\n",
    "    sess.run(tf.global_variables_initializer())\n",
    "    \n",
    "    # Training cycle\n",
    "    for epoch in range(epochs):\n",
    "        batch_i = 1\n",
    "        for batch_features, batch_labels in helper.load_preprocess_training_batch(batch_i, batch_size):\n",
    "            train_neural_network(sess, optimizer, keep_probability, batch_features, batch_labels)\n",
    "        print('Epoch {:>2}, CIFAR-10 Batch {}:  '.format(epoch + 1, batch_i), end='')\n",
    "        print_stats(sess, batch_features, batch_labels, cost, accuracy)"
   ]
  },
  {
   "cell_type": "markdown",
   "metadata": {
    "deletable": true,
    "editable": true
   },
   "source": [
    "### Fully Train the Model\n",
    "Now that you got a good accuracy with a single CIFAR-10 batch, try it with all five batches."
   ]
  },
  {
   "cell_type": "code",
   "execution_count": 103,
   "metadata": {
    "collapsed": false,
    "deletable": true,
    "editable": true
   },
   "outputs": [
    {
     "name": "stdout",
     "output_type": "stream",
     "text": [
      "Training...\n",
      "Epoch  1, CIFAR-10 Batch 1:  Loss:     2.0445 Validation Accuracy: 0.328600\n",
      "Epoch  1, CIFAR-10 Batch 2:  Loss:     1.7384 Validation Accuracy: 0.409400\n",
      "Epoch  1, CIFAR-10 Batch 3:  Loss:     1.4965 Validation Accuracy: 0.449400\n",
      "Epoch  1, CIFAR-10 Batch 4:  Loss:     1.4467 Validation Accuracy: 0.475800\n",
      "Epoch  1, CIFAR-10 Batch 5:  Loss:     1.5826 Validation Accuracy: 0.491000\n",
      "Epoch  2, CIFAR-10 Batch 1:  Loss:     1.5324 Validation Accuracy: 0.502200\n",
      "Epoch  2, CIFAR-10 Batch 2:  Loss:     1.3043 Validation Accuracy: 0.514600\n",
      "Epoch  2, CIFAR-10 Batch 3:  Loss:     1.1600 Validation Accuracy: 0.519200\n",
      "Epoch  2, CIFAR-10 Batch 4:  Loss:     1.2164 Validation Accuracy: 0.543800\n",
      "Epoch  2, CIFAR-10 Batch 5:  Loss:     1.4332 Validation Accuracy: 0.536200\n",
      "Epoch  3, CIFAR-10 Batch 1:  Loss:     1.3356 Validation Accuracy: 0.548600\n",
      "Epoch  3, CIFAR-10 Batch 2:  Loss:     1.1823 Validation Accuracy: 0.550200\n",
      "Epoch  3, CIFAR-10 Batch 3:  Loss:     1.0186 Validation Accuracy: 0.544600\n",
      "Epoch  3, CIFAR-10 Batch 4:  Loss:     1.1219 Validation Accuracy: 0.563600\n",
      "Epoch  3, CIFAR-10 Batch 5:  Loss:     1.2389 Validation Accuracy: 0.560800\n",
      "Epoch  4, CIFAR-10 Batch 1:  Loss:     1.2253 Validation Accuracy: 0.569400\n",
      "Epoch  4, CIFAR-10 Batch 2:  Loss:     1.0988 Validation Accuracy: 0.567000\n",
      "Epoch  4, CIFAR-10 Batch 3:  Loss:     0.8902 Validation Accuracy: 0.566400\n",
      "Epoch  4, CIFAR-10 Batch 4:  Loss:     1.0437 Validation Accuracy: 0.578000\n",
      "Epoch  4, CIFAR-10 Batch 5:  Loss:     1.1234 Validation Accuracy: 0.575400\n",
      "Epoch  5, CIFAR-10 Batch 1:  Loss:     1.1403 Validation Accuracy: 0.586400\n",
      "Epoch  5, CIFAR-10 Batch 2:  Loss:     0.9830 Validation Accuracy: 0.577000\n",
      "Epoch  5, CIFAR-10 Batch 3:  Loss:     0.8281 Validation Accuracy: 0.579200\n",
      "Epoch  5, CIFAR-10 Batch 4:  Loss:     0.8908 Validation Accuracy: 0.599600\n",
      "Epoch  5, CIFAR-10 Batch 5:  Loss:     1.0458 Validation Accuracy: 0.585200\n",
      "Epoch  6, CIFAR-10 Batch 1:  Loss:     1.0365 Validation Accuracy: 0.596600\n",
      "Epoch  6, CIFAR-10 Batch 2:  Loss:     0.8829 Validation Accuracy: 0.590200\n",
      "Epoch  6, CIFAR-10 Batch 3:  Loss:     0.7253 Validation Accuracy: 0.598600\n",
      "Epoch  6, CIFAR-10 Batch 4:  Loss:     0.8360 Validation Accuracy: 0.599200\n",
      "Epoch  6, CIFAR-10 Batch 5:  Loss:     0.9749 Validation Accuracy: 0.600400\n",
      "Epoch  7, CIFAR-10 Batch 1:  Loss:     0.9809 Validation Accuracy: 0.610000\n",
      "Epoch  7, CIFAR-10 Batch 2:  Loss:     0.8617 Validation Accuracy: 0.600400\n",
      "Epoch  7, CIFAR-10 Batch 3:  Loss:     0.7150 Validation Accuracy: 0.601600\n",
      "Epoch  7, CIFAR-10 Batch 4:  Loss:     0.7820 Validation Accuracy: 0.612200\n",
      "Epoch  7, CIFAR-10 Batch 5:  Loss:     0.8880 Validation Accuracy: 0.608200\n",
      "Epoch  8, CIFAR-10 Batch 1:  Loss:     0.9208 Validation Accuracy: 0.615600\n",
      "Epoch  8, CIFAR-10 Batch 2:  Loss:     0.7855 Validation Accuracy: 0.610000\n",
      "Epoch  8, CIFAR-10 Batch 3:  Loss:     0.6546 Validation Accuracy: 0.613000\n",
      "Epoch  8, CIFAR-10 Batch 4:  Loss:     0.7216 Validation Accuracy: 0.618400\n",
      "Epoch  8, CIFAR-10 Batch 5:  Loss:     0.8476 Validation Accuracy: 0.620600\n",
      "Epoch  9, CIFAR-10 Batch 1:  Loss:     0.8990 Validation Accuracy: 0.618200\n",
      "Epoch  9, CIFAR-10 Batch 2:  Loss:     0.7546 Validation Accuracy: 0.617200\n",
      "Epoch  9, CIFAR-10 Batch 3:  Loss:     0.6082 Validation Accuracy: 0.624600\n",
      "Epoch  9, CIFAR-10 Batch 4:  Loss:     0.6637 Validation Accuracy: 0.621000\n",
      "Epoch  9, CIFAR-10 Batch 5:  Loss:     0.7788 Validation Accuracy: 0.631000\n",
      "Epoch 10, CIFAR-10 Batch 1:  Loss:     0.8146 Validation Accuracy: 0.628200\n",
      "Epoch 10, CIFAR-10 Batch 2:  Loss:     0.6902 Validation Accuracy: 0.626600\n",
      "Epoch 10, CIFAR-10 Batch 3:  Loss:     0.5687 Validation Accuracy: 0.631400\n",
      "Epoch 10, CIFAR-10 Batch 4:  Loss:     0.6256 Validation Accuracy: 0.626000\n",
      "Epoch 10, CIFAR-10 Batch 5:  Loss:     0.7066 Validation Accuracy: 0.636000\n",
      "Epoch 11, CIFAR-10 Batch 1:  Loss:     0.7631 Validation Accuracy: 0.635000\n",
      "Epoch 11, CIFAR-10 Batch 2:  Loss:     0.6226 Validation Accuracy: 0.636400\n",
      "Epoch 11, CIFAR-10 Batch 3:  Loss:     0.5207 Validation Accuracy: 0.640000\n",
      "Epoch 11, CIFAR-10 Batch 4:  Loss:     0.6061 Validation Accuracy: 0.636800\n",
      "Epoch 11, CIFAR-10 Batch 5:  Loss:     0.6744 Validation Accuracy: 0.636400\n",
      "Epoch 12, CIFAR-10 Batch 1:  Loss:     0.7179 Validation Accuracy: 0.639600\n",
      "Epoch 12, CIFAR-10 Batch 2:  Loss:     0.5766 Validation Accuracy: 0.644600\n",
      "Epoch 12, CIFAR-10 Batch 3:  Loss:     0.5351 Validation Accuracy: 0.643600\n",
      "Epoch 12, CIFAR-10 Batch 4:  Loss:     0.5339 Validation Accuracy: 0.638400\n",
      "Epoch 12, CIFAR-10 Batch 5:  Loss:     0.6054 Validation Accuracy: 0.636600\n",
      "Epoch 13, CIFAR-10 Batch 1:  Loss:     0.6924 Validation Accuracy: 0.644800\n",
      "Epoch 13, CIFAR-10 Batch 2:  Loss:     0.5650 Validation Accuracy: 0.646400\n",
      "Epoch 13, CIFAR-10 Batch 3:  Loss:     0.4679 Validation Accuracy: 0.643800\n",
      "Epoch 13, CIFAR-10 Batch 4:  Loss:     0.5038 Validation Accuracy: 0.647600\n",
      "Epoch 13, CIFAR-10 Batch 5:  Loss:     0.5871 Validation Accuracy: 0.642200\n",
      "Epoch 14, CIFAR-10 Batch 1:  Loss:     0.6596 Validation Accuracy: 0.639000\n",
      "Epoch 14, CIFAR-10 Batch 2:  Loss:     0.5271 Validation Accuracy: 0.644000\n",
      "Epoch 14, CIFAR-10 Batch 3:  Loss:     0.4689 Validation Accuracy: 0.644600\n",
      "Epoch 14, CIFAR-10 Batch 4:  Loss:     0.5025 Validation Accuracy: 0.641800\n",
      "Epoch 14, CIFAR-10 Batch 5:  Loss:     0.5425 Validation Accuracy: 0.650400\n",
      "Epoch 15, CIFAR-10 Batch 1:  Loss:     0.6246 Validation Accuracy: 0.649800\n",
      "Epoch 15, CIFAR-10 Batch 2:  Loss:     0.4324 Validation Accuracy: 0.650800\n",
      "Epoch 15, CIFAR-10 Batch 3:  Loss:     0.4372 Validation Accuracy: 0.650800\n",
      "Epoch 15, CIFAR-10 Batch 4:  Loss:     0.4271 Validation Accuracy: 0.655200\n",
      "Epoch 15, CIFAR-10 Batch 5:  Loss:     0.5130 Validation Accuracy: 0.651600\n",
      "Epoch 16, CIFAR-10 Batch 1:  Loss:     0.5573 Validation Accuracy: 0.650600\n",
      "Epoch 16, CIFAR-10 Batch 2:  Loss:     0.4943 Validation Accuracy: 0.651600\n",
      "Epoch 16, CIFAR-10 Batch 3:  Loss:     0.3914 Validation Accuracy: 0.658200\n",
      "Epoch 16, CIFAR-10 Batch 4:  Loss:     0.4276 Validation Accuracy: 0.657400\n",
      "Epoch 16, CIFAR-10 Batch 5:  Loss:     0.5174 Validation Accuracy: 0.648800\n",
      "Epoch 17, CIFAR-10 Batch 1:  Loss:     0.5728 Validation Accuracy: 0.649600\n",
      "Epoch 17, CIFAR-10 Batch 2:  Loss:     0.4325 Validation Accuracy: 0.654800\n",
      "Epoch 17, CIFAR-10 Batch 3:  Loss:     0.3646 Validation Accuracy: 0.659800\n",
      "Epoch 17, CIFAR-10 Batch 4:  Loss:     0.3904 Validation Accuracy: 0.651600\n",
      "Epoch 17, CIFAR-10 Batch 5:  Loss:     0.4484 Validation Accuracy: 0.652400\n",
      "Epoch 18, CIFAR-10 Batch 1:  Loss:     0.5341 Validation Accuracy: 0.652800\n",
      "Epoch 18, CIFAR-10 Batch 2:  Loss:     0.4425 Validation Accuracy: 0.655400\n",
      "Epoch 18, CIFAR-10 Batch 3:  Loss:     0.3663 Validation Accuracy: 0.658200\n",
      "Epoch 18, CIFAR-10 Batch 4:  Loss:     0.3488 Validation Accuracy: 0.655400\n",
      "Epoch 18, CIFAR-10 Batch 5:  Loss:     0.4333 Validation Accuracy: 0.657600\n",
      "Epoch 19, CIFAR-10 Batch 1:  Loss:     0.4813 Validation Accuracy: 0.656800\n",
      "Epoch 19, CIFAR-10 Batch 2:  Loss:     0.3872 Validation Accuracy: 0.656600\n",
      "Epoch 19, CIFAR-10 Batch 3:  Loss:     0.3309 Validation Accuracy: 0.658400\n",
      "Epoch 19, CIFAR-10 Batch 4:  Loss:     0.2944 Validation Accuracy: 0.662400\n",
      "Epoch 19, CIFAR-10 Batch 5:  Loss:     0.3849 Validation Accuracy: 0.658200\n",
      "Epoch 20, CIFAR-10 Batch 1:  Loss:     0.4680 Validation Accuracy: 0.660000\n",
      "Epoch 20, CIFAR-10 Batch 2:  Loss:     0.3466 Validation Accuracy: 0.656600\n",
      "Epoch 20, CIFAR-10 Batch 3:  Loss:     0.3272 Validation Accuracy: 0.659600\n",
      "Epoch 20, CIFAR-10 Batch 4:  Loss:     0.3235 Validation Accuracy: 0.661000\n",
      "Epoch 20, CIFAR-10 Batch 5:  Loss:     0.3927 Validation Accuracy: 0.656800\n",
      "Epoch 21, CIFAR-10 Batch 1:  Loss:     0.4422 Validation Accuracy: 0.655400\n",
      "Epoch 21, CIFAR-10 Batch 2:  Loss:     0.3617 Validation Accuracy: 0.662000\n",
      "Epoch 21, CIFAR-10 Batch 3:  Loss:     0.3053 Validation Accuracy: 0.657200\n",
      "Epoch 21, CIFAR-10 Batch 4:  Loss:     0.2754 Validation Accuracy: 0.663800\n",
      "Epoch 21, CIFAR-10 Batch 5:  Loss:     0.3786 Validation Accuracy: 0.658600\n",
      "Epoch 22, CIFAR-10 Batch 1:  Loss:     0.4156 Validation Accuracy: 0.655600\n",
      "Epoch 22, CIFAR-10 Batch 2:  Loss:     0.3187 Validation Accuracy: 0.662800\n",
      "Epoch 22, CIFAR-10 Batch 3:  Loss:     0.2871 Validation Accuracy: 0.664000\n",
      "Epoch 22, CIFAR-10 Batch 4:  Loss:     0.2554 Validation Accuracy: 0.657200\n",
      "Epoch 22, CIFAR-10 Batch 5:  Loss:     0.3380 Validation Accuracy: 0.660600\n",
      "Epoch 23, CIFAR-10 Batch 1:  Loss:     0.3815 Validation Accuracy: 0.663800\n",
      "Epoch 23, CIFAR-10 Batch 2:  Loss:     0.3344 Validation Accuracy: 0.662400\n",
      "Epoch 23, CIFAR-10 Batch 3:  Loss:     0.2862 Validation Accuracy: 0.663400\n",
      "Epoch 23, CIFAR-10 Batch 4:  Loss:     0.2716 Validation Accuracy: 0.667000\n",
      "Epoch 23, CIFAR-10 Batch 5:  Loss:     0.3223 Validation Accuracy: 0.662600\n",
      "Epoch 24, CIFAR-10 Batch 1:  Loss:     0.3735 Validation Accuracy: 0.655800\n",
      "Epoch 24, CIFAR-10 Batch 2:  Loss:     0.2892 Validation Accuracy: 0.666600\n",
      "Epoch 24, CIFAR-10 Batch 3:  Loss:     0.2824 Validation Accuracy: 0.660200\n",
      "Epoch 24, CIFAR-10 Batch 4:  Loss:     0.2516 Validation Accuracy: 0.664800\n",
      "Epoch 24, CIFAR-10 Batch 5:  Loss:     0.2953 Validation Accuracy: 0.667400\n",
      "Epoch 25, CIFAR-10 Batch 1:  Loss:     0.3429 Validation Accuracy: 0.665000\n",
      "Epoch 25, CIFAR-10 Batch 2:  Loss:     0.3174 Validation Accuracy: 0.664400\n",
      "Epoch 25, CIFAR-10 Batch 3:  Loss:     0.2913 Validation Accuracy: 0.661400\n",
      "Epoch 25, CIFAR-10 Batch 4:  Loss:     0.2475 Validation Accuracy: 0.667200\n",
      "Epoch 25, CIFAR-10 Batch 5:  Loss:     0.2865 Validation Accuracy: 0.661600\n",
      "Epoch 26, CIFAR-10 Batch 1:  Loss:     0.3191 Validation Accuracy: 0.664800\n",
      "Epoch 26, CIFAR-10 Batch 2:  Loss:     0.2476 Validation Accuracy: 0.671400\n",
      "Epoch 26, CIFAR-10 Batch 3:  Loss:     0.2567 Validation Accuracy: 0.668800\n",
      "Epoch 26, CIFAR-10 Batch 4:  Loss:     0.2098 Validation Accuracy: 0.668000\n",
      "Epoch 26, CIFAR-10 Batch 5:  Loss:     0.2464 Validation Accuracy: 0.662000\n",
      "Epoch 27, CIFAR-10 Batch 1:  Loss:     0.3040 Validation Accuracy: 0.666000\n",
      "Epoch 27, CIFAR-10 Batch 2:  Loss:     0.2632 Validation Accuracy: 0.665800\n",
      "Epoch 27, CIFAR-10 Batch 3:  Loss:     0.2199 Validation Accuracy: 0.665000\n",
      "Epoch 27, CIFAR-10 Batch 4:  Loss:     0.2098 Validation Accuracy: 0.670000\n",
      "Epoch 27, CIFAR-10 Batch 5:  Loss:     0.2542 Validation Accuracy: 0.665400\n",
      "Epoch 28, CIFAR-10 Batch 1:  Loss:     0.2854 Validation Accuracy: 0.660200\n",
      "Epoch 28, CIFAR-10 Batch 2:  Loss:     0.2570 Validation Accuracy: 0.668800\n",
      "Epoch 28, CIFAR-10 Batch 3:  Loss:     0.2366 Validation Accuracy: 0.666200\n",
      "Epoch 28, CIFAR-10 Batch 4:  Loss:     0.1962 Validation Accuracy: 0.665200\n",
      "Epoch 28, CIFAR-10 Batch 5:  Loss:     0.2199 Validation Accuracy: 0.668200\n",
      "Epoch 29, CIFAR-10 Batch 1:  Loss:     0.2692 Validation Accuracy: 0.665800\n",
      "Epoch 29, CIFAR-10 Batch 2:  Loss:     0.2404 Validation Accuracy: 0.673200\n",
      "Epoch 29, CIFAR-10 Batch 3:  Loss:     0.2201 Validation Accuracy: 0.675800\n",
      "Epoch 29, CIFAR-10 Batch 4:  Loss:     0.1955 Validation Accuracy: 0.671000\n",
      "Epoch 29, CIFAR-10 Batch 5:  Loss:     0.2395 Validation Accuracy: 0.670000\n",
      "Epoch 30, CIFAR-10 Batch 1:  Loss:     0.2379 Validation Accuracy: 0.672800\n",
      "Epoch 30, CIFAR-10 Batch 2:  Loss:     0.2299 Validation Accuracy: 0.671000\n",
      "Epoch 30, CIFAR-10 Batch 3:  Loss:     0.2215 Validation Accuracy: 0.665200\n",
      "Epoch 30, CIFAR-10 Batch 4:  Loss:     0.1683 Validation Accuracy: 0.669200\n",
      "Epoch 30, CIFAR-10 Batch 5:  Loss:     0.2198 Validation Accuracy: 0.665000\n",
      "Epoch 31, CIFAR-10 Batch 1:  Loss:     0.2331 Validation Accuracy: 0.672200\n",
      "Epoch 31, CIFAR-10 Batch 2:  Loss:     0.2151 Validation Accuracy: 0.666200\n",
      "Epoch 31, CIFAR-10 Batch 3:  Loss:     0.2241 Validation Accuracy: 0.664200\n",
      "Epoch 31, CIFAR-10 Batch 4:  Loss:     0.1805 Validation Accuracy: 0.664000\n",
      "Epoch 31, CIFAR-10 Batch 5:  Loss:     0.1932 Validation Accuracy: 0.666200\n",
      "Epoch 32, CIFAR-10 Batch 1:  Loss:     0.2442 Validation Accuracy: 0.666600\n",
      "Epoch 32, CIFAR-10 Batch 2:  Loss:     0.2122 Validation Accuracy: 0.673800\n",
      "Epoch 32, CIFAR-10 Batch 3:  Loss:     0.1604 Validation Accuracy: 0.671800\n",
      "Epoch 32, CIFAR-10 Batch 4:  Loss:     0.1829 Validation Accuracy: 0.674200\n",
      "Epoch 32, CIFAR-10 Batch 5:  Loss:     0.1965 Validation Accuracy: 0.669600\n",
      "Epoch 33, CIFAR-10 Batch 1:  Loss:     0.2278 Validation Accuracy: 0.669800\n",
      "Epoch 33, CIFAR-10 Batch 2:  Loss:     0.2105 Validation Accuracy: 0.674200\n",
      "Epoch 33, CIFAR-10 Batch 3:  Loss:     0.1576 Validation Accuracy: 0.673400\n",
      "Epoch 33, CIFAR-10 Batch 4:  Loss:     0.1502 Validation Accuracy: 0.672000\n",
      "Epoch 33, CIFAR-10 Batch 5:  Loss:     0.1928 Validation Accuracy: 0.666400\n",
      "Epoch 34, CIFAR-10 Batch 1:  Loss:     0.1956 Validation Accuracy: 0.668600\n",
      "Epoch 34, CIFAR-10 Batch 2:  Loss:     0.1711 Validation Accuracy: 0.667400\n",
      "Epoch 34, CIFAR-10 Batch 3:  Loss:     0.1530 Validation Accuracy: 0.666800\n",
      "Epoch 34, CIFAR-10 Batch 4:  Loss:     0.1369 Validation Accuracy: 0.672200\n",
      "Epoch 34, CIFAR-10 Batch 5:  Loss:     0.1836 Validation Accuracy: 0.664600\n",
      "Epoch 35, CIFAR-10 Batch 1:  Loss:     0.2014 Validation Accuracy: 0.671200\n",
      "Epoch 35, CIFAR-10 Batch 2:  Loss:     0.2139 Validation Accuracy: 0.672600\n",
      "Epoch 35, CIFAR-10 Batch 3:  Loss:     0.1575 Validation Accuracy: 0.667000\n",
      "Epoch 35, CIFAR-10 Batch 4:  Loss:     0.1474 Validation Accuracy: 0.674600\n",
      "Epoch 35, CIFAR-10 Batch 5:  Loss:     0.1716 Validation Accuracy: 0.665400\n",
      "Epoch 36, CIFAR-10 Batch 1:  Loss:     0.1887 Validation Accuracy: 0.669400\n",
      "Epoch 36, CIFAR-10 Batch 2:  Loss:     0.1887 Validation Accuracy: 0.673200\n",
      "Epoch 36, CIFAR-10 Batch 3:  Loss:     0.1619 Validation Accuracy: 0.673200\n",
      "Epoch 36, CIFAR-10 Batch 4:  Loss:     0.1318 Validation Accuracy: 0.673200\n",
      "Epoch 36, CIFAR-10 Batch 5:  Loss:     0.1641 Validation Accuracy: 0.662600\n",
      "Epoch 37, CIFAR-10 Batch 1:  Loss:     0.1782 Validation Accuracy: 0.675600\n",
      "Epoch 37, CIFAR-10 Batch 2:  Loss:     0.1810 Validation Accuracy: 0.670400\n",
      "Epoch 37, CIFAR-10 Batch 3:  Loss:     0.1636 Validation Accuracy: 0.675400\n",
      "Epoch 37, CIFAR-10 Batch 4:  Loss:     0.1123 Validation Accuracy: 0.671000\n",
      "Epoch 37, CIFAR-10 Batch 5:  Loss:     0.1530 Validation Accuracy: 0.665800\n",
      "Epoch 38, CIFAR-10 Batch 1:  Loss:     0.1501 Validation Accuracy: 0.671800\n",
      "Epoch 38, CIFAR-10 Batch 2:  Loss:     0.1502 Validation Accuracy: 0.668800\n",
      "Epoch 38, CIFAR-10 Batch 3:  Loss:     0.1377 Validation Accuracy: 0.673400\n",
      "Epoch 38, CIFAR-10 Batch 4:  Loss:     0.1158 Validation Accuracy: 0.672800\n",
      "Epoch 38, CIFAR-10 Batch 5:  Loss:     0.1287 Validation Accuracy: 0.666400\n",
      "Epoch 39, CIFAR-10 Batch 1:  Loss:     0.1508 Validation Accuracy: 0.675400\n",
      "Epoch 39, CIFAR-10 Batch 2:  Loss:     0.1705 Validation Accuracy: 0.672600\n",
      "Epoch 39, CIFAR-10 Batch 3:  Loss:     0.1343 Validation Accuracy: 0.668200\n",
      "Epoch 39, CIFAR-10 Batch 4:  Loss:     0.1174 Validation Accuracy: 0.672200\n",
      "Epoch 39, CIFAR-10 Batch 5:  Loss:     0.1432 Validation Accuracy: 0.663200\n",
      "Epoch 40, CIFAR-10 Batch 1:  Loss:     0.1504 Validation Accuracy: 0.666400\n",
      "Epoch 40, CIFAR-10 Batch 2:  Loss:     0.1866 Validation Accuracy: 0.671600\n",
      "Epoch 40, CIFAR-10 Batch 3:  Loss:     0.1569 Validation Accuracy: 0.673400\n",
      "Epoch 40, CIFAR-10 Batch 4:  Loss:     0.1023 Validation Accuracy: 0.673000\n",
      "Epoch 40, CIFAR-10 Batch 5:  Loss:     0.1557 Validation Accuracy: 0.671000\n",
      "Epoch 41, CIFAR-10 Batch 1:  Loss:     0.1486 Validation Accuracy: 0.671200\n",
      "Epoch 41, CIFAR-10 Batch 2:  Loss:     0.1615 Validation Accuracy: 0.675200\n",
      "Epoch 41, CIFAR-10 Batch 3:  Loss:     0.1342 Validation Accuracy: 0.664400\n",
      "Epoch 41, CIFAR-10 Batch 4:  Loss:     0.0886 Validation Accuracy: 0.671200\n",
      "Epoch 41, CIFAR-10 Batch 5:  Loss:     0.1351 Validation Accuracy: 0.661800\n",
      "Epoch 42, CIFAR-10 Batch 1:  Loss:     0.1299 Validation Accuracy: 0.675400\n",
      "Epoch 42, CIFAR-10 Batch 2:  Loss:     0.1623 Validation Accuracy: 0.663600\n",
      "Epoch 42, CIFAR-10 Batch 3:  Loss:     0.1249 Validation Accuracy: 0.674600\n",
      "Epoch 42, CIFAR-10 Batch 4:  Loss:     0.1046 Validation Accuracy: 0.676200\n",
      "Epoch 42, CIFAR-10 Batch 5:  Loss:     0.1300 Validation Accuracy: 0.666000\n",
      "Epoch 43, CIFAR-10 Batch 1:  Loss:     0.1406 Validation Accuracy: 0.665400\n",
      "Epoch 43, CIFAR-10 Batch 2:  Loss:     0.1285 Validation Accuracy: 0.670800\n",
      "Epoch 43, CIFAR-10 Batch 3:  Loss:     0.1388 Validation Accuracy: 0.670600\n",
      "Epoch 43, CIFAR-10 Batch 4:  Loss:     0.0917 Validation Accuracy: 0.672200\n",
      "Epoch 43, CIFAR-10 Batch 5:  Loss:     0.1095 Validation Accuracy: 0.661600\n",
      "Epoch 44, CIFAR-10 Batch 1:  Loss:     0.1125 Validation Accuracy: 0.673800\n",
      "Epoch 44, CIFAR-10 Batch 2:  Loss:     0.1339 Validation Accuracy: 0.669600\n",
      "Epoch 44, CIFAR-10 Batch 3:  Loss:     0.1296 Validation Accuracy: 0.670000\n",
      "Epoch 44, CIFAR-10 Batch 4:  Loss:     0.0945 Validation Accuracy: 0.670800\n",
      "Epoch 44, CIFAR-10 Batch 5:  Loss:     0.1057 Validation Accuracy: 0.669800\n",
      "Epoch 45, CIFAR-10 Batch 1:  Loss:     0.1174 Validation Accuracy: 0.671800\n",
      "Epoch 45, CIFAR-10 Batch 2:  Loss:     0.1028 Validation Accuracy: 0.671400\n",
      "Epoch 45, CIFAR-10 Batch 3:  Loss:     0.1193 Validation Accuracy: 0.667200\n",
      "Epoch 45, CIFAR-10 Batch 4:  Loss:     0.0891 Validation Accuracy: 0.678800\n",
      "Epoch 45, CIFAR-10 Batch 5:  Loss:     0.1145 Validation Accuracy: 0.668000\n",
      "Epoch 46, CIFAR-10 Batch 1:  Loss:     0.1195 Validation Accuracy: 0.671600\n",
      "Epoch 46, CIFAR-10 Batch 2:  Loss:     0.1106 Validation Accuracy: 0.669600\n",
      "Epoch 46, CIFAR-10 Batch 3:  Loss:     0.1149 Validation Accuracy: 0.673000\n",
      "Epoch 46, CIFAR-10 Batch 4:  Loss:     0.0952 Validation Accuracy: 0.676200\n",
      "Epoch 46, CIFAR-10 Batch 5:  Loss:     0.0998 Validation Accuracy: 0.663000\n",
      "Epoch 47, CIFAR-10 Batch 1:  Loss:     0.1277 Validation Accuracy: 0.674000\n",
      "Epoch 47, CIFAR-10 Batch 2:  Loss:     0.1248 Validation Accuracy: 0.669600\n",
      "Epoch 47, CIFAR-10 Batch 3:  Loss:     0.1204 Validation Accuracy: 0.670200\n",
      "Epoch 47, CIFAR-10 Batch 4:  Loss:     0.0864 Validation Accuracy: 0.676200\n",
      "Epoch 47, CIFAR-10 Batch 5:  Loss:     0.0924 Validation Accuracy: 0.673800\n",
      "Epoch 48, CIFAR-10 Batch 1:  Loss:     0.1190 Validation Accuracy: 0.672200\n",
      "Epoch 48, CIFAR-10 Batch 2:  Loss:     0.1137 Validation Accuracy: 0.662800\n",
      "Epoch 48, CIFAR-10 Batch 3:  Loss:     0.1195 Validation Accuracy: 0.673200\n",
      "Epoch 48, CIFAR-10 Batch 4:  Loss:     0.0975 Validation Accuracy: 0.674000\n",
      "Epoch 48, CIFAR-10 Batch 5:  Loss:     0.0858 Validation Accuracy: 0.671000\n",
      "Epoch 49, CIFAR-10 Batch 1:  Loss:     0.0905 Validation Accuracy: 0.669600\n",
      "Epoch 49, CIFAR-10 Batch 2:  Loss:     0.1230 Validation Accuracy: 0.675000\n",
      "Epoch 49, CIFAR-10 Batch 3:  Loss:     0.1156 Validation Accuracy: 0.671400\n",
      "Epoch 49, CIFAR-10 Batch 4:  Loss:     0.0766 Validation Accuracy: 0.676400\n",
      "Epoch 49, CIFAR-10 Batch 5:  Loss:     0.0768 Validation Accuracy: 0.671800\n",
      "Epoch 50, CIFAR-10 Batch 1:  Loss:     0.0908 Validation Accuracy: 0.673200\n",
      "Epoch 50, CIFAR-10 Batch 2:  Loss:     0.1082 Validation Accuracy: 0.675000\n",
      "Epoch 50, CIFAR-10 Batch 3:  Loss:     0.0979 Validation Accuracy: 0.666800\n",
      "Epoch 50, CIFAR-10 Batch 4:  Loss:     0.0790 Validation Accuracy: 0.676800\n",
      "Epoch 50, CIFAR-10 Batch 5:  Loss:     0.0754 Validation Accuracy: 0.666800\n",
      "Epoch 51, CIFAR-10 Batch 1:  Loss:     0.0803 Validation Accuracy: 0.670600\n",
      "Epoch 51, CIFAR-10 Batch 2:  Loss:     0.1307 Validation Accuracy: 0.663400\n",
      "Epoch 51, CIFAR-10 Batch 3:  Loss:     0.0996 Validation Accuracy: 0.667600\n",
      "Epoch 51, CIFAR-10 Batch 4:  Loss:     0.0710 Validation Accuracy: 0.671200\n",
      "Epoch 51, CIFAR-10 Batch 5:  Loss:     0.0744 Validation Accuracy: 0.669400\n",
      "Epoch 52, CIFAR-10 Batch 1:  Loss:     0.0748 Validation Accuracy: 0.667800\n",
      "Epoch 52, CIFAR-10 Batch 2:  Loss:     0.1130 Validation Accuracy: 0.667600\n",
      "Epoch 52, CIFAR-10 Batch 3:  Loss:     0.0937 Validation Accuracy: 0.670000\n",
      "Epoch 52, CIFAR-10 Batch 4:  Loss:     0.0732 Validation Accuracy: 0.674400\n",
      "Epoch 52, CIFAR-10 Batch 5:  Loss:     0.0784 Validation Accuracy: 0.671400\n",
      "Epoch 53, CIFAR-10 Batch 1:  Loss:     0.0838 Validation Accuracy: 0.677200\n",
      "Epoch 53, CIFAR-10 Batch 2:  Loss:     0.1146 Validation Accuracy: 0.671200\n",
      "Epoch 53, CIFAR-10 Batch 3:  Loss:     0.0995 Validation Accuracy: 0.673200\n",
      "Epoch 53, CIFAR-10 Batch 4:  Loss:     0.0811 Validation Accuracy: 0.677800\n",
      "Epoch 53, CIFAR-10 Batch 5:  Loss:     0.0907 Validation Accuracy: 0.673200\n",
      "Epoch 54, CIFAR-10 Batch 1:  Loss:     0.0660 Validation Accuracy: 0.677200\n",
      "Epoch 54, CIFAR-10 Batch 2:  Loss:     0.1030 Validation Accuracy: 0.674200\n",
      "Epoch 54, CIFAR-10 Batch 3:  Loss:     0.1021 Validation Accuracy: 0.675800\n",
      "Epoch 54, CIFAR-10 Batch 4:  Loss:     0.0694 Validation Accuracy: 0.676000\n",
      "Epoch 54, CIFAR-10 Batch 5:  Loss:     0.0797 Validation Accuracy: 0.676200\n",
      "Epoch 55, CIFAR-10 Batch 1:  Loss:     0.0609 Validation Accuracy: 0.674200\n",
      "Epoch 55, CIFAR-10 Batch 2:  Loss:     0.0921 Validation Accuracy: 0.672000\n",
      "Epoch 55, CIFAR-10 Batch 3:  Loss:     0.0968 Validation Accuracy: 0.675400\n",
      "Epoch 55, CIFAR-10 Batch 4:  Loss:     0.0660 Validation Accuracy: 0.677600\n",
      "Epoch 55, CIFAR-10 Batch 5:  Loss:     0.0689 Validation Accuracy: 0.673000\n",
      "Epoch 56, CIFAR-10 Batch 1:  Loss:     0.0570 Validation Accuracy: 0.677000\n",
      "Epoch 56, CIFAR-10 Batch 2:  Loss:     0.1003 Validation Accuracy: 0.668200\n",
      "Epoch 56, CIFAR-10 Batch 3:  Loss:     0.0868 Validation Accuracy: 0.671600\n",
      "Epoch 56, CIFAR-10 Batch 4:  Loss:     0.0736 Validation Accuracy: 0.672400\n",
      "Epoch 56, CIFAR-10 Batch 5:  Loss:     0.0689 Validation Accuracy: 0.668600\n",
      "Epoch 57, CIFAR-10 Batch 1:  Loss:     0.0555 Validation Accuracy: 0.672400\n",
      "Epoch 57, CIFAR-10 Batch 2:  Loss:     0.0990 Validation Accuracy: 0.668400\n",
      "Epoch 57, CIFAR-10 Batch 3:  Loss:     0.0977 Validation Accuracy: 0.677800\n",
      "Epoch 57, CIFAR-10 Batch 4:  Loss:     0.0716 Validation Accuracy: 0.674600\n",
      "Epoch 57, CIFAR-10 Batch 5:  Loss:     0.0720 Validation Accuracy: 0.673800\n",
      "Epoch 58, CIFAR-10 Batch 1:  Loss:     0.0605 Validation Accuracy: 0.676000\n",
      "Epoch 58, CIFAR-10 Batch 2:  Loss:     0.0931 Validation Accuracy: 0.678600\n",
      "Epoch 58, CIFAR-10 Batch 3:  Loss:     0.0841 Validation Accuracy: 0.674800\n",
      "Epoch 58, CIFAR-10 Batch 4:  Loss:     0.0629 Validation Accuracy: 0.679800\n",
      "Epoch 58, CIFAR-10 Batch 5:  Loss:     0.0676 Validation Accuracy: 0.682800\n",
      "Epoch 59, CIFAR-10 Batch 1:  Loss:     0.0534 Validation Accuracy: 0.677600\n",
      "Epoch 59, CIFAR-10 Batch 2:  Loss:     0.0919 Validation Accuracy: 0.669600\n",
      "Epoch 59, CIFAR-10 Batch 3:  Loss:     0.0760 Validation Accuracy: 0.676000\n",
      "Epoch 59, CIFAR-10 Batch 4:  Loss:     0.0694 Validation Accuracy: 0.680400\n",
      "Epoch 59, CIFAR-10 Batch 5:  Loss:     0.0558 Validation Accuracy: 0.678200\n",
      "Epoch 60, CIFAR-10 Batch 1:  Loss:     0.0507 Validation Accuracy: 0.676200\n",
      "Epoch 60, CIFAR-10 Batch 2:  Loss:     0.0803 Validation Accuracy: 0.665800\n",
      "Epoch 60, CIFAR-10 Batch 3:  Loss:     0.0821 Validation Accuracy: 0.670400\n",
      "Epoch 60, CIFAR-10 Batch 4:  Loss:     0.0561 Validation Accuracy: 0.678400\n",
      "Epoch 60, CIFAR-10 Batch 5:  Loss:     0.0687 Validation Accuracy: 0.673600\n",
      "Epoch 61, CIFAR-10 Batch 1:  Loss:     0.0481 Validation Accuracy: 0.677000\n",
      "Epoch 61, CIFAR-10 Batch 2:  Loss:     0.0640 Validation Accuracy: 0.673600\n",
      "Epoch 61, CIFAR-10 Batch 3:  Loss:     0.0804 Validation Accuracy: 0.675400\n",
      "Epoch 61, CIFAR-10 Batch 4:  Loss:     0.0589 Validation Accuracy: 0.675000\n",
      "Epoch 61, CIFAR-10 Batch 5:  Loss:     0.0562 Validation Accuracy: 0.673400\n",
      "Epoch 62, CIFAR-10 Batch 1:  Loss:     0.0553 Validation Accuracy: 0.672800\n",
      "Epoch 62, CIFAR-10 Batch 2:  Loss:     0.0770 Validation Accuracy: 0.667800\n",
      "Epoch 62, CIFAR-10 Batch 3:  Loss:     0.0782 Validation Accuracy: 0.678000\n",
      "Epoch 62, CIFAR-10 Batch 4:  Loss:     0.0666 Validation Accuracy: 0.675200\n",
      "Epoch 62, CIFAR-10 Batch 5:  Loss:     0.0508 Validation Accuracy: 0.668000\n",
      "Epoch 63, CIFAR-10 Batch 1:  Loss:     0.0533 Validation Accuracy: 0.677000\n",
      "Epoch 63, CIFAR-10 Batch 2:  Loss:     0.0716 Validation Accuracy: 0.674600\n",
      "Epoch 63, CIFAR-10 Batch 3:  Loss:     0.0747 Validation Accuracy: 0.671400\n",
      "Epoch 63, CIFAR-10 Batch 4:  Loss:     0.0673 Validation Accuracy: 0.678600\n",
      "Epoch 63, CIFAR-10 Batch 5:  Loss:     0.0544 Validation Accuracy: 0.674400\n",
      "Epoch 64, CIFAR-10 Batch 1:  Loss:     0.0579 Validation Accuracy: 0.673000\n",
      "Epoch 64, CIFAR-10 Batch 2:  Loss:     0.0867 Validation Accuracy: 0.671000\n",
      "Epoch 64, CIFAR-10 Batch 3:  Loss:     0.0692 Validation Accuracy: 0.679400\n",
      "Epoch 64, CIFAR-10 Batch 4:  Loss:     0.0595 Validation Accuracy: 0.686000\n",
      "Epoch 64, CIFAR-10 Batch 5:  Loss:     0.0505 Validation Accuracy: 0.677400\n",
      "Epoch 65, CIFAR-10 Batch 1:  Loss:     0.0462 Validation Accuracy: 0.674400\n",
      "Epoch 65, CIFAR-10 Batch 2:  Loss:     0.0717 Validation Accuracy: 0.680600\n",
      "Epoch 65, CIFAR-10 Batch 3:  Loss:     0.0590 Validation Accuracy: 0.675600\n",
      "Epoch 65, CIFAR-10 Batch 4:  Loss:     0.0611 Validation Accuracy: 0.681000\n",
      "Epoch 65, CIFAR-10 Batch 5:  Loss:     0.0505 Validation Accuracy: 0.671400\n",
      "Epoch 66, CIFAR-10 Batch 1:  Loss:     0.0447 Validation Accuracy: 0.671200\n",
      "Epoch 66, CIFAR-10 Batch 2:  Loss:     0.0779 Validation Accuracy: 0.674400\n",
      "Epoch 66, CIFAR-10 Batch 3:  Loss:     0.0759 Validation Accuracy: 0.674200\n",
      "Epoch 66, CIFAR-10 Batch 4:  Loss:     0.0564 Validation Accuracy: 0.666800\n",
      "Epoch 66, CIFAR-10 Batch 5:  Loss:     0.0594 Validation Accuracy: 0.673600\n",
      "Epoch 67, CIFAR-10 Batch 1:  Loss:     0.0409 Validation Accuracy: 0.676400\n",
      "Epoch 67, CIFAR-10 Batch 2:  Loss:     0.0806 Validation Accuracy: 0.663800\n",
      "Epoch 67, CIFAR-10 Batch 3:  Loss:     0.0661 Validation Accuracy: 0.675200\n",
      "Epoch 67, CIFAR-10 Batch 4:  Loss:     0.0492 Validation Accuracy: 0.678600\n",
      "Epoch 67, CIFAR-10 Batch 5:  Loss:     0.0607 Validation Accuracy: 0.676600\n",
      "Epoch 68, CIFAR-10 Batch 1:  Loss:     0.0340 Validation Accuracy: 0.676200\n",
      "Epoch 68, CIFAR-10 Batch 2:  Loss:     0.0516 Validation Accuracy: 0.678600\n",
      "Epoch 68, CIFAR-10 Batch 3:  Loss:     0.0745 Validation Accuracy: 0.676200\n",
      "Epoch 68, CIFAR-10 Batch 4:  Loss:     0.0556 Validation Accuracy: 0.683400\n",
      "Epoch 68, CIFAR-10 Batch 5:  Loss:     0.0519 Validation Accuracy: 0.676800\n",
      "Epoch 69, CIFAR-10 Batch 1:  Loss:     0.0469 Validation Accuracy: 0.679400\n",
      "Epoch 69, CIFAR-10 Batch 2:  Loss:     0.0689 Validation Accuracy: 0.674600\n",
      "Epoch 69, CIFAR-10 Batch 3:  Loss:     0.0607 Validation Accuracy: 0.670400\n",
      "Epoch 69, CIFAR-10 Batch 4:  Loss:     0.0439 Validation Accuracy: 0.676400\n",
      "Epoch 69, CIFAR-10 Batch 5:  Loss:     0.0589 Validation Accuracy: 0.676000\n",
      "Epoch 70, CIFAR-10 Batch 1:  Loss:     0.0395 Validation Accuracy: 0.674600\n",
      "Epoch 70, CIFAR-10 Batch 2:  Loss:     0.0522 Validation Accuracy: 0.677200\n",
      "Epoch 70, CIFAR-10 Batch 3:  Loss:     0.0701 Validation Accuracy: 0.672200\n",
      "Epoch 70, CIFAR-10 Batch 4:  Loss:     0.0416 Validation Accuracy: 0.674000\n",
      "Epoch 70, CIFAR-10 Batch 5:  Loss:     0.0506 Validation Accuracy: 0.671400\n",
      "Epoch 71, CIFAR-10 Batch 1:  Loss:     0.0296 Validation Accuracy: 0.672200\n",
      "Epoch 71, CIFAR-10 Batch 2:  Loss:     0.0589 Validation Accuracy: 0.675200\n",
      "Epoch 71, CIFAR-10 Batch 3:  Loss:     0.0628 Validation Accuracy: 0.669200\n",
      "Epoch 71, CIFAR-10 Batch 4:  Loss:     0.0485 Validation Accuracy: 0.675800\n",
      "Epoch 71, CIFAR-10 Batch 5:  Loss:     0.0527 Validation Accuracy: 0.673400\n",
      "Epoch 72, CIFAR-10 Batch 1:  Loss:     0.0328 Validation Accuracy: 0.678600\n",
      "Epoch 72, CIFAR-10 Batch 2:  Loss:     0.0808 Validation Accuracy: 0.672200\n",
      "Epoch 72, CIFAR-10 Batch 3:  Loss:     0.0633 Validation Accuracy: 0.672800\n",
      "Epoch 72, CIFAR-10 Batch 4:  Loss:     0.0449 Validation Accuracy: 0.678800\n",
      "Epoch 72, CIFAR-10 Batch 5:  Loss:     0.0442 Validation Accuracy: 0.678600\n",
      "Epoch 73, CIFAR-10 Batch 1:  Loss:     0.0304 Validation Accuracy: 0.673400\n",
      "Epoch 73, CIFAR-10 Batch 2:  Loss:     0.0522 Validation Accuracy: 0.671800\n",
      "Epoch 73, CIFAR-10 Batch 3:  Loss:     0.0790 Validation Accuracy: 0.681000\n",
      "Epoch 73, CIFAR-10 Batch 4:  Loss:     0.0498 Validation Accuracy: 0.674800\n",
      "Epoch 73, CIFAR-10 Batch 5:  Loss:     0.0482 Validation Accuracy: 0.676600\n",
      "Epoch 74, CIFAR-10 Batch 1:  Loss:     0.0326 Validation Accuracy: 0.670200\n",
      "Epoch 74, CIFAR-10 Batch 2:  Loss:     0.0570 Validation Accuracy: 0.675800\n",
      "Epoch 74, CIFAR-10 Batch 3:  Loss:     0.0613 Validation Accuracy: 0.675600\n",
      "Epoch 74, CIFAR-10 Batch 4:  Loss:     0.0441 Validation Accuracy: 0.668200\n",
      "Epoch 74, CIFAR-10 Batch 5:  Loss:     0.0461 Validation Accuracy: 0.672400\n",
      "Epoch 75, CIFAR-10 Batch 1:  Loss:     0.0343 Validation Accuracy: 0.670000\n",
      "Epoch 75, CIFAR-10 Batch 2:  Loss:     0.0487 Validation Accuracy: 0.672400\n",
      "Epoch 75, CIFAR-10 Batch 3:  Loss:     0.0601 Validation Accuracy: 0.675800\n",
      "Epoch 75, CIFAR-10 Batch 4:  Loss:     0.0362 Validation Accuracy: 0.677400\n",
      "Epoch 75, CIFAR-10 Batch 5:  Loss:     0.0440 Validation Accuracy: 0.672200\n",
      "Epoch 76, CIFAR-10 Batch 1:  Loss:     0.0294 Validation Accuracy: 0.673200\n",
      "Epoch 76, CIFAR-10 Batch 2:  Loss:     0.0444 Validation Accuracy: 0.670400\n",
      "Epoch 76, CIFAR-10 Batch 3:  Loss:     0.0596 Validation Accuracy: 0.671600\n",
      "Epoch 76, CIFAR-10 Batch 4:  Loss:     0.0371 Validation Accuracy: 0.674400\n",
      "Epoch 76, CIFAR-10 Batch 5:  Loss:     0.0417 Validation Accuracy: 0.673200\n",
      "Epoch 77, CIFAR-10 Batch 1:  Loss:     0.0270 Validation Accuracy: 0.675000\n",
      "Epoch 77, CIFAR-10 Batch 2:  Loss:     0.0537 Validation Accuracy: 0.674400\n",
      "Epoch 77, CIFAR-10 Batch 3:  Loss:     0.0590 Validation Accuracy: 0.671600\n",
      "Epoch 77, CIFAR-10 Batch 4:  Loss:     0.0398 Validation Accuracy: 0.672200\n",
      "Epoch 77, CIFAR-10 Batch 5:  Loss:     0.0386 Validation Accuracy: 0.673600\n",
      "Epoch 78, CIFAR-10 Batch 1:  Loss:     0.0313 Validation Accuracy: 0.679600\n",
      "Epoch 78, CIFAR-10 Batch 2:  Loss:     0.0560 Validation Accuracy: 0.666800\n",
      "Epoch 78, CIFAR-10 Batch 3:  Loss:     0.0570 Validation Accuracy: 0.671600\n",
      "Epoch 78, CIFAR-10 Batch 4:  Loss:     0.0424 Validation Accuracy: 0.674800\n",
      "Epoch 78, CIFAR-10 Batch 5:  Loss:     0.0364 Validation Accuracy: 0.678000\n",
      "Epoch 79, CIFAR-10 Batch 1:  Loss:     0.0267 Validation Accuracy: 0.680600\n",
      "Epoch 79, CIFAR-10 Batch 2:  Loss:     0.0482 Validation Accuracy: 0.671800\n",
      "Epoch 79, CIFAR-10 Batch 3:  Loss:     0.0544 Validation Accuracy: 0.677000\n",
      "Epoch 79, CIFAR-10 Batch 4:  Loss:     0.0432 Validation Accuracy: 0.678400\n",
      "Epoch 79, CIFAR-10 Batch 5:  Loss:     0.0482 Validation Accuracy: 0.674800\n",
      "Epoch 80, CIFAR-10 Batch 1:  Loss:     0.0308 Validation Accuracy: 0.679200\n",
      "Epoch 80, CIFAR-10 Batch 2:  Loss:     0.0431 Validation Accuracy: 0.672400\n",
      "Epoch 80, CIFAR-10 Batch 3:  Loss:     0.0540 Validation Accuracy: 0.678400\n",
      "Epoch 80, CIFAR-10 Batch 4:  Loss:     0.0403 Validation Accuracy: 0.671000\n",
      "Epoch 80, CIFAR-10 Batch 5:  Loss:     0.0340 Validation Accuracy: 0.673800\n",
      "Epoch 81, CIFAR-10 Batch 1:  Loss:     0.0233 Validation Accuracy: 0.677000\n",
      "Epoch 81, CIFAR-10 Batch 2:  Loss:     0.0501 Validation Accuracy: 0.674200\n",
      "Epoch 81, CIFAR-10 Batch 3:  Loss:     0.0447 Validation Accuracy: 0.673200\n",
      "Epoch 81, CIFAR-10 Batch 4:  Loss:     0.0394 Validation Accuracy: 0.674800\n",
      "Epoch 81, CIFAR-10 Batch 5:  Loss:     0.0330 Validation Accuracy: 0.676400\n",
      "Epoch 82, CIFAR-10 Batch 1:  Loss:     0.0326 Validation Accuracy: 0.677400\n",
      "Epoch 82, CIFAR-10 Batch 2:  Loss:     0.0386 Validation Accuracy: 0.672800\n",
      "Epoch 82, CIFAR-10 Batch 3:  Loss:     0.0466 Validation Accuracy: 0.674400\n",
      "Epoch 82, CIFAR-10 Batch 4:  Loss:     0.0426 Validation Accuracy: 0.673400\n",
      "Epoch 82, CIFAR-10 Batch 5:  Loss:     0.0361 Validation Accuracy: 0.673800\n",
      "Epoch 83, CIFAR-10 Batch 1:  Loss:     0.0201 Validation Accuracy: 0.672600\n",
      "Epoch 83, CIFAR-10 Batch 2:  Loss:     0.0439 Validation Accuracy: 0.672800\n",
      "Epoch 83, CIFAR-10 Batch 3:  Loss:     0.0457 Validation Accuracy: 0.670600\n",
      "Epoch 83, CIFAR-10 Batch 4:  Loss:     0.0468 Validation Accuracy: 0.670000\n",
      "Epoch 83, CIFAR-10 Batch 5:  Loss:     0.0418 Validation Accuracy: 0.671000\n",
      "Epoch 84, CIFAR-10 Batch 1:  Loss:     0.0247 Validation Accuracy: 0.673400\n",
      "Epoch 84, CIFAR-10 Batch 2:  Loss:     0.0412 Validation Accuracy: 0.674600\n",
      "Epoch 84, CIFAR-10 Batch 3:  Loss:     0.0462 Validation Accuracy: 0.666800\n",
      "Epoch 84, CIFAR-10 Batch 4:  Loss:     0.0426 Validation Accuracy: 0.673200\n",
      "Epoch 84, CIFAR-10 Batch 5:  Loss:     0.0419 Validation Accuracy: 0.672800\n",
      "Epoch 85, CIFAR-10 Batch 1:  Loss:     0.0231 Validation Accuracy: 0.666600\n",
      "Epoch 85, CIFAR-10 Batch 2:  Loss:     0.0433 Validation Accuracy: 0.664000\n",
      "Epoch 85, CIFAR-10 Batch 3:  Loss:     0.0376 Validation Accuracy: 0.672000\n",
      "Epoch 85, CIFAR-10 Batch 4:  Loss:     0.0369 Validation Accuracy: 0.667800\n",
      "Epoch 85, CIFAR-10 Batch 5:  Loss:     0.0287 Validation Accuracy: 0.676200\n",
      "Epoch 86, CIFAR-10 Batch 1:  Loss:     0.0224 Validation Accuracy: 0.674400\n",
      "Epoch 86, CIFAR-10 Batch 2:  Loss:     0.0425 Validation Accuracy: 0.667800\n",
      "Epoch 86, CIFAR-10 Batch 3:  Loss:     0.0372 Validation Accuracy: 0.672400\n",
      "Epoch 86, CIFAR-10 Batch 4:  Loss:     0.0436 Validation Accuracy: 0.676800\n",
      "Epoch 86, CIFAR-10 Batch 5:  Loss:     0.0486 Validation Accuracy: 0.672400\n",
      "Epoch 87, CIFAR-10 Batch 1:  Loss:     0.0263 Validation Accuracy: 0.676000\n",
      "Epoch 87, CIFAR-10 Batch 2:  Loss:     0.0422 Validation Accuracy: 0.672000\n",
      "Epoch 87, CIFAR-10 Batch 3:  Loss:     0.0441 Validation Accuracy: 0.674800\n",
      "Epoch 87, CIFAR-10 Batch 4:  Loss:     0.0349 Validation Accuracy: 0.672800\n",
      "Epoch 87, CIFAR-10 Batch 5:  Loss:     0.0264 Validation Accuracy: 0.669400\n",
      "Epoch 88, CIFAR-10 Batch 1:  Loss:     0.0284 Validation Accuracy: 0.675600\n",
      "Epoch 88, CIFAR-10 Batch 2:  Loss:     0.0334 Validation Accuracy: 0.679200\n",
      "Epoch 88, CIFAR-10 Batch 3:  Loss:     0.0425 Validation Accuracy: 0.668200\n",
      "Epoch 88, CIFAR-10 Batch 4:  Loss:     0.0373 Validation Accuracy: 0.677000\n",
      "Epoch 88, CIFAR-10 Batch 5:  Loss:     0.0387 Validation Accuracy: 0.672200\n",
      "Epoch 89, CIFAR-10 Batch 1:  Loss:     0.0192 Validation Accuracy: 0.675000\n",
      "Epoch 89, CIFAR-10 Batch 2:  Loss:     0.0389 Validation Accuracy: 0.676000\n",
      "Epoch 89, CIFAR-10 Batch 3:  Loss:     0.0365 Validation Accuracy: 0.672600\n",
      "Epoch 89, CIFAR-10 Batch 4:  Loss:     0.0343 Validation Accuracy: 0.679800\n",
      "Epoch 89, CIFAR-10 Batch 5:  Loss:     0.0392 Validation Accuracy: 0.678800\n",
      "Epoch 90, CIFAR-10 Batch 1:  Loss:     0.0222 Validation Accuracy: 0.678600\n",
      "Epoch 90, CIFAR-10 Batch 2:  Loss:     0.0491 Validation Accuracy: 0.672400\n",
      "Epoch 90, CIFAR-10 Batch 3:  Loss:     0.0467 Validation Accuracy: 0.674800\n",
      "Epoch 90, CIFAR-10 Batch 4:  Loss:     0.0316 Validation Accuracy: 0.672800\n",
      "Epoch 90, CIFAR-10 Batch 5:  Loss:     0.0339 Validation Accuracy: 0.674200\n",
      "Epoch 91, CIFAR-10 Batch 1:  Loss:     0.0230 Validation Accuracy: 0.673200\n",
      "Epoch 91, CIFAR-10 Batch 2:  Loss:     0.0377 Validation Accuracy: 0.679200\n",
      "Epoch 91, CIFAR-10 Batch 3:  Loss:     0.0359 Validation Accuracy: 0.679000\n",
      "Epoch 91, CIFAR-10 Batch 4:  Loss:     0.0387 Validation Accuracy: 0.672800\n",
      "Epoch 91, CIFAR-10 Batch 5:  Loss:     0.0287 Validation Accuracy: 0.674800\n",
      "Epoch 92, CIFAR-10 Batch 1:  Loss:     0.0190 Validation Accuracy: 0.679600\n",
      "Epoch 92, CIFAR-10 Batch 2:  Loss:     0.0407 Validation Accuracy: 0.679400\n",
      "Epoch 92, CIFAR-10 Batch 3:  Loss:     0.0414 Validation Accuracy: 0.675000\n",
      "Epoch 92, CIFAR-10 Batch 4:  Loss:     0.0333 Validation Accuracy: 0.675800\n",
      "Epoch 92, CIFAR-10 Batch 5:  Loss:     0.0382 Validation Accuracy: 0.671000\n",
      "Epoch 93, CIFAR-10 Batch 1:  Loss:     0.0252 Validation Accuracy: 0.674200\n",
      "Epoch 93, CIFAR-10 Batch 2:  Loss:     0.0356 Validation Accuracy: 0.676400\n",
      "Epoch 93, CIFAR-10 Batch 3:  Loss:     0.0381 Validation Accuracy: 0.675400\n",
      "Epoch 93, CIFAR-10 Batch 4:  Loss:     0.0289 Validation Accuracy: 0.678600\n",
      "Epoch 93, CIFAR-10 Batch 5:  Loss:     0.0427 Validation Accuracy: 0.678800\n",
      "Epoch 94, CIFAR-10 Batch 1:  Loss:     0.0205 Validation Accuracy: 0.677000\n",
      "Epoch 94, CIFAR-10 Batch 2:  Loss:     0.0317 Validation Accuracy: 0.679600\n",
      "Epoch 94, CIFAR-10 Batch 3:  Loss:     0.0351 Validation Accuracy: 0.667600\n",
      "Epoch 94, CIFAR-10 Batch 4:  Loss:     0.0379 Validation Accuracy: 0.675800\n",
      "Epoch 94, CIFAR-10 Batch 5:  Loss:     0.0253 Validation Accuracy: 0.677400\n",
      "Epoch 95, CIFAR-10 Batch 1:  Loss:     0.0162 Validation Accuracy: 0.675000\n",
      "Epoch 95, CIFAR-10 Batch 2:  Loss:     0.0416 Validation Accuracy: 0.680000\n",
      "Epoch 95, CIFAR-10 Batch 3:  Loss:     0.0386 Validation Accuracy: 0.678200\n",
      "Epoch 95, CIFAR-10 Batch 4:  Loss:     0.0350 Validation Accuracy: 0.662800\n",
      "Epoch 95, CIFAR-10 Batch 5:  Loss:     0.0293 Validation Accuracy: 0.678200\n",
      "Epoch 96, CIFAR-10 Batch 1:  Loss:     0.0160 Validation Accuracy: 0.679000\n",
      "Epoch 96, CIFAR-10 Batch 2:  Loss:     0.0406 Validation Accuracy: 0.677800\n",
      "Epoch 96, CIFAR-10 Batch 3:  Loss:     0.0397 Validation Accuracy: 0.679000\n",
      "Epoch 96, CIFAR-10 Batch 4:  Loss:     0.0300 Validation Accuracy: 0.675200\n",
      "Epoch 96, CIFAR-10 Batch 5:  Loss:     0.0303 Validation Accuracy: 0.675400\n",
      "Epoch 97, CIFAR-10 Batch 1:  Loss:     0.0165 Validation Accuracy: 0.673600\n",
      "Epoch 97, CIFAR-10 Batch 2:  Loss:     0.0286 Validation Accuracy: 0.667800\n",
      "Epoch 97, CIFAR-10 Batch 3:  Loss:     0.0275 Validation Accuracy: 0.673200\n",
      "Epoch 97, CIFAR-10 Batch 4:  Loss:     0.0340 Validation Accuracy: 0.679600\n",
      "Epoch 97, CIFAR-10 Batch 5:  Loss:     0.0323 Validation Accuracy: 0.675000\n",
      "Epoch 98, CIFAR-10 Batch 1:  Loss:     0.0207 Validation Accuracy: 0.675600\n",
      "Epoch 98, CIFAR-10 Batch 2:  Loss:     0.0330 Validation Accuracy: 0.676400\n",
      "Epoch 98, CIFAR-10 Batch 3:  Loss:     0.0337 Validation Accuracy: 0.673800\n",
      "Epoch 98, CIFAR-10 Batch 4:  Loss:     0.0331 Validation Accuracy: 0.678000\n",
      "Epoch 98, CIFAR-10 Batch 5:  Loss:     0.0255 Validation Accuracy: 0.673000\n",
      "Epoch 99, CIFAR-10 Batch 1:  Loss:     0.0206 Validation Accuracy: 0.666400\n",
      "Epoch 99, CIFAR-10 Batch 2:  Loss:     0.0353 Validation Accuracy: 0.679400\n",
      "Epoch 99, CIFAR-10 Batch 3:  Loss:     0.0316 Validation Accuracy: 0.678000\n",
      "Epoch 99, CIFAR-10 Batch 4:  Loss:     0.0270 Validation Accuracy: 0.677800\n",
      "Epoch 99, CIFAR-10 Batch 5:  Loss:     0.0341 Validation Accuracy: 0.675000\n",
      "Epoch 100, CIFAR-10 Batch 1:  Loss:     0.0172 Validation Accuracy: 0.678800\n",
      "Epoch 100, CIFAR-10 Batch 2:  Loss:     0.0391 Validation Accuracy: 0.680000\n",
      "Epoch 100, CIFAR-10 Batch 3:  Loss:     0.0368 Validation Accuracy: 0.674800\n",
      "Epoch 100, CIFAR-10 Batch 4:  Loss:     0.0279 Validation Accuracy: 0.673800\n",
      "Epoch 100, CIFAR-10 Batch 5:  Loss:     0.0298 Validation Accuracy: 0.676200\n"
     ]
    }
   ],
   "source": [
    "\"\"\"\n",
    "DON'T MODIFY ANYTHING IN THIS CELL\n",
    "\"\"\"\n",
    "save_model_path = './image_classification'\n",
    "\n",
    "print('Training...')\n",
    "with tf.Session() as sess:\n",
    "    # Initializing the variables\n",
    "    sess.run(tf.global_variables_initializer())\n",
    "    \n",
    "    # Training cycle\n",
    "    for epoch in range(epochs):\n",
    "        # Loop over all batches\n",
    "        n_batches = 5\n",
    "        for batch_i in range(1, n_batches + 1):\n",
    "            for batch_features, batch_labels in helper.load_preprocess_training_batch(batch_i, batch_size):\n",
    "                train_neural_network(sess, optimizer, keep_probability, batch_features, batch_labels)\n",
    "            print('Epoch {:>2}, CIFAR-10 Batch {}:  '.format(epoch + 1, batch_i), end='')\n",
    "            print_stats(sess, batch_features, batch_labels, cost, accuracy)\n",
    "            \n",
    "    # Save Model\n",
    "    saver = tf.train.Saver()\n",
    "    save_path = saver.save(sess, save_model_path)"
   ]
  },
  {
   "cell_type": "markdown",
   "metadata": {
    "deletable": true,
    "editable": true
   },
   "source": [
    "# Checkpoint\n",
    "The model has been saved to disk.\n",
    "## Test Model\n",
    "Test your model against the test dataset.  This will be your final accuracy. You should have an accuracy greater than 50%. If you don't, keep tweaking the model architecture and parameters."
   ]
  },
  {
   "cell_type": "code",
   "execution_count": 105,
   "metadata": {
    "collapsed": false,
    "deletable": true,
    "editable": true
   },
   "outputs": [
    {
     "name": "stdout",
     "output_type": "stream",
     "text": [
      "Testing Accuracy: 0.668809335443038\n",
      "\n"
     ]
    },
    {
     "data": {
      "image/png": "[encoded data removed]",
      "text/plain": [
       "<matplotlib.figure.Figure at 0x7f2820de2f28>"
      ]
     },
     "metadata": {
      "image/png": {
       "height": 319,
       "width": 355
      }
     },
     "output_type": "display_data"
    }
   ],
   "source": [
    "\"\"\"\n",
    "DON'T MODIFY ANYTHING IN THIS CELL\n",
    "\"\"\"\n",
    "%matplotlib inline\n",
    "%config InlineBackend.figure_format = 'retina'\n",
    "\n",
    "import tensorflow as tf\n",
    "import pickle\n",
    "import helper\n",
    "import random\n",
    "\n",
    "# Set batch size if not already set\n",
    "try:\n",
    "    if batch_size:\n",
    "        pass\n",
    "except NameError:\n",
    "    batch_size = 64\n",
    "\n",
    "save_model_path = './image_classification'\n",
    "n_samples = 4\n",
    "top_n_predictions = 3\n",
    "\n",
    "def test_model():\n",
    "    \"\"\"\n",
    "    Test the saved model against the test dataset\n",
    "    \"\"\"\n",
    "\n",
    "    test_features, test_labels = pickle.load(open('preprocess_training.p', mode='rb'))\n",
    "    loaded_graph = tf.Graph()\n",
    "\n",
    "    with tf.Session(graph=loaded_graph) as sess:\n",
    "        # Load model\n",
    "        loader = tf.train.import_meta_graph(save_model_path + '.meta')\n",
    "        loader.restore(sess, save_model_path)\n",
    "\n",
    "        # Get Tensors from loaded model\n",
    "        loaded_x = loaded_graph.get_tensor_by_name('x:0')\n",
    "        loaded_y = loaded_graph.get_tensor_by_name('y:0')\n",
    "        loaded_keep_prob = loaded_graph.get_tensor_by_name('keep_prob:0')\n",
    "        loaded_logits = loaded_graph.get_tensor_by_name('logits:0')\n",
    "        loaded_acc = loaded_graph.get_tensor_by_name('accuracy:0')\n",
    "        \n",
    "        # Get accuracy in batches for memory limitations\n",
    "        test_batch_acc_total = 0\n",
    "        test_batch_count = 0\n",
    "        \n",
    "        for train_feature_batch, train_label_batch in helper.batch_features_labels(test_features, test_labels, batch_size):\n",
    "            test_batch_acc_total += sess.run(\n",
    "                loaded_acc,\n",
    "                feed_dict={loaded_x: train_feature_batch, loaded_y: train_label_batch, loaded_keep_prob: 1.0})\n",
    "            test_batch_count += 1\n",
    "\n",
    "        print('Testing Accuracy: {}\\n'.format(test_batch_acc_total/test_batch_count))\n",
    "\n",
    "        # Print Random Samples\n",
    "        random_test_features, random_test_labels = tuple(zip(*random.sample(list(zip(test_features, test_labels)), n_samples)))\n",
    "        random_test_predictions = sess.run(\n",
    "            tf.nn.top_k(tf.nn.softmax(loaded_logits), top_n_predictions),\n",
    "            feed_dict={loaded_x: random_test_features, loaded_y: random_test_labels, loaded_keep_prob: 1.0})\n",
    "        helper.display_image_predictions(random_test_features, random_test_labels, random_test_predictions)\n",
    "\n",
    "\n",
    "test_model()"
   ]
  },
  {
   "cell_type": "markdown",
   "metadata": {
    "deletable": true,
    "editable": true
   },
   "source": [
    "## Why 50-80% Accuracy?\n",
    "You might be wondering why you can't get an accuracy any higher. First things first, 50% isn't bad for a simple CNN.  Pure guessing would get you 10% accuracy. However, you might notice people are getting scores [well above 80%](http://rodrigob.github.io/are_we_there_yet/build/classification_datasets_results.html#43494641522d3130).  That's because we haven't taught you all there is to know about neural networks. We still need to cover a few more techniques.\n",
    "## Submitting This Project\n",
    "When submitting this project, make sure to run all the cells before saving the notebook.  Save the notebook file as \"dlnd_image_classification.ipynb\" and save it as a HTML file under \"File\" -> \"Download as\".  Include the \"helper.py\" and \"problem_unittests.py\" files in your submission."
   ]
  }
 ],
 "metadata": {
  "kernelspec": {
   "display_name": "Python 3",
   "language": "python",
   "name": "python3"
  },
  "language_info": {
   "codemirror_mode": {
    "name": "ipython",
    "version": 3
   },
   "file_extension": ".py",
   "mimetype": "text/x-python",
   "name": "python",
   "nbconvert_exporter": "python",
   "pygments_lexer": "ipython3",
   "version": "3.5.2"
  },
  "widgets": {
   "state": {},
   "version": "1.1.2"
  }
 },
 "nbformat": 4,
 "nbformat_minor": 0
}
