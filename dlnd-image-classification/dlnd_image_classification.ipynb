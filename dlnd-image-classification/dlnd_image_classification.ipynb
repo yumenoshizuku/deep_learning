{
 "cells": [
  {
   "cell_type": "markdown",
   "metadata": {
    "collapsed": true,
    "deletable": true,
    "editable": true
   },
   "source": [
    "# Image Classification\n",
    "In this project, you'll classify images from the [CIFAR-10 dataset](https://www.cs.toronto.edu/~kriz/cifar.html).  The dataset consists of airplanes, dogs, cats, and other objects. You'll preprocess the images, then train a convolutional neural network on all the samples. The images need to be normalized and the labels need to be one-hot encoded.  You'll get to apply what you learned and build a convolutional, max pooling, dropout, and fully connected layers.  At the end, you'll get to see your neural network's predictions on the sample images.\n",
    "## Get the Data\n",
    "Run the following cell to download the [CIFAR-10 dataset for python](https://www.cs.toronto.edu/~kriz/cifar-10-python.tar.gz)."
   ]
  },
  {
   "cell_type": "code",
   "execution_count": 1,
   "metadata": {
    "collapsed": false,
    "deletable": true,
    "editable": true
   },
   "outputs": [
    {
     "name": "stderr",
     "output_type": "stream",
     "text": [
      "CIFAR-10 Dataset: 171MB [00:29, 5.72MB/s]                              "
     ]
    },
    {
     "name": "stdout",
     "output_type": "stream",
     "text": [
      "All files found!\n"
     ]
    },
    {
     "name": "stderr",
     "output_type": "stream",
     "text": [
      "\n"
     ]
    }
   ],
   "source": [
    "\"\"\"\n",
    "DON'T MODIFY ANYTHING IN THIS CELL THAT IS BELOW THIS LINE\n",
    "\"\"\"\n",
    "from urllib.request import urlretrieve\n",
    "from os.path import isfile, isdir\n",
    "from tqdm import tqdm\n",
    "import problem_unittests as tests\n",
    "import tarfile\n",
    "\n",
    "cifar10_dataset_folder_path = 'cifar-10-batches-py'\n",
    "\n",
    "class DLProgress(tqdm):\n",
    "    last_block = 0\n",
    "\n",
    "    def hook(self, block_num=1, block_size=1, total_size=None):\n",
    "        self.total = total_size\n",
    "        self.update((block_num - self.last_block) * block_size)\n",
    "        self.last_block = block_num\n",
    "\n",
    "if not isfile('cifar-10-python.tar.gz'):\n",
    "    with DLProgress(unit='B', unit_scale=True, miniters=1, desc='CIFAR-10 Dataset') as pbar:\n",
    "        urlretrieve(\n",
    "            'https://www.cs.toronto.edu/~kriz/cifar-10-python.tar.gz',\n",
    "            'cifar-10-python.tar.gz',\n",
    "            pbar.hook)\n",
    "\n",
    "if not isdir(cifar10_dataset_folder_path):\n",
    "    with tarfile.open('cifar-10-python.tar.gz') as tar:\n",
    "        tar.extractall()\n",
    "        tar.close()\n",
    "\n",
    "\n",
    "tests.test_folder_path(cifar10_dataset_folder_path)"
   ]
  },
  {
   "cell_type": "markdown",
   "metadata": {
    "deletable": true,
    "editable": true
   },
   "source": [
    "## Explore the Data\n",
    "The dataset is broken into batches to prevent your machine from running out of memory.  The CIFAR-10 dataset consists of 5 batches, named `data_batch_1`, `data_batch_2`, etc.. Each batch contains the labels and images that are one of the following:\n",
    "* airplane\n",
    "* automobile\n",
    "* bird\n",
    "* cat\n",
    "* deer\n",
    "* dog\n",
    "* frog\n",
    "* horse\n",
    "* ship\n",
    "* truck\n",
    "\n",
    "Understanding a dataset is part of making predictions on the data.  Play around with the code cell below by changing the `batch_id` and `sample_id`. The `batch_id` is the id for a batch (1-5). The `sample_id` is the id for a image and label pair in the batch.\n",
    "\n",
    "Ask yourself \"What are all possible labels?\", \"What is the range of values for the image data?\", \"Are the labels in order or random?\".  Answers to questions like these will help you preprocess the data and end up with better predictions."
   ]
  },
  {
   "cell_type": "code",
   "execution_count": 2,
   "metadata": {
    "collapsed": false,
    "deletable": true,
    "editable": true
   },
   "outputs": [
    {
     "name": "stdout",
     "output_type": "stream",
     "text": [
      "\n",
      "Stats of batch 5:\n",
      "Samples: 10000\n",
      "Label Counts: {0: 1014, 1: 1014, 2: 952, 3: 1016, 4: 997, 5: 1025, 6: 980, 7: 977, 8: 1003, 9: 1022}\n",
      "First 20 Labels: [1, 8, 5, 1, 5, 7, 4, 3, 8, 2, 7, 2, 0, 1, 5, 9, 6, 2, 0, 8]\n",
      "\n",
      "Example of Image 9999:\n",
      "Image - Min Value: 4 Max Value: 255\n",
      "Image - Shape: (32, 32, 3)\n",
      "Label - Label Id: 1 Name: automobile\n"
     ]
    },
    {
     "data": {
      "image/png": "[encoded data removed]",
      "text/plain": [
       "<matplotlib.figure.Figure at 0x7fe4cc5933c8>"
      ]
     },
     "metadata": {
      "image/png": {
       "height": 250,
       "width": 253
      }
     },
     "output_type": "display_data"
    }
   ],
   "source": [
    "%matplotlib inline\n",
    "%config InlineBackend.figure_format = 'retina'\n",
    "\n",
    "import helper\n",
    "import numpy as np\n",
    "\n",
    "# Explore the dataset\n",
    "batch_id = 5\n",
    "sample_id = 9999\n",
    "helper.display_stats(cifar10_dataset_folder_path, batch_id, sample_id)"
   ]
  },
  {
   "cell_type": "markdown",
   "metadata": {
    "deletable": true,
    "editable": true
   },
   "source": [
    "## Implement Preprocess Functions\n",
    "### Normalize\n",
    "In the cell below, implement the `normalize` function to take in image data, `x`, and return it as a normalized Numpy array. The values should be in the range of 0 to 1, inclusive.  The return object should be the same shape as `x`."
   ]
  },
  {
   "cell_type": "code",
   "execution_count": 3,
   "metadata": {
    "collapsed": false,
    "deletable": true,
    "editable": true
   },
   "outputs": [
    {
     "name": "stdout",
     "output_type": "stream",
     "text": [
      "Tests Passed\n"
     ]
    }
   ],
   "source": [
    "def normalize(x):\n",
    "    \"\"\"\n",
    "    Normalize a list of sample image data in the range of 0 to 1\n",
    "    : x: List of image data.  The image shape is (32, 32, 3)\n",
    "    : return: Numpy array of normalize data\n",
    "    \"\"\"\n",
    "    # TODO: Implement Function\n",
    "    x_max = np.max(x)\n",
    "    x_min = np.min(x)\n",
    "    return (x - x_min) / (x_max - x_min)\n",
    "\n",
    "\n",
    "\"\"\"\n",
    "DON'T MODIFY ANYTHING IN THIS CELL THAT IS BELOW THIS LINE\n",
    "\"\"\"\n",
    "tests.test_normalize(normalize)"
   ]
  },
  {
   "cell_type": "markdown",
   "metadata": {
    "deletable": true,
    "editable": true
   },
   "source": [
    "### One-hot encode\n",
    "Just like the previous code cell, you'll be implementing a function for preprocessing.  This time, you'll implement the `one_hot_encode` function. The input, `x`, are a list of labels.  Implement the function to return the list of labels as One-Hot encoded Numpy array.  The possible values for labels are 0 to 9. The one-hot encoding function should return the same encoding for each value between each call to `one_hot_encode`.  Make sure to save the map of encodings outside the function.\n",
    "\n",
    "Hint: Don't reinvent the wheel."
   ]
  },
  {
   "cell_type": "code",
   "execution_count": 4,
   "metadata": {
    "collapsed": false,
    "deletable": true,
    "editable": true
   },
   "outputs": [
    {
     "name": "stdout",
     "output_type": "stream",
     "text": [
      "Tests Passed\n"
     ]
    }
   ],
   "source": [
    "global encoded\n",
    "\n",
    "def one_hot_encode(x):\n",
    "    \"\"\"\n",
    "    One hot encode a list of sample labels. Return a one-hot encoded vector for each label.\n",
    "    : x: List of sample Labels\n",
    "    : return: Numpy array of one-hot encoded labels\n",
    "    \"\"\"\n",
    "    # TODO: Implement Function\n",
    "    encoded = np.zeros((len(x), 10))\n",
    "    encoded[np.arange(len(x)), x] = 1\n",
    "    return encoded\n",
    "\n",
    "\n",
    "\"\"\"\n",
    "DON'T MODIFY ANYTHING IN THIS CELL THAT IS BELOW THIS LINE\n",
    "\"\"\"\n",
    "tests.test_one_hot_encode(one_hot_encode)"
   ]
  },
  {
   "cell_type": "markdown",
   "metadata": {
    "deletable": true,
    "editable": true
   },
   "source": [
    "### Randomize Data\n",
    "As you saw from exploring the data above, the order of the samples are randomized.  It doesn't hurt to randomize it again, but you don't need to for this dataset."
   ]
  },
  {
   "cell_type": "markdown",
   "metadata": {
    "deletable": true,
    "editable": true
   },
   "source": [
    "## Preprocess all the data and save it\n",
    "Running the code cell below will preprocess all the CIFAR-10 data and save it to file. The code below also uses 10% of the training data for validation."
   ]
  },
  {
   "cell_type": "code",
   "execution_count": 5,
   "metadata": {
    "collapsed": false,
    "deletable": true,
    "editable": true
   },
   "outputs": [],
   "source": [
    "\"\"\"\n",
    "DON'T MODIFY ANYTHING IN THIS CELL\n",
    "\"\"\"\n",
    "# Preprocess Training, Validation, and Testing Data\n",
    "helper.preprocess_and_save_data(cifar10_dataset_folder_path, normalize, one_hot_encode)"
   ]
  },
  {
   "cell_type": "markdown",
   "metadata": {
    "deletable": true,
    "editable": true
   },
   "source": [
    "# Check Point\n",
    "This is your first checkpoint.  If you ever decide to come back to this notebook or have to restart the notebook, you can start from here.  The preprocessed data has been saved to disk."
   ]
  },
  {
   "cell_type": "code",
   "execution_count": 6,
   "metadata": {
    "collapsed": true,
    "deletable": true,
    "editable": true
   },
   "outputs": [],
   "source": [
    "\"\"\"\n",
    "DON'T MODIFY ANYTHING IN THIS CELL\n",
    "\"\"\"\n",
    "import pickle\n",
    "import problem_unittests as tests\n",
    "import helper\n",
    "\n",
    "# Load the Preprocessed Validation data\n",
    "valid_features, valid_labels = pickle.load(open('preprocess_validation.p', mode='rb'))"
   ]
  },
  {
   "cell_type": "markdown",
   "metadata": {
    "deletable": true,
    "editable": true
   },
   "source": [
    "## Build the network\n",
    "For the neural network, you'll build each layer into a function.  Most of the code you've seen has been outside of functions. To test your code more thoroughly, we require that you put each layer in a function.  This allows us to give you better feedback and test for simple mistakes using our unittests before you submit your project.\n",
    "\n",
    ">**Note:** If you're finding it hard to dedicate enough time for this course each week, we've provided a small shortcut to this part of the project. In the next couple of problems, you'll have the option to use classes from the [TensorFlow Layers](https://www.tensorflow.org/api_docs/python/tf/layers) or [TensorFlow Layers (contrib)](https://www.tensorflow.org/api_guides/python/contrib.layers) packages to build each layer, except the layers you build in the \"Convolutional and Max Pooling Layer\" section.  TF Layers is similar to Keras's and TFLearn's abstraction to layers, so it's easy to pickup.\n",
    "\n",
    ">However, if you would like to get the most out of this course, try to solve all the problems _without_ using anything from the TF Layers packages. You **can** still use classes from other packages that happen to have the same name as ones you find in TF Layers! For example, instead of using the TF Layers version of the `conv2d` class, [tf.layers.conv2d](https://www.tensorflow.org/api_docs/python/tf/layers/conv2d), you would want to use the TF Neural Network version of `conv2d`, [tf.nn.conv2d](https://www.tensorflow.org/api_docs/python/tf/nn/conv2d). \n",
    "\n",
    "Let's begin!\n",
    "\n",
    "### Input\n",
    "The neural network needs to read the image data, one-hot encoded labels, and dropout keep probability. Implement the following functions\n",
    "* Implement `neural_net_image_input`\n",
    " * Return a [TF Placeholder](https://www.tensorflow.org/api_docs/python/tf/placeholder)\n",
    " * Set the shape using `image_shape` with batch size set to `None`.\n",
    " * Name the TensorFlow placeholder \"x\" using the TensorFlow `name` parameter in the [TF Placeholder](https://www.tensorflow.org/api_docs/python/tf/placeholder).\n",
    "* Implement `neural_net_label_input`\n",
    " * Return a [TF Placeholder](https://www.tensorflow.org/api_docs/python/tf/placeholder)\n",
    " * Set the shape using `n_classes` with batch size set to `None`.\n",
    " * Name the TensorFlow placeholder \"y\" using the TensorFlow `name` parameter in the [TF Placeholder](https://www.tensorflow.org/api_docs/python/tf/placeholder).\n",
    "* Implement `neural_net_keep_prob_input`\n",
    " * Return a [TF Placeholder](https://www.tensorflow.org/api_docs/python/tf/placeholder) for dropout keep probability.\n",
    " * Name the TensorFlow placeholder \"keep_prob\" using the TensorFlow `name` parameter in the [TF Placeholder](https://www.tensorflow.org/api_docs/python/tf/placeholder).\n",
    "\n",
    "These names will be used at the end of the project to load your saved model.\n",
    "\n",
    "Note: `None` for shapes in TensorFlow allow for a dynamic size."
   ]
  },
  {
   "cell_type": "code",
   "execution_count": 7,
   "metadata": {
    "collapsed": false,
    "deletable": true,
    "editable": true
   },
   "outputs": [
    {
     "name": "stdout",
     "output_type": "stream",
     "text": [
      "Image Input Tests Passed.\n",
      "Label Input Tests Passed.\n",
      "Keep Prob Tests Passed.\n"
     ]
    }
   ],
   "source": [
    "import tensorflow as tf\n",
    "\n",
    "def neural_net_image_input(image_shape):\n",
    "    \"\"\"\n",
    "    Return a Tensor for a bach of image input\n",
    "    : image_shape: Shape of the images\n",
    "    : return: Tensor for image input.\n",
    "    \"\"\"\n",
    "    # TODO: Implement Function\n",
    "    return tf.placeholder(tf.float32, [None, *image_shape[:]], name=\"x\")\n",
    "\n",
    "\n",
    "def neural_net_label_input(n_classes):\n",
    "    \"\"\"\n",
    "    Return a Tensor for a batch of label input\n",
    "    : n_classes: Number of classes\n",
    "    : return: Tensor for label input.\n",
    "    \"\"\"\n",
    "    # TODO: Implement Function\n",
    "    return tf.placeholder(tf.float32, [None, n_classes], name=\"y\")\n",
    "\n",
    "\n",
    "def neural_net_keep_prob_input():\n",
    "    \"\"\"\n",
    "    Return a Tensor for keep probability\n",
    "    : return: Tensor for keep probability.\n",
    "    \"\"\"\n",
    "    # TODO: Implement Function\n",
    "    return tf.placeholder(tf.float32, name=\"keep_prob\")\n",
    "\n",
    "\n",
    "\"\"\"\n",
    "DON'T MODIFY ANYTHING IN THIS CELL THAT IS BELOW THIS LINE\n",
    "\"\"\"\n",
    "tf.reset_default_graph()\n",
    "tests.test_nn_image_inputs(neural_net_image_input)\n",
    "tests.test_nn_label_inputs(neural_net_label_input)\n",
    "tests.test_nn_keep_prob_inputs(neural_net_keep_prob_input)"
   ]
  },
  {
   "cell_type": "markdown",
   "metadata": {
    "deletable": true,
    "editable": true
   },
   "source": [
    "### Convolution and Max Pooling Layer\n",
    "Convolution layers have a lot of success with images. For this code cell, you should implement the function `conv2d_maxpool` to apply convolution then max pooling:\n",
    "* Create the weight and bias using `conv_ksize`, `conv_num_outputs` and the shape of `x_tensor`.\n",
    "* Apply a convolution to `x_tensor` using weight and `conv_strides`.\n",
    " * We recommend you use same padding, but you're welcome to use any padding.\n",
    "* Add bias\n",
    "* Add a nonlinear activation to the convolution.\n",
    "* Apply Max Pooling using `pool_ksize` and `pool_strides`.\n",
    " * We recommend you use same padding, but you're welcome to use any padding.\n",
    "\n",
    "**Note:** You **can't** use [TensorFlow Layers](https://www.tensorflow.org/api_docs/python/tf/layers) or [TensorFlow Layers (contrib)](https://www.tensorflow.org/api_guides/python/contrib.layers) for **this** layer, but you can still use TensorFlow's [Neural Network](https://www.tensorflow.org/api_docs/python/tf/nn) package. You may still use the shortcut option for all the **other** layers."
   ]
  },
  {
   "cell_type": "code",
   "execution_count": 8,
   "metadata": {
    "collapsed": false,
    "deletable": true,
    "editable": true
   },
   "outputs": [
    {
     "name": "stdout",
     "output_type": "stream",
     "text": [
      "Tests Passed\n"
     ]
    }
   ],
   "source": [
    "def conv2d_maxpool(x_tensor, conv_num_outputs, conv_ksize, conv_strides, pool_ksize, pool_strides):\n",
    "    \"\"\"\n",
    "    Apply convolution then max pooling to x_tensor\n",
    "    :param x_tensor: TensorFlow Tensor\n",
    "    :param conv_num_outputs: Number of outputs for the convolutional layer\n",
    "    :param conv_ksize: kernal size 2-D Tuple for the convolutional layer\n",
    "    :param conv_strides: Stride 2-D Tuple for convolution\n",
    "    :param pool_ksize: kernal size 2-D Tuple for pool\n",
    "    :param pool_strides: Stride 2-D Tuple for pool\n",
    "    : return: A tensor that represents convolution and max pooling of x_tensor\n",
    "    \"\"\"\n",
    "    # TODO: Implement Function\n",
    "    weight = tf.Variable(tf.truncated_normal([*conv_ksize[:], x_tensor.shape[3].value, conv_num_outputs], stddev=0.1))\n",
    "    bias = tf.Variable(tf.zeros([conv_num_outputs]))\n",
    "    x_tensor = tf.nn.conv2d(x_tensor, weight, strides=[1, *conv_strides[:], 1], padding='SAME')\n",
    "    x_tensor = tf.nn.bias_add(x_tensor, bias)\n",
    "    x_tensor = tf.nn.relu(x_tensor)\n",
    "    return tf.nn.max_pool(\n",
    "        x_tensor,\n",
    "        ksize=[1, *pool_ksize[:], 1],\n",
    "        strides=[1, *pool_strides[:], 1],\n",
    "        padding='SAME') \n",
    "\n",
    "\n",
    "\"\"\"\n",
    "DON'T MODIFY ANYTHING IN THIS CELL THAT IS BELOW THIS LINE\n",
    "\"\"\"\n",
    "tests.test_con_pool(conv2d_maxpool)"
   ]
  },
  {
   "cell_type": "markdown",
   "metadata": {
    "deletable": true,
    "editable": true
   },
   "source": [
    "### Flatten Layer\n",
    "Implement the `flatten` function to change the dimension of `x_tensor` from a 4-D tensor to a 2-D tensor.  The output should be the shape (*Batch Size*, *Flattened Image Size*). Shortcut option: you can use classes from the [TensorFlow Layers](https://www.tensorflow.org/api_docs/python/tf/layers) or [TensorFlow Layers (contrib)](https://www.tensorflow.org/api_guides/python/contrib.layers) packages for this layer. For more of a challenge, only use other TensorFlow packages."
   ]
  },
  {
   "cell_type": "code",
   "execution_count": 9,
   "metadata": {
    "collapsed": false,
    "deletable": true,
    "editable": true
   },
   "outputs": [
    {
     "name": "stdout",
     "output_type": "stream",
     "text": [
      "Tests Passed\n"
     ]
    }
   ],
   "source": [
    "def flatten(x_tensor):\n",
    "    \"\"\"\n",
    "    Flatten x_tensor to (Batch Size, Flattened Image Size)\n",
    "    : x_tensor: A tensor of size (Batch Size, ...), where ... are the image dimensions.\n",
    "    : return: A tensor of size (Batch Size, Flattened Image Size).\n",
    "    \"\"\"\n",
    "    # TODO: Implement Function\n",
    "    dim = x_tensor.shape[1].value * x_tensor.shape[2].value * x_tensor.shape[3].value\n",
    "    return tf.reshape(x_tensor, [-1, dim])\n",
    "\n",
    "\n",
    "\"\"\"\n",
    "DON'T MODIFY ANYTHING IN THIS CELL THAT IS BELOW THIS LINE\n",
    "\"\"\"\n",
    "tests.test_flatten(flatten)"
   ]
  },
  {
   "cell_type": "markdown",
   "metadata": {
    "deletable": true,
    "editable": true
   },
   "source": [
    "### Fully-Connected Layer\n",
    "Implement the `fully_conn` function to apply a fully connected layer to `x_tensor` with the shape (*Batch Size*, *num_outputs*). Shortcut option: you can use classes from the [TensorFlow Layers](https://www.tensorflow.org/api_docs/python/tf/layers) or [TensorFlow Layers (contrib)](https://www.tensorflow.org/api_guides/python/contrib.layers) packages for this layer. For more of a challenge, only use other TensorFlow packages."
   ]
  },
  {
   "cell_type": "code",
   "execution_count": 10,
   "metadata": {
    "collapsed": false,
    "deletable": true,
    "editable": true
   },
   "outputs": [
    {
     "name": "stdout",
     "output_type": "stream",
     "text": [
      "Tests Passed\n"
     ]
    }
   ],
   "source": [
    "def fully_conn(x_tensor, num_outputs):\n",
    "    \"\"\"\n",
    "    Apply a fully connected layer to x_tensor using weight and bias\n",
    "    : x_tensor: A 2-D tensor where the first dimension is batch size.\n",
    "    : num_outputs: The number of output that the new tensor should be.\n",
    "    : return: A 2-D tensor where the second dimension is num_outputs.\n",
    "    \"\"\"\n",
    "    # TODO: Implement Function\n",
    "    weight = tf.Variable(tf.truncated_normal([x_tensor.shape[1].value, num_outputs], stddev=0.1))\n",
    "    bias = tf.Variable(tf.zeros([num_outputs]))\n",
    "    x_tensor = tf.add(tf.matmul(x_tensor, weight), bias)\n",
    "    return tf.nn.relu(x_tensor)\n",
    "\n",
    "\n",
    "\"\"\"\n",
    "DON'T MODIFY ANYTHING IN THIS CELL THAT IS BELOW THIS LINE\n",
    "\"\"\"\n",
    "tests.test_fully_conn(fully_conn)"
   ]
  },
  {
   "cell_type": "markdown",
   "metadata": {
    "deletable": true,
    "editable": true
   },
   "source": [
    "### Output Layer\n",
    "Implement the `output` function to apply a fully connected layer to `x_tensor` with the shape (*Batch Size*, *num_outputs*). Shortcut option: you can use classes from the [TensorFlow Layers](https://www.tensorflow.org/api_docs/python/tf/layers) or [TensorFlow Layers (contrib)](https://www.tensorflow.org/api_guides/python/contrib.layers) packages for this layer. For more of a challenge, only use other TensorFlow packages.\n",
    "\n",
    "**Note:** Activation, softmax, or cross entropy should **not** be applied to this."
   ]
  },
  {
   "cell_type": "code",
   "execution_count": 11,
   "metadata": {
    "collapsed": false,
    "deletable": true,
    "editable": true
   },
   "outputs": [
    {
     "name": "stdout",
     "output_type": "stream",
     "text": [
      "Tests Passed\n"
     ]
    }
   ],
   "source": [
    "def output(x_tensor, num_outputs):\n",
    "    \"\"\"\n",
    "    Apply a output layer to x_tensor using weight and bias\n",
    "    : x_tensor: A 2-D tensor where the first dimension is batch size.\n",
    "    : num_outputs: The number of output that the new tensor should be.\n",
    "    : return: A 2-D tensor where the second dimension is num_outputs.\n",
    "    \"\"\"\n",
    "    # TODO: Implement Function\n",
    "    weight = tf.Variable(tf.truncated_normal([x_tensor.shape[1].value, num_outputs], stddev=0.1))\n",
    "    bias = tf.Variable(tf.zeros([num_outputs]))\n",
    "    return tf.add(tf.matmul(x_tensor, weight), bias)\n",
    "\n",
    "\n",
    "\"\"\"\n",
    "DON'T MODIFY ANYTHING IN THIS CELL THAT IS BELOW THIS LINE\n",
    "\"\"\"\n",
    "tests.test_output(output)"
   ]
  },
  {
   "cell_type": "markdown",
   "metadata": {
    "deletable": true,
    "editable": true
   },
   "source": [
    "### Create Convolutional Model\n",
    "Implement the function `conv_net` to create a convolutional neural network model. The function takes in a batch of images, `x`, and outputs logits.  Use the layers you created above to create this model:\n",
    "\n",
    "* Apply 1, 2, or 3 Convolution and Max Pool layers\n",
    "* Apply a Flatten Layer\n",
    "* Apply 1, 2, or 3 Fully Connected Layers\n",
    "* Apply an Output Layer\n",
    "* Return the output\n",
    "* Apply [TensorFlow's Dropout](https://www.tensorflow.org/api_docs/python/tf/nn/dropout) to one or more layers in the model using `keep_prob`. "
   ]
  },
  {
   "cell_type": "code",
   "execution_count": 12,
   "metadata": {
    "collapsed": false,
    "deletable": true,
    "editable": true
   },
   "outputs": [
    {
     "name": "stdout",
     "output_type": "stream",
     "text": [
      "Neural Network Built!\n"
     ]
    }
   ],
   "source": [
    "def conv_net(x, keep_prob):\n",
    "    \"\"\"\n",
    "    Create a convolutional neural network model\n",
    "    : x: Placeholder tensor that holds image data.\n",
    "    : keep_prob: Placeholder tensor that hold dropout keep probability.\n",
    "    : return: Tensor that represents logits\n",
    "    \"\"\"\n",
    "    # TODO: Apply 1, 2, or 3 Convolution and Max Pool layers\n",
    "    #    Play around with different number of outputs, kernel size and stride\n",
    "    # Function Definition from Above:\n",
    "    #    conv2d_maxpool(x_tensor, conv_num_outputs, conv_ksize, conv_strides, pool_ksize, pool_strides)\n",
    "\n",
    "    x = conv2d_maxpool(x, 32, (3, 3), (1, 1), (2, 2), (2, 2))\n",
    "    x = tf.nn.dropout(x, keep_prob)\n",
    "    \n",
    "    # TODO: Apply a Flatten Layer\n",
    "    # Function Definition from Above:\n",
    "    #   flatten(x_tensor)\n",
    "    \n",
    "    x = flatten(x)\n",
    "    \n",
    "    # TODO: Apply 1, 2, or 3 Fully Connected Layers\n",
    "    #    Play around with different number of outputs\n",
    "    # Function Definition from Above:\n",
    "    #   fully_conn(x_tensor, num_outputs)\n",
    "    \n",
    "    x = fully_conn(x, 512)\n",
    "    x = tf.nn.dropout(x, keep_prob)\n",
    "    \n",
    "    # TODO: Apply an Output Layer\n",
    "    #    Set this to the number of classes\n",
    "    # Function Definition from Above:\n",
    "    #   output(x_tensor, num_outputs)\n",
    "    \n",
    "    x = output(x, 10)\n",
    "    \n",
    "    # TODO: return output\n",
    "    return x\n",
    "\n",
    "\n",
    "\"\"\"\n",
    "DON'T MODIFY ANYTHING IN THIS CELL THAT IS BELOW THIS LINE\n",
    "\"\"\"\n",
    "\n",
    "##############################\n",
    "## Build the Neural Network ##\n",
    "##############################\n",
    "\n",
    "# Remove previous weights, bias, inputs, etc..\n",
    "tf.reset_default_graph()\n",
    "\n",
    "# Inputs\n",
    "x = neural_net_image_input((32, 32, 3))\n",
    "y = neural_net_label_input(10)\n",
    "keep_prob = neural_net_keep_prob_input()\n",
    "\n",
    "# Model\n",
    "logits = conv_net(x, keep_prob)\n",
    "\n",
    "# Name logits Tensor, so that is can be loaded from disk after training\n",
    "logits = tf.identity(logits, name='logits')\n",
    "\n",
    "# Loss and Optimizer\n",
    "cost = tf.reduce_mean(tf.nn.softmax_cross_entropy_with_logits(logits=logits, labels=y))\n",
    "optimizer = tf.train.AdamOptimizer().minimize(cost)\n",
    "\n",
    "# Accuracy\n",
    "correct_pred = tf.equal(tf.argmax(logits, 1), tf.argmax(y, 1))\n",
    "accuracy = tf.reduce_mean(tf.cast(correct_pred, tf.float32), name='accuracy')\n",
    "\n",
    "tests.test_conv_net(conv_net)"
   ]
  },
  {
   "cell_type": "markdown",
   "metadata": {
    "deletable": true,
    "editable": true
   },
   "source": [
    "## Train the Neural Network\n",
    "### Single Optimization\n",
    "Implement the function `train_neural_network` to do a single optimization.  The optimization should use `optimizer` to optimize in `session` with a `feed_dict` of the following:\n",
    "* `x` for image input\n",
    "* `y` for labels\n",
    "* `keep_prob` for keep probability for dropout\n",
    "\n",
    "This function will be called for each batch, so `tf.global_variables_initializer()` has already been called.\n",
    "\n",
    "Note: Nothing needs to be returned. This function is only optimizing the neural network."
   ]
  },
  {
   "cell_type": "code",
   "execution_count": 13,
   "metadata": {
    "collapsed": false,
    "deletable": true,
    "editable": true
   },
   "outputs": [
    {
     "name": "stdout",
     "output_type": "stream",
     "text": [
      "Tests Passed\n"
     ]
    }
   ],
   "source": [
    "def train_neural_network(session, optimizer, keep_probability, feature_batch, label_batch):\n",
    "    \"\"\"\n",
    "    Optimize the session on a batch of images and labels\n",
    "    : session: Current TensorFlow session\n",
    "    : optimizer: TensorFlow optimizer function\n",
    "    : keep_probability: keep probability\n",
    "    : feature_batch: Batch of Numpy image data\n",
    "    : label_batch: Batch of Numpy label data\n",
    "    \"\"\"\n",
    "    # TODO: Implement Function\n",
    "    session.run(optimizer, feed_dict={\n",
    "            x: feature_batch,\n",
    "            y: label_batch,\n",
    "            keep_prob: keep_probability})\n",
    "\n",
    "\n",
    "\"\"\"\n",
    "DON'T MODIFY ANYTHING IN THIS CELL THAT IS BELOW THIS LINE\n",
    "\"\"\"\n",
    "tests.test_train_nn(train_neural_network)"
   ]
  },
  {
   "cell_type": "markdown",
   "metadata": {
    "deletable": true,
    "editable": true
   },
   "source": [
    "### Show Stats\n",
    "Implement the function `print_stats` to print loss and validation accuracy.  Use the global variables `valid_features` and `valid_labels` to calculate validation accuracy.  Use a keep probability of `1.0` to calculate the loss and validation accuracy."
   ]
  },
  {
   "cell_type": "code",
   "execution_count": 14,
   "metadata": {
    "collapsed": false,
    "deletable": true,
    "editable": true
   },
   "outputs": [],
   "source": [
    "def print_stats(session, feature_batch, label_batch, cost, accuracy):\n",
    "    \"\"\"\n",
    "    Print information about loss and validation accuracy\n",
    "    : session: Current TensorFlow session\n",
    "    : feature_batch: Batch of Numpy image data\n",
    "    : label_batch: Batch of Numpy label data\n",
    "    : cost: TensorFlow cost function\n",
    "    : accuracy: TensorFlow accuracy function\n",
    "    \"\"\"\n",
    "    # TODO: Implement Function\n",
    "    loss = session.run(cost, feed_dict={\n",
    "        x: feature_batch,\n",
    "        y: label_batch,\n",
    "        keep_prob: 1.})\n",
    "    valid_acc = session.run(accuracy, feed_dict={\n",
    "                x: valid_features,\n",
    "                y: valid_labels,\n",
    "                keep_prob: 1.})\n",
    "    \n",
    "    print('Loss: {:>10.4f} Validation Accuracy: {:.6f}'.format(loss, valid_acc))"
   ]
  },
  {
   "cell_type": "markdown",
   "metadata": {
    "deletable": true,
    "editable": true
   },
   "source": [
    "### Hyperparameters\n",
    "Tune the following parameters:\n",
    "* Set `epochs` to the number of iterations until the network stops learning or start overfitting\n",
    "* Set `batch_size` to the highest number that your machine has memory for.  Most people set them to common sizes of memory:\n",
    " * 64\n",
    " * 128\n",
    " * 256\n",
    " * ...\n",
    "* Set `keep_probability` to the probability of keeping a node using dropout"
   ]
  },
  {
   "cell_type": "code",
   "execution_count": 18,
   "metadata": {
    "collapsed": true,
    "deletable": true,
    "editable": true
   },
   "outputs": [],
   "source": [
    "# TODO: Tune Parameters\n",
    "epochs = 50\n",
    "batch_size = 512\n",
    "keep_probability = 0.5"
   ]
  },
  {
   "cell_type": "markdown",
   "metadata": {
    "deletable": true,
    "editable": true
   },
   "source": [
    "### Train on a Single CIFAR-10 Batch\n",
    "Instead of training the neural network on all the CIFAR-10 batches of data, let's use a single batch. This should save time while you iterate on the model to get a better accuracy.  Once the final validation accuracy is 50% or greater, run the model on all the data in the next section."
   ]
  },
  {
   "cell_type": "code",
   "execution_count": 19,
   "metadata": {
    "collapsed": false,
    "deletable": true,
    "editable": true
   },
   "outputs": [
    {
     "name": "stdout",
     "output_type": "stream",
     "text": [
      "Checking the Training on a Single Batch...\n",
      "Epoch  1, CIFAR-10 Batch 1:  Loss:     2.2785 Validation Accuracy: 0.180600\n",
      "Epoch  2, CIFAR-10 Batch 1:  Loss:     2.1997 Validation Accuracy: 0.231600\n",
      "Epoch  3, CIFAR-10 Batch 1:  Loss:     2.0563 Validation Accuracy: 0.279800\n",
      "Epoch  4, CIFAR-10 Batch 1:  Loss:     2.0063 Validation Accuracy: 0.304400\n",
      "Epoch  5, CIFAR-10 Batch 1:  Loss:     1.9068 Validation Accuracy: 0.355400\n",
      "Epoch  6, CIFAR-10 Batch 1:  Loss:     1.8125 Validation Accuracy: 0.367000\n",
      "Epoch  7, CIFAR-10 Batch 1:  Loss:     1.7441 Validation Accuracy: 0.396000\n",
      "Epoch  8, CIFAR-10 Batch 1:  Loss:     1.6466 Validation Accuracy: 0.416400\n",
      "Epoch  9, CIFAR-10 Batch 1:  Loss:     1.5543 Validation Accuracy: 0.444400\n",
      "Epoch 10, CIFAR-10 Batch 1:  Loss:     1.4876 Validation Accuracy: 0.464000\n",
      "Epoch 11, CIFAR-10 Batch 1:  Loss:     1.4222 Validation Accuracy: 0.468400\n",
      "Epoch 12, CIFAR-10 Batch 1:  Loss:     1.3592 Validation Accuracy: 0.485200\n",
      "Epoch 13, CIFAR-10 Batch 1:  Loss:     1.3003 Validation Accuracy: 0.491200\n",
      "Epoch 14, CIFAR-10 Batch 1:  Loss:     1.2482 Validation Accuracy: 0.506800\n",
      "Epoch 15, CIFAR-10 Batch 1:  Loss:     1.1965 Validation Accuracy: 0.505000\n",
      "Epoch 16, CIFAR-10 Batch 1:  Loss:     1.1610 Validation Accuracy: 0.517600\n",
      "Epoch 17, CIFAR-10 Batch 1:  Loss:     1.1163 Validation Accuracy: 0.514200\n",
      "Epoch 18, CIFAR-10 Batch 1:  Loss:     1.0661 Validation Accuracy: 0.519800\n",
      "Epoch 19, CIFAR-10 Batch 1:  Loss:     1.0209 Validation Accuracy: 0.527600\n",
      "Epoch 20, CIFAR-10 Batch 1:  Loss:     0.9905 Validation Accuracy: 0.523800\n",
      "Epoch 21, CIFAR-10 Batch 1:  Loss:     0.9418 Validation Accuracy: 0.532600\n",
      "Epoch 22, CIFAR-10 Batch 1:  Loss:     0.9195 Validation Accuracy: 0.530200\n",
      "Epoch 23, CIFAR-10 Batch 1:  Loss:     0.8785 Validation Accuracy: 0.540800\n",
      "Epoch 24, CIFAR-10 Batch 1:  Loss:     0.8289 Validation Accuracy: 0.533000\n",
      "Epoch 25, CIFAR-10 Batch 1:  Loss:     0.7963 Validation Accuracy: 0.547400\n",
      "Epoch 26, CIFAR-10 Batch 1:  Loss:     0.7695 Validation Accuracy: 0.546000\n",
      "Epoch 27, CIFAR-10 Batch 1:  Loss:     0.7224 Validation Accuracy: 0.555000\n",
      "Epoch 28, CIFAR-10 Batch 1:  Loss:     0.6863 Validation Accuracy: 0.555600\n",
      "Epoch 29, CIFAR-10 Batch 1:  Loss:     0.6567 Validation Accuracy: 0.549800\n",
      "Epoch 30, CIFAR-10 Batch 1:  Loss:     0.6359 Validation Accuracy: 0.559800\n",
      "Epoch 31, CIFAR-10 Batch 1:  Loss:     0.6116 Validation Accuracy: 0.560800\n",
      "Epoch 32, CIFAR-10 Batch 1:  Loss:     0.5859 Validation Accuracy: 0.563000\n",
      "Epoch 33, CIFAR-10 Batch 1:  Loss:     0.5663 Validation Accuracy: 0.561400\n",
      "Epoch 34, CIFAR-10 Batch 1:  Loss:     0.5277 Validation Accuracy: 0.571200\n",
      "Epoch 35, CIFAR-10 Batch 1:  Loss:     0.5171 Validation Accuracy: 0.570000\n",
      "Epoch 36, CIFAR-10 Batch 1:  Loss:     0.4800 Validation Accuracy: 0.574200\n",
      "Epoch 37, CIFAR-10 Batch 1:  Loss:     0.4725 Validation Accuracy: 0.566600\n",
      "Epoch 38, CIFAR-10 Batch 1:  Loss:     0.4343 Validation Accuracy: 0.572800\n",
      "Epoch 39, CIFAR-10 Batch 1:  Loss:     0.4205 Validation Accuracy: 0.579400\n",
      "Epoch 40, CIFAR-10 Batch 1:  Loss:     0.3943 Validation Accuracy: 0.580400\n",
      "Epoch 41, CIFAR-10 Batch 1:  Loss:     0.3789 Validation Accuracy: 0.583600\n",
      "Epoch 42, CIFAR-10 Batch 1:  Loss:     0.3560 Validation Accuracy: 0.579400\n",
      "Epoch 43, CIFAR-10 Batch 1:  Loss:     0.3505 Validation Accuracy: 0.581000\n",
      "Epoch 44, CIFAR-10 Batch 1:  Loss:     0.3279 Validation Accuracy: 0.582800\n",
      "Epoch 45, CIFAR-10 Batch 1:  Loss:     0.3185 Validation Accuracy: 0.584200\n",
      "Epoch 46, CIFAR-10 Batch 1:  Loss:     0.3029 Validation Accuracy: 0.585400\n",
      "Epoch 47, CIFAR-10 Batch 1:  Loss:     0.2994 Validation Accuracy: 0.583800\n",
      "Epoch 48, CIFAR-10 Batch 1:  Loss:     0.2842 Validation Accuracy: 0.584200\n",
      "Epoch 49, CIFAR-10 Batch 1:  Loss:     0.2704 Validation Accuracy: 0.584600\n",
      "Epoch 50, CIFAR-10 Batch 1:  Loss:     0.2752 Validation Accuracy: 0.581600\n"
     ]
    }
   ],
   "source": [
    "\"\"\"\n",
    "DON'T MODIFY ANYTHING IN THIS CELL\n",
    "\"\"\"\n",
    "print('Checking the Training on a Single Batch...')\n",
    "with tf.Session() as sess:\n",
    "    # Initializing the variables\n",
    "    sess.run(tf.global_variables_initializer())\n",
    "    \n",
    "    # Training cycle\n",
    "    for epoch in range(epochs):\n",
    "        batch_i = 1\n",
    "        for batch_features, batch_labels in helper.load_preprocess_training_batch(batch_i, batch_size):\n",
    "            train_neural_network(sess, optimizer, keep_probability, batch_features, batch_labels)\n",
    "        print('Epoch {:>2}, CIFAR-10 Batch {}:  '.format(epoch + 1, batch_i), end='')\n",
    "        print_stats(sess, batch_features, batch_labels, cost, accuracy)"
   ]
  },
  {
   "cell_type": "markdown",
   "metadata": {
    "deletable": true,
    "editable": true
   },
   "source": [
    "### Fully Train the Model\n",
    "Now that you got a good accuracy with a single CIFAR-10 batch, try it with all five batches."
   ]
  },
  {
   "cell_type": "code",
   "execution_count": 21,
   "metadata": {
    "collapsed": false,
    "deletable": true,
    "editable": true
   },
   "outputs": [
    {
     "name": "stdout",
     "output_type": "stream",
     "text": [
      "Training...\n",
      "Epoch  1, CIFAR-10 Batch 1:  Loss:     2.2060 Validation Accuracy: 0.219000\n",
      "Epoch  1, CIFAR-10 Batch 2:  Loss:     2.0192 Validation Accuracy: 0.309600\n",
      "Epoch  1, CIFAR-10 Batch 3:  Loss:     1.8302 Validation Accuracy: 0.368600\n",
      "Epoch  1, CIFAR-10 Batch 4:  Loss:     1.6938 Validation Accuracy: 0.397600\n",
      "Epoch  1, CIFAR-10 Batch 5:  Loss:     1.6938 Validation Accuracy: 0.412800\n",
      "Epoch  2, CIFAR-10 Batch 1:  Loss:     1.6450 Validation Accuracy: 0.443400\n",
      "Epoch  2, CIFAR-10 Batch 2:  Loss:     1.4966 Validation Accuracy: 0.470000\n",
      "Epoch  2, CIFAR-10 Batch 3:  Loss:     1.3866 Validation Accuracy: 0.481200\n",
      "Epoch  2, CIFAR-10 Batch 4:  Loss:     1.3651 Validation Accuracy: 0.487400\n",
      "Epoch  2, CIFAR-10 Batch 5:  Loss:     1.4407 Validation Accuracy: 0.490400\n",
      "Epoch  3, CIFAR-10 Batch 1:  Loss:     1.4342 Validation Accuracy: 0.509400\n",
      "Epoch  3, CIFAR-10 Batch 2:  Loss:     1.3318 Validation Accuracy: 0.508600\n",
      "Epoch  3, CIFAR-10 Batch 3:  Loss:     1.2030 Validation Accuracy: 0.524000\n",
      "Epoch  3, CIFAR-10 Batch 4:  Loss:     1.2194 Validation Accuracy: 0.527800\n",
      "Epoch  3, CIFAR-10 Batch 5:  Loss:     1.2882 Validation Accuracy: 0.535000\n",
      "Epoch  4, CIFAR-10 Batch 1:  Loss:     1.3309 Validation Accuracy: 0.527800\n",
      "Epoch  4, CIFAR-10 Batch 2:  Loss:     1.2038 Validation Accuracy: 0.536000\n",
      "Epoch  4, CIFAR-10 Batch 3:  Loss:     1.1068 Validation Accuracy: 0.547400\n",
      "Epoch  4, CIFAR-10 Batch 4:  Loss:     1.1175 Validation Accuracy: 0.555800\n",
      "Epoch  4, CIFAR-10 Batch 5:  Loss:     1.1914 Validation Accuracy: 0.560800\n",
      "Epoch  5, CIFAR-10 Batch 1:  Loss:     1.2406 Validation Accuracy: 0.551800\n",
      "Epoch  5, CIFAR-10 Batch 2:  Loss:     1.1187 Validation Accuracy: 0.560400\n",
      "Epoch  5, CIFAR-10 Batch 3:  Loss:     1.0178 Validation Accuracy: 0.568800\n",
      "Epoch  5, CIFAR-10 Batch 4:  Loss:     1.0328 Validation Accuracy: 0.575200\n",
      "Epoch  5, CIFAR-10 Batch 5:  Loss:     1.1262 Validation Accuracy: 0.576000\n",
      "Epoch  6, CIFAR-10 Batch 1:  Loss:     1.1713 Validation Accuracy: 0.571400\n",
      "Epoch  6, CIFAR-10 Batch 2:  Loss:     1.0613 Validation Accuracy: 0.573800\n",
      "Epoch  6, CIFAR-10 Batch 3:  Loss:     0.9732 Validation Accuracy: 0.579200\n",
      "Epoch  6, CIFAR-10 Batch 4:  Loss:     0.9917 Validation Accuracy: 0.581400\n",
      "Epoch  6, CIFAR-10 Batch 5:  Loss:     1.0634 Validation Accuracy: 0.584600\n",
      "Epoch  7, CIFAR-10 Batch 1:  Loss:     1.1318 Validation Accuracy: 0.576200\n",
      "Epoch  7, CIFAR-10 Batch 2:  Loss:     1.0117 Validation Accuracy: 0.582800\n",
      "Epoch  7, CIFAR-10 Batch 3:  Loss:     0.8981 Validation Accuracy: 0.596800\n",
      "Epoch  7, CIFAR-10 Batch 4:  Loss:     0.9234 Validation Accuracy: 0.598600\n",
      "Epoch  7, CIFAR-10 Batch 5:  Loss:     1.0044 Validation Accuracy: 0.597200\n",
      "Epoch  8, CIFAR-10 Batch 1:  Loss:     1.0794 Validation Accuracy: 0.588600\n",
      "Epoch  8, CIFAR-10 Batch 2:  Loss:     0.9588 Validation Accuracy: 0.599200\n",
      "Epoch  8, CIFAR-10 Batch 3:  Loss:     0.8691 Validation Accuracy: 0.596600\n",
      "Epoch  8, CIFAR-10 Batch 4:  Loss:     0.8873 Validation Accuracy: 0.602600\n",
      "Epoch  8, CIFAR-10 Batch 5:  Loss:     0.9453 Validation Accuracy: 0.611000\n",
      "Epoch  9, CIFAR-10 Batch 1:  Loss:     1.0549 Validation Accuracy: 0.588000\n",
      "Epoch  9, CIFAR-10 Batch 2:  Loss:     0.9151 Validation Accuracy: 0.612000\n",
      "Epoch  9, CIFAR-10 Batch 3:  Loss:     0.8168 Validation Accuracy: 0.613800\n",
      "Epoch  9, CIFAR-10 Batch 4:  Loss:     0.8225 Validation Accuracy: 0.612400\n",
      "Epoch  9, CIFAR-10 Batch 5:  Loss:     0.9012 Validation Accuracy: 0.614000\n",
      "Epoch 10, CIFAR-10 Batch 1:  Loss:     0.9818 Validation Accuracy: 0.610200\n",
      "Epoch 10, CIFAR-10 Batch 2:  Loss:     0.8814 Validation Accuracy: 0.620000\n",
      "Epoch 10, CIFAR-10 Batch 3:  Loss:     0.7968 Validation Accuracy: 0.612800\n",
      "Epoch 10, CIFAR-10 Batch 4:  Loss:     0.8064 Validation Accuracy: 0.623200\n",
      "Epoch 10, CIFAR-10 Batch 5:  Loss:     0.8445 Validation Accuracy: 0.625400\n",
      "Epoch 11, CIFAR-10 Batch 1:  Loss:     0.9482 Validation Accuracy: 0.611400\n",
      "Epoch 11, CIFAR-10 Batch 2:  Loss:     0.8613 Validation Accuracy: 0.622400\n",
      "Epoch 11, CIFAR-10 Batch 3:  Loss:     0.7585 Validation Accuracy: 0.615000\n",
      "Epoch 11, CIFAR-10 Batch 4:  Loss:     0.7573 Validation Accuracy: 0.629400\n",
      "Epoch 11, CIFAR-10 Batch 5:  Loss:     0.8105 Validation Accuracy: 0.628400\n",
      "Epoch 12, CIFAR-10 Batch 1:  Loss:     0.8982 Validation Accuracy: 0.621400\n",
      "Epoch 12, CIFAR-10 Batch 2:  Loss:     0.8083 Validation Accuracy: 0.627400\n",
      "Epoch 12, CIFAR-10 Batch 3:  Loss:     0.7111 Validation Accuracy: 0.622400\n",
      "Epoch 12, CIFAR-10 Batch 4:  Loss:     0.7275 Validation Accuracy: 0.636400\n",
      "Epoch 12, CIFAR-10 Batch 5:  Loss:     0.7626 Validation Accuracy: 0.639200\n",
      "Epoch 13, CIFAR-10 Batch 1:  Loss:     0.8406 Validation Accuracy: 0.635000\n",
      "Epoch 13, CIFAR-10 Batch 2:  Loss:     0.7725 Validation Accuracy: 0.638800\n",
      "Epoch 13, CIFAR-10 Batch 3:  Loss:     0.6933 Validation Accuracy: 0.621000\n",
      "Epoch 13, CIFAR-10 Batch 4:  Loss:     0.6992 Validation Accuracy: 0.634200\n",
      "Epoch 13, CIFAR-10 Batch 5:  Loss:     0.7118 Validation Accuracy: 0.635800\n",
      "Epoch 14, CIFAR-10 Batch 1:  Loss:     0.8380 Validation Accuracy: 0.630800\n",
      "Epoch 14, CIFAR-10 Batch 2:  Loss:     0.7524 Validation Accuracy: 0.635400\n",
      "Epoch 14, CIFAR-10 Batch 3:  Loss:     0.6522 Validation Accuracy: 0.635600\n",
      "Epoch 14, CIFAR-10 Batch 4:  Loss:     0.6536 Validation Accuracy: 0.647600\n",
      "Epoch 14, CIFAR-10 Batch 5:  Loss:     0.6857 Validation Accuracy: 0.647200\n",
      "Epoch 15, CIFAR-10 Batch 1:  Loss:     0.7914 Validation Accuracy: 0.642000\n",
      "Epoch 15, CIFAR-10 Batch 2:  Loss:     0.7183 Validation Accuracy: 0.642800\n",
      "Epoch 15, CIFAR-10 Batch 3:  Loss:     0.6112 Validation Accuracy: 0.644200\n",
      "Epoch 15, CIFAR-10 Batch 4:  Loss:     0.6219 Validation Accuracy: 0.652400\n",
      "Epoch 15, CIFAR-10 Batch 5:  Loss:     0.6504 Validation Accuracy: 0.647400\n",
      "Epoch 16, CIFAR-10 Batch 1:  Loss:     0.7522 Validation Accuracy: 0.640200\n",
      "Epoch 16, CIFAR-10 Batch 2:  Loss:     0.6761 Validation Accuracy: 0.651400\n",
      "Epoch 16, CIFAR-10 Batch 3:  Loss:     0.5921 Validation Accuracy: 0.649200\n",
      "Epoch 16, CIFAR-10 Batch 4:  Loss:     0.5859 Validation Accuracy: 0.657600\n",
      "Epoch 16, CIFAR-10 Batch 5:  Loss:     0.6209 Validation Accuracy: 0.652200\n",
      "Epoch 17, CIFAR-10 Batch 1:  Loss:     0.7096 Validation Accuracy: 0.654000\n",
      "Epoch 17, CIFAR-10 Batch 2:  Loss:     0.6524 Validation Accuracy: 0.659600\n",
      "Epoch 17, CIFAR-10 Batch 3:  Loss:     0.5608 Validation Accuracy: 0.647600\n",
      "Epoch 17, CIFAR-10 Batch 4:  Loss:     0.5694 Validation Accuracy: 0.658400\n",
      "Epoch 17, CIFAR-10 Batch 5:  Loss:     0.5910 Validation Accuracy: 0.653400\n",
      "Epoch 18, CIFAR-10 Batch 1:  Loss:     0.6780 Validation Accuracy: 0.653600\n",
      "Epoch 18, CIFAR-10 Batch 2:  Loss:     0.6378 Validation Accuracy: 0.658000\n",
      "Epoch 18, CIFAR-10 Batch 3:  Loss:     0.5527 Validation Accuracy: 0.646600\n",
      "Epoch 18, CIFAR-10 Batch 4:  Loss:     0.5240 Validation Accuracy: 0.668600\n",
      "Epoch 18, CIFAR-10 Batch 5:  Loss:     0.5562 Validation Accuracy: 0.657800\n",
      "Epoch 19, CIFAR-10 Batch 1:  Loss:     0.6622 Validation Accuracy: 0.659600\n",
      "Epoch 19, CIFAR-10 Batch 2:  Loss:     0.5970 Validation Accuracy: 0.663600\n",
      "Epoch 19, CIFAR-10 Batch 3:  Loss:     0.5070 Validation Accuracy: 0.657400\n",
      "Epoch 19, CIFAR-10 Batch 4:  Loss:     0.4896 Validation Accuracy: 0.670000\n",
      "Epoch 19, CIFAR-10 Batch 5:  Loss:     0.5192 Validation Accuracy: 0.664000\n",
      "Epoch 20, CIFAR-10 Batch 1:  Loss:     0.6357 Validation Accuracy: 0.666200\n",
      "Epoch 20, CIFAR-10 Batch 2:  Loss:     0.5643 Validation Accuracy: 0.668000\n",
      "Epoch 20, CIFAR-10 Batch 3:  Loss:     0.4751 Validation Accuracy: 0.660800\n",
      "Epoch 20, CIFAR-10 Batch 4:  Loss:     0.4709 Validation Accuracy: 0.669800\n",
      "Epoch 20, CIFAR-10 Batch 5:  Loss:     0.5022 Validation Accuracy: 0.667000\n",
      "Epoch 21, CIFAR-10 Batch 1:  Loss:     0.6006 Validation Accuracy: 0.671200\n",
      "Epoch 21, CIFAR-10 Batch 2:  Loss:     0.5335 Validation Accuracy: 0.669200\n",
      "Epoch 21, CIFAR-10 Batch 3:  Loss:     0.4506 Validation Accuracy: 0.665200\n",
      "Epoch 21, CIFAR-10 Batch 4:  Loss:     0.4591 Validation Accuracy: 0.673200\n",
      "Epoch 21, CIFAR-10 Batch 5:  Loss:     0.4781 Validation Accuracy: 0.669800\n",
      "Epoch 22, CIFAR-10 Batch 1:  Loss:     0.5674 Validation Accuracy: 0.668000\n",
      "Epoch 22, CIFAR-10 Batch 2:  Loss:     0.5235 Validation Accuracy: 0.671400\n",
      "Epoch 22, CIFAR-10 Batch 3:  Loss:     0.4206 Validation Accuracy: 0.672600\n",
      "Epoch 22, CIFAR-10 Batch 4:  Loss:     0.4314 Validation Accuracy: 0.676200\n",
      "Epoch 22, CIFAR-10 Batch 5:  Loss:     0.4411 Validation Accuracy: 0.680000\n",
      "Epoch 23, CIFAR-10 Batch 1:  Loss:     0.5417 Validation Accuracy: 0.675200\n",
      "Epoch 23, CIFAR-10 Batch 2:  Loss:     0.5001 Validation Accuracy: 0.676000\n",
      "Epoch 23, CIFAR-10 Batch 3:  Loss:     0.3970 Validation Accuracy: 0.671800\n",
      "Epoch 23, CIFAR-10 Batch 4:  Loss:     0.4129 Validation Accuracy: 0.677000\n",
      "Epoch 23, CIFAR-10 Batch 5:  Loss:     0.4450 Validation Accuracy: 0.673400\n",
      "Epoch 24, CIFAR-10 Batch 1:  Loss:     0.4990 Validation Accuracy: 0.676800\n",
      "Epoch 24, CIFAR-10 Batch 2:  Loss:     0.4628 Validation Accuracy: 0.679600\n",
      "Epoch 24, CIFAR-10 Batch 3:  Loss:     0.3624 Validation Accuracy: 0.681000\n",
      "Epoch 24, CIFAR-10 Batch 4:  Loss:     0.3942 Validation Accuracy: 0.678600\n",
      "Epoch 24, CIFAR-10 Batch 5:  Loss:     0.4082 Validation Accuracy: 0.685400\n",
      "Epoch 25, CIFAR-10 Batch 1:  Loss:     0.4959 Validation Accuracy: 0.665800\n",
      "Epoch 25, CIFAR-10 Batch 2:  Loss:     0.4205 Validation Accuracy: 0.684200\n",
      "Epoch 25, CIFAR-10 Batch 3:  Loss:     0.3538 Validation Accuracy: 0.678800\n",
      "Epoch 25, CIFAR-10 Batch 4:  Loss:     0.3693 Validation Accuracy: 0.685800\n",
      "Epoch 25, CIFAR-10 Batch 5:  Loss:     0.3932 Validation Accuracy: 0.679800\n",
      "Epoch 26, CIFAR-10 Batch 1:  Loss:     0.4575 Validation Accuracy: 0.684600\n",
      "Epoch 26, CIFAR-10 Batch 2:  Loss:     0.4113 Validation Accuracy: 0.683400\n",
      "Epoch 26, CIFAR-10 Batch 3:  Loss:     0.3494 Validation Accuracy: 0.673600\n",
      "Epoch 26, CIFAR-10 Batch 4:  Loss:     0.3516 Validation Accuracy: 0.684400\n",
      "Epoch 26, CIFAR-10 Batch 5:  Loss:     0.3754 Validation Accuracy: 0.683400\n",
      "Epoch 27, CIFAR-10 Batch 1:  Loss:     0.4294 Validation Accuracy: 0.686000\n",
      "Epoch 27, CIFAR-10 Batch 2:  Loss:     0.3954 Validation Accuracy: 0.686000\n",
      "Epoch 27, CIFAR-10 Batch 3:  Loss:     0.3200 Validation Accuracy: 0.682200\n",
      "Epoch 27, CIFAR-10 Batch 4:  Loss:     0.3503 Validation Accuracy: 0.691600\n",
      "Epoch 27, CIFAR-10 Batch 5:  Loss:     0.3516 Validation Accuracy: 0.683200\n",
      "Epoch 28, CIFAR-10 Batch 1:  Loss:     0.4054 Validation Accuracy: 0.680600\n",
      "Epoch 28, CIFAR-10 Batch 2:  Loss:     0.3805 Validation Accuracy: 0.685000\n",
      "Epoch 28, CIFAR-10 Batch 3:  Loss:     0.3068 Validation Accuracy: 0.682400\n",
      "Epoch 28, CIFAR-10 Batch 4:  Loss:     0.3234 Validation Accuracy: 0.691000\n",
      "Epoch 28, CIFAR-10 Batch 5:  Loss:     0.3343 Validation Accuracy: 0.691400\n",
      "Epoch 29, CIFAR-10 Batch 1:  Loss:     0.3771 Validation Accuracy: 0.688600\n",
      "Epoch 29, CIFAR-10 Batch 2:  Loss:     0.3512 Validation Accuracy: 0.688800\n",
      "Epoch 29, CIFAR-10 Batch 3:  Loss:     0.2893 Validation Accuracy: 0.694000\n",
      "Epoch 29, CIFAR-10 Batch 4:  Loss:     0.3095 Validation Accuracy: 0.689800\n",
      "Epoch 29, CIFAR-10 Batch 5:  Loss:     0.3257 Validation Accuracy: 0.684600\n",
      "Epoch 30, CIFAR-10 Batch 1:  Loss:     0.3727 Validation Accuracy: 0.685800\n",
      "Epoch 30, CIFAR-10 Batch 2:  Loss:     0.3272 Validation Accuracy: 0.689800\n",
      "Epoch 30, CIFAR-10 Batch 3:  Loss:     0.2691 Validation Accuracy: 0.686600\n",
      "Epoch 30, CIFAR-10 Batch 4:  Loss:     0.2839 Validation Accuracy: 0.695400\n",
      "Epoch 30, CIFAR-10 Batch 5:  Loss:     0.2922 Validation Accuracy: 0.689200\n",
      "Epoch 31, CIFAR-10 Batch 1:  Loss:     0.3586 Validation Accuracy: 0.687800\n",
      "Epoch 31, CIFAR-10 Batch 2:  Loss:     0.3282 Validation Accuracy: 0.687800\n",
      "Epoch 31, CIFAR-10 Batch 3:  Loss:     0.2882 Validation Accuracy: 0.681400\n",
      "Epoch 31, CIFAR-10 Batch 4:  Loss:     0.2774 Validation Accuracy: 0.690600\n",
      "Epoch 31, CIFAR-10 Batch 5:  Loss:     0.2627 Validation Accuracy: 0.693600\n",
      "Epoch 32, CIFAR-10 Batch 1:  Loss:     0.3321 Validation Accuracy: 0.686000\n",
      "Epoch 32, CIFAR-10 Batch 2:  Loss:     0.2881 Validation Accuracy: 0.695000\n",
      "Epoch 32, CIFAR-10 Batch 3:  Loss:     0.2455 Validation Accuracy: 0.687800\n",
      "Epoch 32, CIFAR-10 Batch 4:  Loss:     0.2496 Validation Accuracy: 0.699000\n",
      "Epoch 32, CIFAR-10 Batch 5:  Loss:     0.2607 Validation Accuracy: 0.692600\n",
      "Epoch 33, CIFAR-10 Batch 1:  Loss:     0.3123 Validation Accuracy: 0.695600\n",
      "Epoch 33, CIFAR-10 Batch 2:  Loss:     0.2842 Validation Accuracy: 0.695200\n",
      "Epoch 33, CIFAR-10 Batch 3:  Loss:     0.2291 Validation Accuracy: 0.695000\n",
      "Epoch 33, CIFAR-10 Batch 4:  Loss:     0.2368 Validation Accuracy: 0.695600\n",
      "Epoch 33, CIFAR-10 Batch 5:  Loss:     0.2440 Validation Accuracy: 0.698200\n",
      "Epoch 34, CIFAR-10 Batch 1:  Loss:     0.3132 Validation Accuracy: 0.684200\n",
      "Epoch 34, CIFAR-10 Batch 2:  Loss:     0.2706 Validation Accuracy: 0.691600\n",
      "Epoch 34, CIFAR-10 Batch 3:  Loss:     0.2277 Validation Accuracy: 0.694200\n",
      "Epoch 34, CIFAR-10 Batch 4:  Loss:     0.2251 Validation Accuracy: 0.701200\n",
      "Epoch 34, CIFAR-10 Batch 5:  Loss:     0.2306 Validation Accuracy: 0.698800\n",
      "Epoch 35, CIFAR-10 Batch 1:  Loss:     0.2765 Validation Accuracy: 0.689800\n",
      "Epoch 35, CIFAR-10 Batch 2:  Loss:     0.2567 Validation Accuracy: 0.696000\n",
      "Epoch 35, CIFAR-10 Batch 3:  Loss:     0.2029 Validation Accuracy: 0.696800\n",
      "Epoch 35, CIFAR-10 Batch 4:  Loss:     0.2160 Validation Accuracy: 0.700000\n",
      "Epoch 35, CIFAR-10 Batch 5:  Loss:     0.2199 Validation Accuracy: 0.696200\n",
      "Epoch 36, CIFAR-10 Batch 1:  Loss:     0.2675 Validation Accuracy: 0.688400\n",
      "Epoch 36, CIFAR-10 Batch 2:  Loss:     0.2545 Validation Accuracy: 0.692200\n",
      "Epoch 36, CIFAR-10 Batch 3:  Loss:     0.2033 Validation Accuracy: 0.690600\n",
      "Epoch 36, CIFAR-10 Batch 4:  Loss:     0.2146 Validation Accuracy: 0.694200\n",
      "Epoch 36, CIFAR-10 Batch 5:  Loss:     0.2057 Validation Accuracy: 0.695800\n",
      "Epoch 37, CIFAR-10 Batch 1:  Loss:     0.2438 Validation Accuracy: 0.693600\n",
      "Epoch 37, CIFAR-10 Batch 2:  Loss:     0.2250 Validation Accuracy: 0.692000\n",
      "Epoch 37, CIFAR-10 Batch 3:  Loss:     0.1756 Validation Accuracy: 0.698600\n",
      "Epoch 37, CIFAR-10 Batch 4:  Loss:     0.2003 Validation Accuracy: 0.688200\n",
      "Epoch 37, CIFAR-10 Batch 5:  Loss:     0.1985 Validation Accuracy: 0.696000\n",
      "Epoch 38, CIFAR-10 Batch 1:  Loss:     0.2245 Validation Accuracy: 0.701400\n",
      "Epoch 38, CIFAR-10 Batch 2:  Loss:     0.2115 Validation Accuracy: 0.699600\n",
      "Epoch 38, CIFAR-10 Batch 3:  Loss:     0.1831 Validation Accuracy: 0.699200\n",
      "Epoch 38, CIFAR-10 Batch 4:  Loss:     0.2072 Validation Accuracy: 0.690400\n",
      "Epoch 38, CIFAR-10 Batch 5:  Loss:     0.1873 Validation Accuracy: 0.698800\n",
      "Epoch 39, CIFAR-10 Batch 1:  Loss:     0.2006 Validation Accuracy: 0.696600\n",
      "Epoch 39, CIFAR-10 Batch 2:  Loss:     0.2028 Validation Accuracy: 0.698200\n",
      "Epoch 39, CIFAR-10 Batch 3:  Loss:     0.1700 Validation Accuracy: 0.696600\n",
      "Epoch 39, CIFAR-10 Batch 4:  Loss:     0.1696 Validation Accuracy: 0.699000\n",
      "Epoch 39, CIFAR-10 Batch 5:  Loss:     0.1704 Validation Accuracy: 0.699400\n",
      "Epoch 40, CIFAR-10 Batch 1:  Loss:     0.2000 Validation Accuracy: 0.700600\n",
      "Epoch 40, CIFAR-10 Batch 2:  Loss:     0.2000 Validation Accuracy: 0.694800\n",
      "Epoch 40, CIFAR-10 Batch 3:  Loss:     0.1561 Validation Accuracy: 0.702600\n",
      "Epoch 40, CIFAR-10 Batch 4:  Loss:     0.1630 Validation Accuracy: 0.701600\n",
      "Epoch 40, CIFAR-10 Batch 5:  Loss:     0.1642 Validation Accuracy: 0.705600\n",
      "Epoch 41, CIFAR-10 Batch 1:  Loss:     0.1853 Validation Accuracy: 0.695800\n",
      "Epoch 41, CIFAR-10 Batch 2:  Loss:     0.1802 Validation Accuracy: 0.695800\n",
      "Epoch 41, CIFAR-10 Batch 3:  Loss:     0.1423 Validation Accuracy: 0.698800\n",
      "Epoch 41, CIFAR-10 Batch 4:  Loss:     0.1612 Validation Accuracy: 0.701400\n",
      "Epoch 41, CIFAR-10 Batch 5:  Loss:     0.1560 Validation Accuracy: 0.698600\n",
      "Epoch 42, CIFAR-10 Batch 1:  Loss:     0.1935 Validation Accuracy: 0.697000\n",
      "Epoch 42, CIFAR-10 Batch 2:  Loss:     0.1851 Validation Accuracy: 0.696600\n",
      "Epoch 42, CIFAR-10 Batch 3:  Loss:     0.1521 Validation Accuracy: 0.696400\n",
      "Epoch 42, CIFAR-10 Batch 4:  Loss:     0.1725 Validation Accuracy: 0.692400\n",
      "Epoch 42, CIFAR-10 Batch 5:  Loss:     0.1401 Validation Accuracy: 0.699600\n",
      "Epoch 43, CIFAR-10 Batch 1:  Loss:     0.1700 Validation Accuracy: 0.705000\n",
      "Epoch 43, CIFAR-10 Batch 2:  Loss:     0.1676 Validation Accuracy: 0.699800\n",
      "Epoch 43, CIFAR-10 Batch 3:  Loss:     0.1447 Validation Accuracy: 0.692800\n",
      "Epoch 43, CIFAR-10 Batch 4:  Loss:     0.1507 Validation Accuracy: 0.698000\n",
      "Epoch 43, CIFAR-10 Batch 5:  Loss:     0.1425 Validation Accuracy: 0.699600\n",
      "Epoch 44, CIFAR-10 Batch 1:  Loss:     0.1546 Validation Accuracy: 0.696800\n",
      "Epoch 44, CIFAR-10 Batch 2:  Loss:     0.1673 Validation Accuracy: 0.705400\n",
      "Epoch 44, CIFAR-10 Batch 3:  Loss:     0.1189 Validation Accuracy: 0.704400\n",
      "Epoch 44, CIFAR-10 Batch 4:  Loss:     0.1262 Validation Accuracy: 0.706200\n",
      "Epoch 44, CIFAR-10 Batch 5:  Loss:     0.1195 Validation Accuracy: 0.690400\n",
      "Epoch 45, CIFAR-10 Batch 1:  Loss:     0.1488 Validation Accuracy: 0.699800\n",
      "Epoch 45, CIFAR-10 Batch 2:  Loss:     0.1509 Validation Accuracy: 0.700400\n",
      "Epoch 45, CIFAR-10 Batch 3:  Loss:     0.1134 Validation Accuracy: 0.702600\n",
      "Epoch 45, CIFAR-10 Batch 4:  Loss:     0.1247 Validation Accuracy: 0.707400\n",
      "Epoch 45, CIFAR-10 Batch 5:  Loss:     0.1189 Validation Accuracy: 0.699000\n",
      "Epoch 46, CIFAR-10 Batch 1:  Loss:     0.1559 Validation Accuracy: 0.702000\n",
      "Epoch 46, CIFAR-10 Batch 2:  Loss:     0.1593 Validation Accuracy: 0.702400\n",
      "Epoch 46, CIFAR-10 Batch 3:  Loss:     0.1123 Validation Accuracy: 0.701200\n",
      "Epoch 46, CIFAR-10 Batch 4:  Loss:     0.1136 Validation Accuracy: 0.698400\n",
      "Epoch 46, CIFAR-10 Batch 5:  Loss:     0.1216 Validation Accuracy: 0.692800\n",
      "Epoch 47, CIFAR-10 Batch 1:  Loss:     0.1327 Validation Accuracy: 0.703000\n",
      "Epoch 47, CIFAR-10 Batch 2:  Loss:     0.1349 Validation Accuracy: 0.698800\n",
      "Epoch 47, CIFAR-10 Batch 3:  Loss:     0.1094 Validation Accuracy: 0.698400\n",
      "Epoch 47, CIFAR-10 Batch 4:  Loss:     0.1092 Validation Accuracy: 0.701600\n",
      "Epoch 47, CIFAR-10 Batch 5:  Loss:     0.0993 Validation Accuracy: 0.698600\n",
      "Epoch 48, CIFAR-10 Batch 1:  Loss:     0.1284 Validation Accuracy: 0.693800\n",
      "Epoch 48, CIFAR-10 Batch 2:  Loss:     0.1355 Validation Accuracy: 0.699600\n",
      "Epoch 48, CIFAR-10 Batch 3:  Loss:     0.1057 Validation Accuracy: 0.695400\n",
      "Epoch 48, CIFAR-10 Batch 4:  Loss:     0.1139 Validation Accuracy: 0.693400\n",
      "Epoch 48, CIFAR-10 Batch 5:  Loss:     0.1005 Validation Accuracy: 0.692600\n",
      "Epoch 49, CIFAR-10 Batch 1:  Loss:     0.1276 Validation Accuracy: 0.701400\n",
      "Epoch 49, CIFAR-10 Batch 2:  Loss:     0.1265 Validation Accuracy: 0.703200\n",
      "Epoch 49, CIFAR-10 Batch 3:  Loss:     0.0916 Validation Accuracy: 0.702600\n",
      "Epoch 49, CIFAR-10 Batch 4:  Loss:     0.0999 Validation Accuracy: 0.699000\n",
      "Epoch 49, CIFAR-10 Batch 5:  Loss:     0.1002 Validation Accuracy: 0.694600\n",
      "Epoch 50, CIFAR-10 Batch 1:  Loss:     0.1309 Validation Accuracy: 0.697400\n",
      "Epoch 50, CIFAR-10 Batch 2:  Loss:     0.1271 Validation Accuracy: 0.692600\n",
      "Epoch 50, CIFAR-10 Batch 3:  Loss:     0.0930 Validation Accuracy: 0.696200\n",
      "Epoch 50, CIFAR-10 Batch 4:  Loss:     0.1053 Validation Accuracy: 0.694400\n",
      "Epoch 50, CIFAR-10 Batch 5:  Loss:     0.0904 Validation Accuracy: 0.695000\n"
     ]
    }
   ],
   "source": [
    "\"\"\"\n",
    "DON'T MODIFY ANYTHING IN THIS CELL\n",
    "\"\"\"\n",
    "save_model_path = './image_classification'\n",
    "\n",
    "print('Training...')\n",
    "with tf.Session() as sess:\n",
    "    # Initializing the variables\n",
    "    sess.run(tf.global_variables_initializer())\n",
    "    \n",
    "    # Training cycle\n",
    "    for epoch in range(epochs):\n",
    "        # Loop over all batches\n",
    "        n_batches = 5\n",
    "        for batch_i in range(1, n_batches + 1):\n",
    "            for batch_features, batch_labels in helper.load_preprocess_training_batch(batch_i, batch_size):\n",
    "                train_neural_network(sess, optimizer, keep_probability, batch_features, batch_labels)\n",
    "            print('Epoch {:>2}, CIFAR-10 Batch {}:  '.format(epoch + 1, batch_i), end='')\n",
    "            print_stats(sess, batch_features, batch_labels, cost, accuracy)\n",
    "            \n",
    "    # Save Model\n",
    "    saver = tf.train.Saver()\n",
    "    save_path = saver.save(sess, save_model_path)"
   ]
  },
  {
   "cell_type": "markdown",
   "metadata": {
    "deletable": true,
    "editable": true
   },
   "source": [
    "# Checkpoint\n",
    "The model has been saved to disk.\n",
    "## Test Model\n",
    "Test your model against the test dataset.  This will be your final accuracy. You should have an accuracy greater than 50%. If you don't, keep tweaking the model architecture and parameters."
   ]
  },
  {
   "cell_type": "code",
   "execution_count": 22,
   "metadata": {
    "collapsed": false,
    "deletable": true,
    "editable": true
   },
   "outputs": [
    {
     "name": "stdout",
     "output_type": "stream",
     "text": [
      "Testing Accuracy: 0.6980353862047195\n",
      "\n"
     ]
    },
    {
     "data": {
      "image/png": "[encoded data removed]",
      "text/plain": [
       "<matplotlib.figure.Figure at 0x7fe4d8459f28>"
      ]
     },
     "metadata": {
      "image/png": {
       "height": 319,
       "width": 355
      }
     },
     "output_type": "display_data"
    }
   ],
   "source": [
    "\"\"\"\n",
    "DON'T MODIFY ANYTHING IN THIS CELL\n",
    "\"\"\"\n",
    "%matplotlib inline\n",
    "%config InlineBackend.figure_format = 'retina'\n",
    "\n",
    "import tensorflow as tf\n",
    "import pickle\n",
    "import helper\n",
    "import random\n",
    "\n",
    "# Set batch size if not already set\n",
    "try:\n",
    "    if batch_size:\n",
    "        pass\n",
    "except NameError:\n",
    "    batch_size = 64\n",
    "\n",
    "save_model_path = './image_classification'\n",
    "n_samples = 4\n",
    "top_n_predictions = 3\n",
    "\n",
    "def test_model():\n",
    "    \"\"\"\n",
    "    Test the saved model against the test dataset\n",
    "    \"\"\"\n",
    "\n",
    "    test_features, test_labels = pickle.load(open('preprocess_training.p', mode='rb'))\n",
    "    loaded_graph = tf.Graph()\n",
    "\n",
    "    with tf.Session(graph=loaded_graph) as sess:\n",
    "        # Load model\n",
    "        loader = tf.train.import_meta_graph(save_model_path + '.meta')\n",
    "        loader.restore(sess, save_model_path)\n",
    "\n",
    "        # Get Tensors from loaded model\n",
    "        loaded_x = loaded_graph.get_tensor_by_name('x:0')\n",
    "        loaded_y = loaded_graph.get_tensor_by_name('y:0')\n",
    "        loaded_keep_prob = loaded_graph.get_tensor_by_name('keep_prob:0')\n",
    "        loaded_logits = loaded_graph.get_tensor_by_name('logits:0')\n",
    "        loaded_acc = loaded_graph.get_tensor_by_name('accuracy:0')\n",
    "        \n",
    "        # Get accuracy in batches for memory limitations\n",
    "        test_batch_acc_total = 0\n",
    "        test_batch_count = 0\n",
    "        \n",
    "        for train_feature_batch, train_label_batch in helper.batch_features_labels(test_features, test_labels, batch_size):\n",
    "            test_batch_acc_total += sess.run(\n",
    "                loaded_acc,\n",
    "                feed_dict={loaded_x: train_feature_batch, loaded_y: train_label_batch, loaded_keep_prob: 1.0})\n",
    "            test_batch_count += 1\n",
    "\n",
    "        print('Testing Accuracy: {}\\n'.format(test_batch_acc_total/test_batch_count))\n",
    "\n",
    "        # Print Random Samples\n",
    "        random_test_features, random_test_labels = tuple(zip(*random.sample(list(zip(test_features, test_labels)), n_samples)))\n",
    "        random_test_predictions = sess.run(\n",
    "            tf.nn.top_k(tf.nn.softmax(loaded_logits), top_n_predictions),\n",
    "            feed_dict={loaded_x: random_test_features, loaded_y: random_test_labels, loaded_keep_prob: 1.0})\n",
    "        helper.display_image_predictions(random_test_features, random_test_labels, random_test_predictions)\n",
    "\n",
    "\n",
    "test_model()"
   ]
  },
  {
   "cell_type": "markdown",
   "metadata": {
    "deletable": true,
    "editable": true
   },
   "source": [
    "## Why 50-80% Accuracy?\n",
    "You might be wondering why you can't get an accuracy any higher. First things first, 50% isn't bad for a simple CNN.  Pure guessing would get you 10% accuracy. However, you might notice people are getting scores [well above 80%](http://rodrigob.github.io/are_we_there_yet/build/classification_datasets_results.html#43494641522d3130).  That's because we haven't taught you all there is to know about neural networks. We still need to cover a few more techniques.\n",
    "## Submitting This Project\n",
    "When submitting this project, make sure to run all the cells before saving the notebook.  Save the notebook file as \"dlnd_image_classification.ipynb\" and save it as a HTML file under \"File\" -> \"Download as\".  Include the \"helper.py\" and \"problem_unittests.py\" files in your submission."
   ]
  }
 ],
 "metadata": {
  "kernelspec": {
   "display_name": "Python 3",
   "language": "python",
   "name": "python3"
  },
  "language_info": {
   "codemirror_mode": {
    "name": "ipython",
    "version": 3
   },
   "file_extension": ".py",
   "mimetype": "text/x-python",
   "name": "python",
   "nbconvert_exporter": "python",
   "pygments_lexer": "ipython3",
   "version": "3.5.2"
  },
  "widgets": {
   "state": {},
   "version": "1.1.2"
  }
 },
 "nbformat": 4,
 "nbformat_minor": 0
}
