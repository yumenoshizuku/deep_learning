{
 "cells": [
  {
   "cell_type": "markdown",
   "metadata": {
    "collapsed": true,
    "deletable": true,
    "editable": true
   },
   "source": [
    "# Image Classification\n",
    "In this project, you'll classify images from the [CIFAR-10 dataset](https://www.cs.toronto.edu/~kriz/cifar.html).  The dataset consists of airplanes, dogs, cats, and other objects. You'll preprocess the images, then train a convolutional neural network on all the samples. The images need to be normalized and the labels need to be one-hot encoded.  You'll get to apply what you learned and build a convolutional, max pooling, dropout, and fully connected layers.  At the end, you'll get to see your neural network's predictions on the sample images.\n",
    "## Get the Data\n",
    "Run the following cell to download the [CIFAR-10 dataset for python](https://www.cs.toronto.edu/~kriz/cifar-10-python.tar.gz)."
   ]
  },
  {
   "cell_type": "code",
   "execution_count": 29,
   "metadata": {
    "collapsed": false,
    "deletable": true,
    "editable": true
   },
   "outputs": [
    {
     "name": "stderr",
     "output_type": "stream",
     "text": [
      "CIFAR-10 Dataset: 171MB [00:36, 4.67MB/s]                              \n"
     ]
    },
    {
     "name": "stdout",
     "output_type": "stream",
     "text": [
      "All files found!\n"
     ]
    }
   ],
   "source": [
    "\"\"\"\n",
    "DON'T MODIFY ANYTHING IN THIS CELL THAT IS BELOW THIS LINE\n",
    "\"\"\"\n",
    "from urllib.request import urlretrieve\n",
    "from os.path import isfile, isdir\n",
    "from tqdm import tqdm\n",
    "import problem_unittests as tests\n",
    "import tarfile\n",
    "\n",
    "cifar10_dataset_folder_path = 'cifar-10-batches-py'\n",
    "\n",
    "class DLProgress(tqdm):\n",
    "    last_block = 0\n",
    "\n",
    "    def hook(self, block_num=1, block_size=1, total_size=None):\n",
    "        self.total = total_size\n",
    "        self.update((block_num - self.last_block) * block_size)\n",
    "        self.last_block = block_num\n",
    "\n",
    "if not isfile('cifar-10-python.tar.gz'):\n",
    "    with DLProgress(unit='B', unit_scale=True, miniters=1, desc='CIFAR-10 Dataset') as pbar:\n",
    "        urlretrieve(\n",
    "            'https://www.cs.toronto.edu/~kriz/cifar-10-python.tar.gz',\n",
    "            'cifar-10-python.tar.gz',\n",
    "            pbar.hook)\n",
    "\n",
    "if not isdir(cifar10_dataset_folder_path):\n",
    "    with tarfile.open('cifar-10-python.tar.gz') as tar:\n",
    "        tar.extractall()\n",
    "        tar.close()\n",
    "\n",
    "\n",
    "tests.test_folder_path(cifar10_dataset_folder_path)"
   ]
  },
  {
   "cell_type": "markdown",
   "metadata": {
    "deletable": true,
    "editable": true
   },
   "source": [
    "## Explore the Data\n",
    "The dataset is broken into batches to prevent your machine from running out of memory.  The CIFAR-10 dataset consists of 5 batches, named `data_batch_1`, `data_batch_2`, etc.. Each batch contains the labels and images that are one of the following:\n",
    "* airplane\n",
    "* automobile\n",
    "* bird\n",
    "* cat\n",
    "* deer\n",
    "* dog\n",
    "* frog\n",
    "* horse\n",
    "* ship\n",
    "* truck\n",
    "\n",
    "Understanding a dataset is part of making predictions on the data.  Play around with the code cell below by changing the `batch_id` and `sample_id`. The `batch_id` is the id for a batch (1-5). The `sample_id` is the id for a image and label pair in the batch.\n",
    "\n",
    "Ask yourself \"What are all possible labels?\", \"What is the range of values for the image data?\", \"Are the labels in order or random?\".  Answers to questions like these will help you preprocess the data and end up with better predictions."
   ]
  },
  {
   "cell_type": "code",
   "execution_count": 30,
   "metadata": {
    "collapsed": false,
    "deletable": true,
    "editable": true
   },
   "outputs": [
    {
     "name": "stdout",
     "output_type": "stream",
     "text": [
      "\n",
      "Stats of batch 5:\n",
      "Samples: 10000\n",
      "Label Counts: {0: 1014, 1: 1014, 2: 952, 3: 1016, 4: 997, 5: 1025, 6: 980, 7: 977, 8: 1003, 9: 1022}\n",
      "First 20 Labels: [1, 8, 5, 1, 5, 7, 4, 3, 8, 2, 7, 2, 0, 1, 5, 9, 6, 2, 0, 8]\n",
      "\n",
      "Example of Image 9999:\n",
      "Image - Min Value: 4 Max Value: 255\n",
      "Image - Shape: (32, 32, 3)\n",
      "Label - Label Id: 1 Name: automobile\n"
     ]
    },
    {
     "data": {
      "image/png": "[encoded data removed]",
      "text/plain": [
       "<matplotlib.figure.Figure at 0x7f27b73b6e48>"
      ]
     },
     "metadata": {
      "image/png": {
       "height": 250,
       "width": 253
      }
     },
     "output_type": "display_data"
    }
   ],
   "source": [
    "%matplotlib inline\n",
    "%config InlineBackend.figure_format = 'retina'\n",
    "\n",
    "import helper\n",
    "import numpy as np\n",
    "\n",
    "# Explore the dataset\n",
    "batch_id = 5\n",
    "sample_id = 9999\n",
    "helper.display_stats(cifar10_dataset_folder_path, batch_id, sample_id)"
   ]
  },
  {
   "cell_type": "markdown",
   "metadata": {
    "deletable": true,
    "editable": true
   },
   "source": [
    "## Implement Preprocess Functions\n",
    "### Normalize\n",
    "In the cell below, implement the `normalize` function to take in image data, `x`, and return it as a normalized Numpy array. The values should be in the range of 0 to 1, inclusive.  The return object should be the same shape as `x`."
   ]
  },
  {
   "cell_type": "code",
   "execution_count": 31,
   "metadata": {
    "collapsed": false,
    "deletable": true,
    "editable": true
   },
   "outputs": [
    {
     "name": "stdout",
     "output_type": "stream",
     "text": [
      "Tests Passed\n"
     ]
    }
   ],
   "source": [
    "def normalize(x):\n",
    "    \"\"\"\n",
    "    Normalize a list of sample image data in the range of 0 to 1\n",
    "    : x: List of image data.  The image shape is (32, 32, 3)\n",
    "    : return: Numpy array of normalize data\n",
    "    \"\"\"\n",
    "    # TODO: Implement Function\n",
    "    x_max = np.max(x)\n",
    "    x_min = np.min(x)\n",
    "    return (x - x_min) / (x_max - x_min)\n",
    "\n",
    "\n",
    "\"\"\"\n",
    "DON'T MODIFY ANYTHING IN THIS CELL THAT IS BELOW THIS LINE\n",
    "\"\"\"\n",
    "tests.test_normalize(normalize)"
   ]
  },
  {
   "cell_type": "markdown",
   "metadata": {
    "deletable": true,
    "editable": true
   },
   "source": [
    "### One-hot encode\n",
    "Just like the previous code cell, you'll be implementing a function for preprocessing.  This time, you'll implement the `one_hot_encode` function. The input, `x`, are a list of labels.  Implement the function to return the list of labels as One-Hot encoded Numpy array.  The possible values for labels are 0 to 9. The one-hot encoding function should return the same encoding for each value between each call to `one_hot_encode`.  Make sure to save the map of encodings outside the function.\n",
    "\n",
    "Hint: Don't reinvent the wheel."
   ]
  },
  {
   "cell_type": "code",
   "execution_count": 48,
   "metadata": {
    "collapsed": false,
    "deletable": true,
    "editable": true
   },
   "outputs": [
    {
     "name": "stdout",
     "output_type": "stream",
     "text": [
      "Tests Passed\n"
     ]
    }
   ],
   "source": [
    "global encoded\n",
    "\n",
    "def one_hot_encode(x):\n",
    "    \"\"\"\n",
    "    One hot encode a list of sample labels. Return a one-hot encoded vector for each label.\n",
    "    : x: List of sample Labels\n",
    "    : return: Numpy array of one-hot encoded labels\n",
    "    \"\"\"\n",
    "    # TODO: Implement Function\n",
    "    encoded = np.zeros((len(x), 10))\n",
    "    encoded[np.arange(len(x)), x] = 1\n",
    "    return encoded\n",
    "\n",
    "\n",
    "\"\"\"\n",
    "DON'T MODIFY ANYTHING IN THIS CELL THAT IS BELOW THIS LINE\n",
    "\"\"\"\n",
    "tests.test_one_hot_encode(one_hot_encode)"
   ]
  },
  {
   "cell_type": "markdown",
   "metadata": {
    "deletable": true,
    "editable": true
   },
   "source": [
    "### Randomize Data\n",
    "As you saw from exploring the data above, the order of the samples are randomized.  It doesn't hurt to randomize it again, but you don't need to for this dataset."
   ]
  },
  {
   "cell_type": "markdown",
   "metadata": {
    "deletable": true,
    "editable": true
   },
   "source": [
    "## Preprocess all the data and save it\n",
    "Running the code cell below will preprocess all the CIFAR-10 data and save it to file. The code below also uses 10% of the training data for validation."
   ]
  },
  {
   "cell_type": "code",
   "execution_count": 33,
   "metadata": {
    "collapsed": false,
    "deletable": true,
    "editable": true
   },
   "outputs": [],
   "source": [
    "\"\"\"\n",
    "DON'T MODIFY ANYTHING IN THIS CELL\n",
    "\"\"\"\n",
    "# Preprocess Training, Validation, and Testing Data\n",
    "helper.preprocess_and_save_data(cifar10_dataset_folder_path, normalize, one_hot_encode)"
   ]
  },
  {
   "cell_type": "markdown",
   "metadata": {
    "deletable": true,
    "editable": true
   },
   "source": [
    "# Check Point\n",
    "This is your first checkpoint.  If you ever decide to come back to this notebook or have to restart the notebook, you can start from here.  The preprocessed data has been saved to disk."
   ]
  },
  {
   "cell_type": "code",
   "execution_count": 34,
   "metadata": {
    "collapsed": true,
    "deletable": true,
    "editable": true
   },
   "outputs": [],
   "source": [
    "\"\"\"\n",
    "DON'T MODIFY ANYTHING IN THIS CELL\n",
    "\"\"\"\n",
    "import pickle\n",
    "import problem_unittests as tests\n",
    "import helper\n",
    "\n",
    "# Load the Preprocessed Validation data\n",
    "valid_features, valid_labels = pickle.load(open('preprocess_validation.p', mode='rb'))"
   ]
  },
  {
   "cell_type": "markdown",
   "metadata": {
    "deletable": true,
    "editable": true
   },
   "source": [
    "## Build the network\n",
    "For the neural network, you'll build each layer into a function.  Most of the code you've seen has been outside of functions. To test your code more thoroughly, we require that you put each layer in a function.  This allows us to give you better feedback and test for simple mistakes using our unittests before you submit your project.\n",
    "\n",
    ">**Note:** If you're finding it hard to dedicate enough time for this course each week, we've provided a small shortcut to this part of the project. In the next couple of problems, you'll have the option to use classes from the [TensorFlow Layers](https://www.tensorflow.org/api_docs/python/tf/layers) or [TensorFlow Layers (contrib)](https://www.tensorflow.org/api_guides/python/contrib.layers) packages to build each layer, except the layers you build in the \"Convolutional and Max Pooling Layer\" section.  TF Layers is similar to Keras's and TFLearn's abstraction to layers, so it's easy to pickup.\n",
    "\n",
    ">However, if you would like to get the most out of this course, try to solve all the problems _without_ using anything from the TF Layers packages. You **can** still use classes from other packages that happen to have the same name as ones you find in TF Layers! For example, instead of using the TF Layers version of the `conv2d` class, [tf.layers.conv2d](https://www.tensorflow.org/api_docs/python/tf/layers/conv2d), you would want to use the TF Neural Network version of `conv2d`, [tf.nn.conv2d](https://www.tensorflow.org/api_docs/python/tf/nn/conv2d). \n",
    "\n",
    "Let's begin!\n",
    "\n",
    "### Input\n",
    "The neural network needs to read the image data, one-hot encoded labels, and dropout keep probability. Implement the following functions\n",
    "* Implement `neural_net_image_input`\n",
    " * Return a [TF Placeholder](https://www.tensorflow.org/api_docs/python/tf/placeholder)\n",
    " * Set the shape using `image_shape` with batch size set to `None`.\n",
    " * Name the TensorFlow placeholder \"x\" using the TensorFlow `name` parameter in the [TF Placeholder](https://www.tensorflow.org/api_docs/python/tf/placeholder).\n",
    "* Implement `neural_net_label_input`\n",
    " * Return a [TF Placeholder](https://www.tensorflow.org/api_docs/python/tf/placeholder)\n",
    " * Set the shape using `n_classes` with batch size set to `None`.\n",
    " * Name the TensorFlow placeholder \"y\" using the TensorFlow `name` parameter in the [TF Placeholder](https://www.tensorflow.org/api_docs/python/tf/placeholder).\n",
    "* Implement `neural_net_keep_prob_input`\n",
    " * Return a [TF Placeholder](https://www.tensorflow.org/api_docs/python/tf/placeholder) for dropout keep probability.\n",
    " * Name the TensorFlow placeholder \"keep_prob\" using the TensorFlow `name` parameter in the [TF Placeholder](https://www.tensorflow.org/api_docs/python/tf/placeholder).\n",
    "\n",
    "These names will be used at the end of the project to load your saved model.\n",
    "\n",
    "Note: `None` for shapes in TensorFlow allow for a dynamic size."
   ]
  },
  {
   "cell_type": "code",
   "execution_count": 43,
   "metadata": {
    "collapsed": false,
    "deletable": true,
    "editable": true
   },
   "outputs": [
    {
     "name": "stdout",
     "output_type": "stream",
     "text": [
      "Image Input Tests Passed.\n",
      "Label Input Tests Passed.\n",
      "Keep Prob Tests Passed.\n"
     ]
    }
   ],
   "source": [
    "import tensorflow as tf\n",
    "\n",
    "def neural_net_image_input(image_shape):\n",
    "    \"\"\"\n",
    "    Return a Tensor for a bach of image input\n",
    "    : image_shape: Shape of the images\n",
    "    : return: Tensor for image input.\n",
    "    \"\"\"\n",
    "    # TODO: Implement Function\n",
    "    return tf.placeholder(tf.float32, [None, *image_shape[:]], name=\"x\")\n",
    "\n",
    "\n",
    "def neural_net_label_input(n_classes):\n",
    "    \"\"\"\n",
    "    Return a Tensor for a batch of label input\n",
    "    : n_classes: Number of classes\n",
    "    : return: Tensor for label input.\n",
    "    \"\"\"\n",
    "    # TODO: Implement Function\n",
    "    return tf.placeholder(tf.float32, [None, n_classes], name=\"y\")\n",
    "\n",
    "\n",
    "def neural_net_keep_prob_input():\n",
    "    \"\"\"\n",
    "    Return a Tensor for keep probability\n",
    "    : return: Tensor for keep probability.\n",
    "    \"\"\"\n",
    "    # TODO: Implement Function\n",
    "    return tf.placeholder(tf.float32, name=\"keep_prob\")\n",
    "\n",
    "\n",
    "\"\"\"\n",
    "DON'T MODIFY ANYTHING IN THIS CELL THAT IS BELOW THIS LINE\n",
    "\"\"\"\n",
    "tf.reset_default_graph()\n",
    "tests.test_nn_image_inputs(neural_net_image_input)\n",
    "tests.test_nn_label_inputs(neural_net_label_input)\n",
    "tests.test_nn_keep_prob_inputs(neural_net_keep_prob_input)"
   ]
  },
  {
   "cell_type": "markdown",
   "metadata": {
    "deletable": true,
    "editable": true
   },
   "source": [
    "### Convolution and Max Pooling Layer\n",
    "Convolution layers have a lot of success with images. For this code cell, you should implement the function `conv2d_maxpool` to apply convolution then max pooling:\n",
    "* Create the weight and bias using `conv_ksize`, `conv_num_outputs` and the shape of `x_tensor`.\n",
    "* Apply a convolution to `x_tensor` using weight and `conv_strides`.\n",
    " * We recommend you use same padding, but you're welcome to use any padding.\n",
    "* Add bias\n",
    "* Add a nonlinear activation to the convolution.\n",
    "* Apply Max Pooling using `pool_ksize` and `pool_strides`.\n",
    " * We recommend you use same padding, but you're welcome to use any padding.\n",
    "\n",
    "**Note:** You **can't** use [TensorFlow Layers](https://www.tensorflow.org/api_docs/python/tf/layers) or [TensorFlow Layers (contrib)](https://www.tensorflow.org/api_guides/python/contrib.layers) for **this** layer, but you can still use TensorFlow's [Neural Network](https://www.tensorflow.org/api_docs/python/tf/nn) package. You may still use the shortcut option for all the **other** layers."
   ]
  },
  {
   "cell_type": "code",
   "execution_count": 98,
   "metadata": {
    "collapsed": false,
    "deletable": true,
    "editable": true
   },
   "outputs": [
    {
     "name": "stdout",
     "output_type": "stream",
     "text": [
      "Tests Passed\n"
     ]
    }
   ],
   "source": [
    "def conv2d_maxpool(x_tensor, conv_num_outputs, conv_ksize, conv_strides, pool_ksize, pool_strides):\n",
    "    \"\"\"\n",
    "    Apply convolution then max pooling to x_tensor\n",
    "    :param x_tensor: TensorFlow Tensor\n",
    "    :param conv_num_outputs: Number of outputs for the convolutional layer\n",
    "    :param conv_ksize: kernal size 2-D Tuple for the convolutional layer\n",
    "    :param conv_strides: Stride 2-D Tuple for convolution\n",
    "    :param pool_ksize: kernal size 2-D Tuple for pool\n",
    "    :param pool_strides: Stride 2-D Tuple for pool\n",
    "    : return: A tensor that represents convolution and max pooling of x_tensor\n",
    "    \"\"\"\n",
    "    # TODO: Implement Function\n",
    "    weight = tf.Variable(tf.truncated_normal([*conv_ksize[:], x_tensor.shape[3].value, conv_num_outputs], stddev=0.1))\n",
    "    bias = tf.Variable(tf.zeros([conv_num_outputs]))\n",
    "    x_tensor = tf.nn.conv2d(x_tensor, weight, strides=[1, *conv_strides[:], 1], padding='SAME')\n",
    "    x_tensor = tf.nn.bias_add(x_tensor, bias)\n",
    "    x_tensor = tf.nn.relu(x_tensor)\n",
    "    return tf.nn.max_pool(\n",
    "        x_tensor,\n",
    "        ksize=[1, *pool_ksize[:], 1],\n",
    "        strides=[1, *pool_strides[:], 1],\n",
    "        padding='SAME') \n",
    "\n",
    "\n",
    "\"\"\"\n",
    "DON'T MODIFY ANYTHING IN THIS CELL THAT IS BELOW THIS LINE\n",
    "\"\"\"\n",
    "tests.test_con_pool(conv2d_maxpool)"
   ]
  },
  {
   "cell_type": "markdown",
   "metadata": {
    "deletable": true,
    "editable": true
   },
   "source": [
    "### Flatten Layer\n",
    "Implement the `flatten` function to change the dimension of `x_tensor` from a 4-D tensor to a 2-D tensor.  The output should be the shape (*Batch Size*, *Flattened Image Size*). Shortcut option: you can use classes from the [TensorFlow Layers](https://www.tensorflow.org/api_docs/python/tf/layers) or [TensorFlow Layers (contrib)](https://www.tensorflow.org/api_guides/python/contrib.layers) packages for this layer. For more of a challenge, only use other TensorFlow packages."
   ]
  },
  {
   "cell_type": "code",
   "execution_count": 74,
   "metadata": {
    "collapsed": false,
    "deletable": true,
    "editable": true
   },
   "outputs": [
    {
     "name": "stdout",
     "output_type": "stream",
     "text": [
      "Tests Passed\n"
     ]
    }
   ],
   "source": [
    "def flatten(x_tensor):\n",
    "    \"\"\"\n",
    "    Flatten x_tensor to (Batch Size, Flattened Image Size)\n",
    "    : x_tensor: A tensor of size (Batch Size, ...), where ... are the image dimensions.\n",
    "    : return: A tensor of size (Batch Size, Flattened Image Size).\n",
    "    \"\"\"\n",
    "    # TODO: Implement Function\n",
    "    dim = x_tensor.shape[1].value * x_tensor.shape[2].value * x_tensor.shape[3].value\n",
    "    return tf.reshape(x_tensor, [-1, dim])\n",
    "\n",
    "\n",
    "\"\"\"\n",
    "DON'T MODIFY ANYTHING IN THIS CELL THAT IS BELOW THIS LINE\n",
    "\"\"\"\n",
    "tests.test_flatten(flatten)"
   ]
  },
  {
   "cell_type": "markdown",
   "metadata": {
    "deletable": true,
    "editable": true
   },
   "source": [
    "### Fully-Connected Layer\n",
    "Implement the `fully_conn` function to apply a fully connected layer to `x_tensor` with the shape (*Batch Size*, *num_outputs*). Shortcut option: you can use classes from the [TensorFlow Layers](https://www.tensorflow.org/api_docs/python/tf/layers) or [TensorFlow Layers (contrib)](https://www.tensorflow.org/api_guides/python/contrib.layers) packages for this layer. For more of a challenge, only use other TensorFlow packages."
   ]
  },
  {
   "cell_type": "code",
   "execution_count": 99,
   "metadata": {
    "collapsed": false,
    "deletable": true,
    "editable": true
   },
   "outputs": [
    {
     "name": "stdout",
     "output_type": "stream",
     "text": [
      "Tests Passed\n"
     ]
    }
   ],
   "source": [
    "def fully_conn(x_tensor, num_outputs):\n",
    "    \"\"\"\n",
    "    Apply a fully connected layer to x_tensor using weight and bias\n",
    "    : x_tensor: A 2-D tensor where the first dimension is batch size.\n",
    "    : num_outputs: The number of output that the new tensor should be.\n",
    "    : return: A 2-D tensor where the second dimension is num_outputs.\n",
    "    \"\"\"\n",
    "    # TODO: Implement Function\n",
    "    weight = tf.Variable(tf.truncated_normal([x_tensor.shape[1].value, num_outputs], stddev=0.1))\n",
    "    bias = tf.Variable(tf.zeros([num_outputs]))\n",
    "    x_tensor = tf.add(tf.matmul(x_tensor, weight), bias)\n",
    "    return tf.nn.relu(x_tensor)\n",
    "\n",
    "\n",
    "\"\"\"\n",
    "DON'T MODIFY ANYTHING IN THIS CELL THAT IS BELOW THIS LINE\n",
    "\"\"\"\n",
    "tests.test_fully_conn(fully_conn)"
   ]
  },
  {
   "cell_type": "markdown",
   "metadata": {
    "deletable": true,
    "editable": true
   },
   "source": [
    "### Output Layer\n",
    "Implement the `output` function to apply a fully connected layer to `x_tensor` with the shape (*Batch Size*, *num_outputs*). Shortcut option: you can use classes from the [TensorFlow Layers](https://www.tensorflow.org/api_docs/python/tf/layers) or [TensorFlow Layers (contrib)](https://www.tensorflow.org/api_guides/python/contrib.layers) packages for this layer. For more of a challenge, only use other TensorFlow packages.\n",
    "\n",
    "**Note:** Activation, softmax, or cross entropy should **not** be applied to this."
   ]
  },
  {
   "cell_type": "code",
   "execution_count": 100,
   "metadata": {
    "collapsed": false,
    "deletable": true,
    "editable": true
   },
   "outputs": [
    {
     "name": "stdout",
     "output_type": "stream",
     "text": [
      "Tests Passed\n"
     ]
    }
   ],
   "source": [
    "def output(x_tensor, num_outputs):\n",
    "    \"\"\"\n",
    "    Apply a output layer to x_tensor using weight and bias\n",
    "    : x_tensor: A 2-D tensor where the first dimension is batch size.\n",
    "    : num_outputs: The number of output that the new tensor should be.\n",
    "    : return: A 2-D tensor where the second dimension is num_outputs.\n",
    "    \"\"\"\n",
    "    # TODO: Implement Function\n",
    "    weight = tf.Variable(tf.truncated_normal([x_tensor.shape[1].value, num_outputs], stddev=0.1))\n",
    "    bias = tf.Variable(tf.zeros([num_outputs]))\n",
    "    return tf.add(tf.matmul(x_tensor, weight), bias)\n",
    "\n",
    "\n",
    "\"\"\"\n",
    "DON'T MODIFY ANYTHING IN THIS CELL THAT IS BELOW THIS LINE\n",
    "\"\"\"\n",
    "tests.test_output(output)"
   ]
  },
  {
   "cell_type": "markdown",
   "metadata": {
    "deletable": true,
    "editable": true
   },
   "source": [
    "### Create Convolutional Model\n",
    "Implement the function `conv_net` to create a convolutional neural network model. The function takes in a batch of images, `x`, and outputs logits.  Use the layers you created above to create this model:\n",
    "\n",
    "* Apply 1, 2, or 3 Convolution and Max Pool layers\n",
    "* Apply a Flatten Layer\n",
    "* Apply 1, 2, or 3 Fully Connected Layers\n",
    "* Apply an Output Layer\n",
    "* Return the output\n",
    "* Apply [TensorFlow's Dropout](https://www.tensorflow.org/api_docs/python/tf/nn/dropout) to one or more layers in the model using `keep_prob`. "
   ]
  },
  {
   "cell_type": "code",
   "execution_count": 136,
   "metadata": {
    "collapsed": false,
    "deletable": true,
    "editable": true
   },
   "outputs": [
    {
     "name": "stdout",
     "output_type": "stream",
     "text": [
      "Neural Network Built!\n"
     ]
    }
   ],
   "source": [
    "def conv_net(x, keep_prob):\n",
    "    \"\"\"\n",
    "    Create a convolutional neural network model\n",
    "    : x: Placeholder tensor that holds image data.\n",
    "    : keep_prob: Placeholder tensor that hold dropout keep probability.\n",
    "    : return: Tensor that represents logits\n",
    "    \"\"\"\n",
    "    # TODO: Apply 1, 2, or 3 Convolution and Max Pool layers\n",
    "    #    Play around with different number of outputs, kernel size and stride\n",
    "    # Function Definition from Above:\n",
    "    #    conv2d_maxpool(x_tensor, conv_num_outputs, conv_ksize, conv_strides, pool_ksize, pool_strides)\n",
    "    \n",
    "    #x = conv2d_maxpool(x, 16, (2, 2), (1, 1), (2, 2), (2, 2))\n",
    "    #x = tf.nn.dropout(x, keep_prob)\n",
    "\n",
    "    x = conv2d_maxpool(x, 32, (3, 3), (1, 1), (2, 2), (2, 2))\n",
    "    x = tf.nn.dropout(x, keep_prob)\n",
    "    \n",
    "    # TODO: Apply a Flatten Layer\n",
    "    # Function Definition from Above:\n",
    "    #   flatten(x_tensor)\n",
    "    \n",
    "    x = flatten(x)\n",
    "    \n",
    "    # TODO: Apply 1, 2, or 3 Fully Connected Layers\n",
    "    #    Play around with different number of outputs\n",
    "    # Function Definition from Above:\n",
    "    #   fully_conn(x_tensor, num_outputs)\n",
    "    \n",
    "    x = fully_conn(x, 512)\n",
    "    x = tf.nn.dropout(x, keep_prob)\n",
    "    \n",
    "    #x = fully_conn(x, 128)\n",
    "    #x = tf.nn.dropout(x, keep_prob)\n",
    "    \n",
    "    #x = fully_conn(x, 64)\n",
    "    #x = tf.nn.dropout(x, keep_prob)\n",
    "    \n",
    "    # TODO: Apply an Output Layer\n",
    "    #    Set this to the number of classes\n",
    "    # Function Definition from Above:\n",
    "    #   output(x_tensor, num_outputs)\n",
    "    \n",
    "    x = output(x, 10)\n",
    "    \n",
    "    # TODO: return output\n",
    "    return x\n",
    "\n",
    "\n",
    "\"\"\"\n",
    "DON'T MODIFY ANYTHING IN THIS CELL THAT IS BELOW THIS LINE\n",
    "\"\"\"\n",
    "\n",
    "##############################\n",
    "## Build the Neural Network ##\n",
    "##############################\n",
    "\n",
    "# Remove previous weights, bias, inputs, etc..\n",
    "tf.reset_default_graph()\n",
    "\n",
    "# Inputs\n",
    "x = neural_net_image_input((32, 32, 3))\n",
    "y = neural_net_label_input(10)\n",
    "keep_prob = neural_net_keep_prob_input()\n",
    "\n",
    "# Model\n",
    "logits = conv_net(x, keep_prob)\n",
    "\n",
    "# Name logits Tensor, so that is can be loaded from disk after training\n",
    "logits = tf.identity(logits, name='logits')\n",
    "\n",
    "# Loss and Optimizer\n",
    "cost = tf.reduce_mean(tf.nn.softmax_cross_entropy_with_logits(logits=logits, labels=y))\n",
    "optimizer = tf.train.AdamOptimizer().minimize(cost)\n",
    "\n",
    "# Accuracy\n",
    "correct_pred = tf.equal(tf.argmax(logits, 1), tf.argmax(y, 1))\n",
    "accuracy = tf.reduce_mean(tf.cast(correct_pred, tf.float32), name='accuracy')\n",
    "\n",
    "tests.test_conv_net(conv_net)"
   ]
  },
  {
   "cell_type": "markdown",
   "metadata": {
    "deletable": true,
    "editable": true
   },
   "source": [
    "## Train the Neural Network\n",
    "### Single Optimization\n",
    "Implement the function `train_neural_network` to do a single optimization.  The optimization should use `optimizer` to optimize in `session` with a `feed_dict` of the following:\n",
    "* `x` for image input\n",
    "* `y` for labels\n",
    "* `keep_prob` for keep probability for dropout\n",
    "\n",
    "This function will be called for each batch, so `tf.global_variables_initializer()` has already been called.\n",
    "\n",
    "Note: Nothing needs to be returned. This function is only optimizing the neural network."
   ]
  },
  {
   "cell_type": "code",
   "execution_count": 94,
   "metadata": {
    "collapsed": false,
    "deletable": true,
    "editable": true
   },
   "outputs": [
    {
     "name": "stdout",
     "output_type": "stream",
     "text": [
      "Tests Passed\n"
     ]
    }
   ],
   "source": [
    "def train_neural_network(session, optimizer, keep_probability, feature_batch, label_batch):\n",
    "    \"\"\"\n",
    "    Optimize the session on a batch of images and labels\n",
    "    : session: Current TensorFlow session\n",
    "    : optimizer: TensorFlow optimizer function\n",
    "    : keep_probability: keep probability\n",
    "    : feature_batch: Batch of Numpy image data\n",
    "    : label_batch: Batch of Numpy label data\n",
    "    \"\"\"\n",
    "    # TODO: Implement Function\n",
    "    session.run(optimizer, feed_dict={\n",
    "            x: feature_batch,\n",
    "            y: label_batch,\n",
    "            keep_prob: keep_probability})\n",
    "\n",
    "\n",
    "\"\"\"\n",
    "DON'T MODIFY ANYTHING IN THIS CELL THAT IS BELOW THIS LINE\n",
    "\"\"\"\n",
    "tests.test_train_nn(train_neural_network)"
   ]
  },
  {
   "cell_type": "markdown",
   "metadata": {
    "deletable": true,
    "editable": true
   },
   "source": [
    "### Show Stats\n",
    "Implement the function `print_stats` to print loss and validation accuracy.  Use the global variables `valid_features` and `valid_labels` to calculate validation accuracy.  Use a keep probability of `1.0` to calculate the loss and validation accuracy."
   ]
  },
  {
   "cell_type": "code",
   "execution_count": 95,
   "metadata": {
    "collapsed": false,
    "deletable": true,
    "editable": true
   },
   "outputs": [],
   "source": [
    "def print_stats(session, feature_batch, label_batch, cost, accuracy):\n",
    "    \"\"\"\n",
    "    Print information about loss and validation accuracy\n",
    "    : session: Current TensorFlow session\n",
    "    : feature_batch: Batch of Numpy image data\n",
    "    : label_batch: Batch of Numpy label data\n",
    "    : cost: TensorFlow cost function\n",
    "    : accuracy: TensorFlow accuracy function\n",
    "    \"\"\"\n",
    "    # TODO: Implement Function\n",
    "    loss = session.run(cost, feed_dict={\n",
    "        x: feature_batch,\n",
    "        y: label_batch,\n",
    "        keep_prob: 1.})\n",
    "    valid_acc = session.run(accuracy, feed_dict={\n",
    "                x: valid_features,\n",
    "                y: valid_labels,\n",
    "                keep_prob: 1.})\n",
    "    \n",
    "    print('Loss: {:>10.4f} Validation Accuracy: {:.6f}'.format(loss, valid_acc))"
   ]
  },
  {
   "cell_type": "markdown",
   "metadata": {
    "deletable": true,
    "editable": true
   },
   "source": [
    "### Hyperparameters\n",
    "Tune the following parameters:\n",
    "* Set `epochs` to the number of iterations until the network stops learning or start overfitting\n",
    "* Set `batch_size` to the highest number that your machine has memory for.  Most people set them to common sizes of memory:\n",
    " * 64\n",
    " * 128\n",
    " * 256\n",
    " * ...\n",
    "* Set `keep_probability` to the probability of keeping a node using dropout"
   ]
  },
  {
   "cell_type": "code",
   "execution_count": 128,
   "metadata": {
    "collapsed": true,
    "deletable": true,
    "editable": true
   },
   "outputs": [],
   "source": [
    "# TODO: Tune Parameters\n",
    "epochs = 100\n",
    "batch_size = 512\n",
    "keep_probability = 0.5"
   ]
  },
  {
   "cell_type": "markdown",
   "metadata": {
    "deletable": true,
    "editable": true
   },
   "source": [
    "### Train on a Single CIFAR-10 Batch\n",
    "Instead of training the neural network on all the CIFAR-10 batches of data, let's use a single batch. This should save time while you iterate on the model to get a better accuracy.  Once the final validation accuracy is 50% or greater, run the model on all the data in the next section."
   ]
  },
  {
   "cell_type": "code",
   "execution_count": 137,
   "metadata": {
    "collapsed": false,
    "deletable": true,
    "editable": true
   },
   "outputs": [
    {
     "name": "stdout",
     "output_type": "stream",
     "text": [
      "Checking the Training on a Single Batch...\n",
      "Epoch  1, CIFAR-10 Batch 1:  Loss:     2.2712 Validation Accuracy: 0.205200\n",
      "Epoch  2, CIFAR-10 Batch 1:  Loss:     2.1381 Validation Accuracy: 0.237600\n",
      "Epoch  3, CIFAR-10 Batch 1:  Loss:     1.9529 Validation Accuracy: 0.317800\n",
      "Epoch  4, CIFAR-10 Batch 1:  Loss:     1.8057 Validation Accuracy: 0.360800\n",
      "Epoch  5, CIFAR-10 Batch 1:  Loss:     1.6992 Validation Accuracy: 0.401400\n",
      "Epoch  6, CIFAR-10 Batch 1:  Loss:     1.5757 Validation Accuracy: 0.423000\n",
      "Epoch  7, CIFAR-10 Batch 1:  Loss:     1.5013 Validation Accuracy: 0.451200\n",
      "Epoch  8, CIFAR-10 Batch 1:  Loss:     1.4168 Validation Accuracy: 0.466800\n",
      "Epoch  9, CIFAR-10 Batch 1:  Loss:     1.3477 Validation Accuracy: 0.479200\n",
      "Epoch 10, CIFAR-10 Batch 1:  Loss:     1.2888 Validation Accuracy: 0.488000\n",
      "Epoch 11, CIFAR-10 Batch 1:  Loss:     1.2214 Validation Accuracy: 0.493400\n",
      "Epoch 12, CIFAR-10 Batch 1:  Loss:     1.1537 Validation Accuracy: 0.506000\n",
      "Epoch 13, CIFAR-10 Batch 1:  Loss:     1.1016 Validation Accuracy: 0.505600\n",
      "Epoch 14, CIFAR-10 Batch 1:  Loss:     1.0390 Validation Accuracy: 0.521000\n",
      "Epoch 15, CIFAR-10 Batch 1:  Loss:     1.0024 Validation Accuracy: 0.523000\n",
      "Epoch 16, CIFAR-10 Batch 1:  Loss:     0.9390 Validation Accuracy: 0.531000\n",
      "Epoch 17, CIFAR-10 Batch 1:  Loss:     0.9064 Validation Accuracy: 0.533400\n",
      "Epoch 18, CIFAR-10 Batch 1:  Loss:     0.8462 Validation Accuracy: 0.544000\n",
      "Epoch 19, CIFAR-10 Batch 1:  Loss:     0.8257 Validation Accuracy: 0.539800\n",
      "Epoch 20, CIFAR-10 Batch 1:  Loss:     0.7633 Validation Accuracy: 0.542000\n",
      "Epoch 21, CIFAR-10 Batch 1:  Loss:     0.7501 Validation Accuracy: 0.544400\n",
      "Epoch 22, CIFAR-10 Batch 1:  Loss:     0.7061 Validation Accuracy: 0.556400\n",
      "Epoch 23, CIFAR-10 Batch 1:  Loss:     0.6705 Validation Accuracy: 0.558600\n",
      "Epoch 24, CIFAR-10 Batch 1:  Loss:     0.6538 Validation Accuracy: 0.554200\n",
      "Epoch 25, CIFAR-10 Batch 1:  Loss:     0.6238 Validation Accuracy: 0.554600\n",
      "Epoch 26, CIFAR-10 Batch 1:  Loss:     0.5743 Validation Accuracy: 0.558400\n",
      "Epoch 27, CIFAR-10 Batch 1:  Loss:     0.5475 Validation Accuracy: 0.557600\n",
      "Epoch 28, CIFAR-10 Batch 1:  Loss:     0.5031 Validation Accuracy: 0.563800\n",
      "Epoch 29, CIFAR-10 Batch 1:  Loss:     0.4831 Validation Accuracy: 0.571400\n",
      "Epoch 30, CIFAR-10 Batch 1:  Loss:     0.4535 Validation Accuracy: 0.567600\n",
      "Epoch 31, CIFAR-10 Batch 1:  Loss:     0.4291 Validation Accuracy: 0.564000\n",
      "Epoch 32, CIFAR-10 Batch 1:  Loss:     0.4224 Validation Accuracy: 0.564000\n",
      "Epoch 33, CIFAR-10 Batch 1:  Loss:     0.3750 Validation Accuracy: 0.569400\n",
      "Epoch 34, CIFAR-10 Batch 1:  Loss:     0.3586 Validation Accuracy: 0.575400\n",
      "Epoch 35, CIFAR-10 Batch 1:  Loss:     0.3300 Validation Accuracy: 0.572800\n",
      "Epoch 36, CIFAR-10 Batch 1:  Loss:     0.3271 Validation Accuracy: 0.575600\n",
      "Epoch 37, CIFAR-10 Batch 1:  Loss:     0.3051 Validation Accuracy: 0.570200\n",
      "Epoch 38, CIFAR-10 Batch 1:  Loss:     0.2779 Validation Accuracy: 0.576400\n",
      "Epoch 39, CIFAR-10 Batch 1:  Loss:     0.2588 Validation Accuracy: 0.581600\n",
      "Epoch 40, CIFAR-10 Batch 1:  Loss:     0.2446 Validation Accuracy: 0.581400\n",
      "Epoch 41, CIFAR-10 Batch 1:  Loss:     0.2407 Validation Accuracy: 0.586600\n",
      "Epoch 42, CIFAR-10 Batch 1:  Loss:     0.2295 Validation Accuracy: 0.585400\n",
      "Epoch 43, CIFAR-10 Batch 1:  Loss:     0.2271 Validation Accuracy: 0.587200\n",
      "Epoch 44, CIFAR-10 Batch 1:  Loss:     0.2183 Validation Accuracy: 0.587600\n",
      "Epoch 45, CIFAR-10 Batch 1:  Loss:     0.2088 Validation Accuracy: 0.595000\n",
      "Epoch 46, CIFAR-10 Batch 1:  Loss:     0.1928 Validation Accuracy: 0.593200\n",
      "Epoch 47, CIFAR-10 Batch 1:  Loss:     0.1818 Validation Accuracy: 0.599600\n",
      "Epoch 48, CIFAR-10 Batch 1:  Loss:     0.1730 Validation Accuracy: 0.596000\n",
      "Epoch 49, CIFAR-10 Batch 1:  Loss:     0.1587 Validation Accuracy: 0.595400\n",
      "Epoch 50, CIFAR-10 Batch 1:  Loss:     0.1528 Validation Accuracy: 0.597400\n",
      "Epoch 51, CIFAR-10 Batch 1:  Loss:     0.1366 Validation Accuracy: 0.593000\n",
      "Epoch 52, CIFAR-10 Batch 1:  Loss:     0.1282 Validation Accuracy: 0.593600\n",
      "Epoch 53, CIFAR-10 Batch 1:  Loss:     0.1254 Validation Accuracy: 0.593400\n",
      "Epoch 54, CIFAR-10 Batch 1:  Loss:     0.1180 Validation Accuracy: 0.594600\n",
      "Epoch 55, CIFAR-10 Batch 1:  Loss:     0.1109 Validation Accuracy: 0.600400\n",
      "Epoch 56, CIFAR-10 Batch 1:  Loss:     0.0974 Validation Accuracy: 0.600000\n",
      "Epoch 57, CIFAR-10 Batch 1:  Loss:     0.0951 Validation Accuracy: 0.603800\n",
      "Epoch 58, CIFAR-10 Batch 1:  Loss:     0.0906 Validation Accuracy: 0.602800\n",
      "Epoch 59, CIFAR-10 Batch 1:  Loss:     0.0820 Validation Accuracy: 0.593800\n",
      "Epoch 60, CIFAR-10 Batch 1:  Loss:     0.0806 Validation Accuracy: 0.596800\n",
      "Epoch 61, CIFAR-10 Batch 1:  Loss:     0.0685 Validation Accuracy: 0.601400\n",
      "Epoch 62, CIFAR-10 Batch 1:  Loss:     0.0684 Validation Accuracy: 0.600800\n",
      "Epoch 63, CIFAR-10 Batch 1:  Loss:     0.0662 Validation Accuracy: 0.603000\n",
      "Epoch 64, CIFAR-10 Batch 1:  Loss:     0.0581 Validation Accuracy: 0.603000\n",
      "Epoch 65, CIFAR-10 Batch 1:  Loss:     0.0579 Validation Accuracy: 0.608000\n",
      "Epoch 66, CIFAR-10 Batch 1:  Loss:     0.0531 Validation Accuracy: 0.602600\n",
      "Epoch 67, CIFAR-10 Batch 1:  Loss:     0.0495 Validation Accuracy: 0.602000\n",
      "Epoch 68, CIFAR-10 Batch 1:  Loss:     0.0463 Validation Accuracy: 0.602800\n",
      "Epoch 69, CIFAR-10 Batch 1:  Loss:     0.0492 Validation Accuracy: 0.603800\n",
      "Epoch 70, CIFAR-10 Batch 1:  Loss:     0.0412 Validation Accuracy: 0.603000\n",
      "Epoch 71, CIFAR-10 Batch 1:  Loss:     0.0413 Validation Accuracy: 0.598400\n",
      "Epoch 72, CIFAR-10 Batch 1:  Loss:     0.0374 Validation Accuracy: 0.598400\n",
      "Epoch 73, CIFAR-10 Batch 1:  Loss:     0.0323 Validation Accuracy: 0.600800\n",
      "Epoch 74, CIFAR-10 Batch 1:  Loss:     0.0302 Validation Accuracy: 0.604000\n",
      "Epoch 75, CIFAR-10 Batch 1:  Loss:     0.0269 Validation Accuracy: 0.605000\n",
      "Epoch 76, CIFAR-10 Batch 1:  Loss:     0.0280 Validation Accuracy: 0.603000\n",
      "Epoch 77, CIFAR-10 Batch 1:  Loss:     0.0302 Validation Accuracy: 0.599000\n",
      "Epoch 78, CIFAR-10 Batch 1:  Loss:     0.0286 Validation Accuracy: 0.593800\n",
      "Epoch 79, CIFAR-10 Batch 1:  Loss:     0.0264 Validation Accuracy: 0.598000\n",
      "Epoch 80, CIFAR-10 Batch 1:  Loss:     0.0242 Validation Accuracy: 0.597400\n",
      "Epoch 81, CIFAR-10 Batch 1:  Loss:     0.0277 Validation Accuracy: 0.590600\n",
      "Epoch 82, CIFAR-10 Batch 1:  Loss:     0.0324 Validation Accuracy: 0.591400\n",
      "Epoch 83, CIFAR-10 Batch 1:  Loss:     0.0264 Validation Accuracy: 0.597200\n",
      "Epoch 84, CIFAR-10 Batch 1:  Loss:     0.0219 Validation Accuracy: 0.599200\n",
      "Epoch 85, CIFAR-10 Batch 1:  Loss:     0.0226 Validation Accuracy: 0.599000\n",
      "Epoch 86, CIFAR-10 Batch 1:  Loss:     0.0173 Validation Accuracy: 0.598600\n",
      "Epoch 87, CIFAR-10 Batch 1:  Loss:     0.0165 Validation Accuracy: 0.601800\n",
      "Epoch 88, CIFAR-10 Batch 1:  Loss:     0.0159 Validation Accuracy: 0.605400\n",
      "Epoch 89, CIFAR-10 Batch 1:  Loss:     0.0160 Validation Accuracy: 0.600800\n",
      "Epoch 90, CIFAR-10 Batch 1:  Loss:     0.0160 Validation Accuracy: 0.599800\n",
      "Epoch 91, CIFAR-10 Batch 1:  Loss:     0.0144 Validation Accuracy: 0.602600\n",
      "Epoch 92, CIFAR-10 Batch 1:  Loss:     0.0152 Validation Accuracy: 0.600800\n",
      "Epoch 93, CIFAR-10 Batch 1:  Loss:     0.0137 Validation Accuracy: 0.603400\n",
      "Epoch 94, CIFAR-10 Batch 1:  Loss:     0.0116 Validation Accuracy: 0.606000\n",
      "Epoch 95, CIFAR-10 Batch 1:  Loss:     0.0121 Validation Accuracy: 0.605200\n",
      "Epoch 96, CIFAR-10 Batch 1:  Loss:     0.0115 Validation Accuracy: 0.604400\n",
      "Epoch 97, CIFAR-10 Batch 1:  Loss:     0.0108 Validation Accuracy: 0.607400\n",
      "Epoch 98, CIFAR-10 Batch 1:  Loss:     0.0108 Validation Accuracy: 0.607200\n",
      "Epoch 99, CIFAR-10 Batch 1:  Loss:     0.0106 Validation Accuracy: 0.604800\n",
      "Epoch 100, CIFAR-10 Batch 1:  Loss:     0.0083 Validation Accuracy: 0.609800\n"
     ]
    }
   ],
   "source": [
    "\"\"\"\n",
    "DON'T MODIFY ANYTHING IN THIS CELL\n",
    "\"\"\"\n",
    "print('Checking the Training on a Single Batch...')\n",
    "with tf.Session() as sess:\n",
    "    # Initializing the variables\n",
    "    sess.run(tf.global_variables_initializer())\n",
    "    \n",
    "    # Training cycle\n",
    "    for epoch in range(epochs):\n",
    "        batch_i = 1\n",
    "        for batch_features, batch_labels in helper.load_preprocess_training_batch(batch_i, batch_size):\n",
    "            train_neural_network(sess, optimizer, keep_probability, batch_features, batch_labels)\n",
    "        print('Epoch {:>2}, CIFAR-10 Batch {}:  '.format(epoch + 1, batch_i), end='')\n",
    "        print_stats(sess, batch_features, batch_labels, cost, accuracy)"
   ]
  },
  {
   "cell_type": "markdown",
   "metadata": {
    "deletable": true,
    "editable": true
   },
   "source": [
    "### Fully Train the Model\n",
    "Now that you got a good accuracy with a single CIFAR-10 batch, try it with all five batches."
   ]
  },
  {
   "cell_type": "code",
   "execution_count": 138,
   "metadata": {
    "collapsed": false,
    "deletable": true,
    "editable": true
   },
   "outputs": [
    {
     "name": "stdout",
     "output_type": "stream",
     "text": [
      "Training...\n",
      "Epoch  1, CIFAR-10 Batch 1:  Loss:     2.2737 Validation Accuracy: 0.195400\n",
      "Epoch  1, CIFAR-10 Batch 2:  Loss:     2.0767 Validation Accuracy: 0.263400\n",
      "Epoch  1, CIFAR-10 Batch 3:  Loss:     1.9253 Validation Accuracy: 0.332000\n",
      "Epoch  1, CIFAR-10 Batch 4:  Loss:     1.8226 Validation Accuracy: 0.358200\n",
      "Epoch  1, CIFAR-10 Batch 5:  Loss:     1.7188 Validation Accuracy: 0.401200\n",
      "Epoch  2, CIFAR-10 Batch 1:  Loss:     1.6903 Validation Accuracy: 0.427400\n",
      "Epoch  2, CIFAR-10 Batch 2:  Loss:     1.5563 Validation Accuracy: 0.451000\n",
      "Epoch  2, CIFAR-10 Batch 3:  Loss:     1.4713 Validation Accuracy: 0.448800\n",
      "Epoch  2, CIFAR-10 Batch 4:  Loss:     1.3794 Validation Accuracy: 0.479800\n",
      "Epoch  2, CIFAR-10 Batch 5:  Loss:     1.4223 Validation Accuracy: 0.490400\n",
      "Epoch  3, CIFAR-10 Batch 1:  Loss:     1.4588 Validation Accuracy: 0.502000\n",
      "Epoch  3, CIFAR-10 Batch 2:  Loss:     1.3434 Validation Accuracy: 0.503600\n",
      "Epoch  3, CIFAR-10 Batch 3:  Loss:     1.2337 Validation Accuracy: 0.511600\n",
      "Epoch  3, CIFAR-10 Batch 4:  Loss:     1.1994 Validation Accuracy: 0.528400\n",
      "Epoch  3, CIFAR-10 Batch 5:  Loss:     1.2664 Validation Accuracy: 0.534400\n",
      "Epoch  4, CIFAR-10 Batch 1:  Loss:     1.3457 Validation Accuracy: 0.534600\n",
      "Epoch  4, CIFAR-10 Batch 2:  Loss:     1.2080 Validation Accuracy: 0.542400\n",
      "Epoch  4, CIFAR-10 Batch 3:  Loss:     1.1251 Validation Accuracy: 0.544800\n",
      "Epoch  4, CIFAR-10 Batch 4:  Loss:     1.0863 Validation Accuracy: 0.558600\n",
      "Epoch  4, CIFAR-10 Batch 5:  Loss:     1.1637 Validation Accuracy: 0.553000\n",
      "Epoch  5, CIFAR-10 Batch 1:  Loss:     1.2359 Validation Accuracy: 0.562000\n",
      "Epoch  5, CIFAR-10 Batch 2:  Loss:     1.1374 Validation Accuracy: 0.561000\n",
      "Epoch  5, CIFAR-10 Batch 3:  Loss:     1.0197 Validation Accuracy: 0.569000\n",
      "Epoch  5, CIFAR-10 Batch 4:  Loss:     1.0199 Validation Accuracy: 0.573000\n",
      "Epoch  5, CIFAR-10 Batch 5:  Loss:     1.0747 Validation Accuracy: 0.578400\n",
      "Epoch  6, CIFAR-10 Batch 1:  Loss:     1.1744 Validation Accuracy: 0.573000\n",
      "Epoch  6, CIFAR-10 Batch 2:  Loss:     1.0795 Validation Accuracy: 0.565000\n",
      "Epoch  6, CIFAR-10 Batch 3:  Loss:     0.9560 Validation Accuracy: 0.582800\n",
      "Epoch  6, CIFAR-10 Batch 4:  Loss:     0.9658 Validation Accuracy: 0.586000\n",
      "Epoch  6, CIFAR-10 Batch 5:  Loss:     1.0188 Validation Accuracy: 0.584400\n",
      "Epoch  7, CIFAR-10 Batch 1:  Loss:     1.1248 Validation Accuracy: 0.583200\n",
      "Epoch  7, CIFAR-10 Batch 2:  Loss:     1.0187 Validation Accuracy: 0.582200\n",
      "Epoch  7, CIFAR-10 Batch 3:  Loss:     0.9126 Validation Accuracy: 0.597600\n",
      "Epoch  7, CIFAR-10 Batch 4:  Loss:     0.9134 Validation Accuracy: 0.594600\n",
      "Epoch  7, CIFAR-10 Batch 5:  Loss:     0.9507 Validation Accuracy: 0.594800\n",
      "Epoch  8, CIFAR-10 Batch 1:  Loss:     1.0724 Validation Accuracy: 0.597600\n",
      "Epoch  8, CIFAR-10 Batch 2:  Loss:     0.9444 Validation Accuracy: 0.605400\n",
      "Epoch  8, CIFAR-10 Batch 3:  Loss:     0.8640 Validation Accuracy: 0.602400\n",
      "Epoch  8, CIFAR-10 Batch 4:  Loss:     0.8556 Validation Accuracy: 0.608400\n",
      "Epoch  8, CIFAR-10 Batch 5:  Loss:     0.8955 Validation Accuracy: 0.605000\n",
      "Epoch  9, CIFAR-10 Batch 1:  Loss:     1.0167 Validation Accuracy: 0.613200\n",
      "Epoch  9, CIFAR-10 Batch 2:  Loss:     0.8999 Validation Accuracy: 0.613200\n",
      "Epoch  9, CIFAR-10 Batch 3:  Loss:     0.8178 Validation Accuracy: 0.615600\n",
      "Epoch  9, CIFAR-10 Batch 4:  Loss:     0.8205 Validation Accuracy: 0.618400\n",
      "Epoch  9, CIFAR-10 Batch 5:  Loss:     0.8348 Validation Accuracy: 0.615400\n",
      "Epoch 10, CIFAR-10 Batch 1:  Loss:     0.9719 Validation Accuracy: 0.615000\n",
      "Epoch 10, CIFAR-10 Batch 2:  Loss:     0.8664 Validation Accuracy: 0.618600\n",
      "Epoch 10, CIFAR-10 Batch 3:  Loss:     0.7793 Validation Accuracy: 0.616000\n",
      "Epoch 10, CIFAR-10 Batch 4:  Loss:     0.7684 Validation Accuracy: 0.626400\n",
      "Epoch 10, CIFAR-10 Batch 5:  Loss:     0.7916 Validation Accuracy: 0.620000\n",
      "Epoch 11, CIFAR-10 Batch 1:  Loss:     0.9165 Validation Accuracy: 0.625600\n",
      "Epoch 11, CIFAR-10 Batch 2:  Loss:     0.8210 Validation Accuracy: 0.631400\n",
      "Epoch 11, CIFAR-10 Batch 3:  Loss:     0.7493 Validation Accuracy: 0.624200\n",
      "Epoch 11, CIFAR-10 Batch 4:  Loss:     0.7372 Validation Accuracy: 0.638200\n",
      "Epoch 11, CIFAR-10 Batch 5:  Loss:     0.7437 Validation Accuracy: 0.632000\n",
      "Epoch 12, CIFAR-10 Batch 1:  Loss:     0.8837 Validation Accuracy: 0.634600\n",
      "Epoch 12, CIFAR-10 Batch 2:  Loss:     0.7914 Validation Accuracy: 0.639600\n",
      "Epoch 12, CIFAR-10 Batch 3:  Loss:     0.7065 Validation Accuracy: 0.633800\n",
      "Epoch 12, CIFAR-10 Batch 4:  Loss:     0.6978 Validation Accuracy: 0.641600\n",
      "Epoch 12, CIFAR-10 Batch 5:  Loss:     0.7077 Validation Accuracy: 0.634200\n",
      "Epoch 13, CIFAR-10 Batch 1:  Loss:     0.8260 Validation Accuracy: 0.641600\n",
      "Epoch 13, CIFAR-10 Batch 2:  Loss:     0.7938 Validation Accuracy: 0.633800\n",
      "Epoch 13, CIFAR-10 Batch 3:  Loss:     0.6759 Validation Accuracy: 0.640400\n",
      "Epoch 13, CIFAR-10 Batch 4:  Loss:     0.6698 Validation Accuracy: 0.646000\n",
      "Epoch 13, CIFAR-10 Batch 5:  Loss:     0.6692 Validation Accuracy: 0.643000\n",
      "Epoch 14, CIFAR-10 Batch 1:  Loss:     0.8006 Validation Accuracy: 0.643600\n",
      "Epoch 14, CIFAR-10 Batch 2:  Loss:     0.7114 Validation Accuracy: 0.645800\n",
      "Epoch 14, CIFAR-10 Batch 3:  Loss:     0.6203 Validation Accuracy: 0.639800\n",
      "Epoch 14, CIFAR-10 Batch 4:  Loss:     0.6412 Validation Accuracy: 0.646000\n",
      "Epoch 14, CIFAR-10 Batch 5:  Loss:     0.6312 Validation Accuracy: 0.642600\n",
      "Epoch 15, CIFAR-10 Batch 1:  Loss:     0.7592 Validation Accuracy: 0.649400\n",
      "Epoch 15, CIFAR-10 Batch 2:  Loss:     0.6655 Validation Accuracy: 0.650800\n",
      "Epoch 15, CIFAR-10 Batch 3:  Loss:     0.5988 Validation Accuracy: 0.645400\n",
      "Epoch 15, CIFAR-10 Batch 4:  Loss:     0.5962 Validation Accuracy: 0.658000\n",
      "Epoch 15, CIFAR-10 Batch 5:  Loss:     0.5884 Validation Accuracy: 0.652200\n",
      "Epoch 16, CIFAR-10 Batch 1:  Loss:     0.7153 Validation Accuracy: 0.654600\n",
      "Epoch 16, CIFAR-10 Batch 2:  Loss:     0.6457 Validation Accuracy: 0.660200\n",
      "Epoch 16, CIFAR-10 Batch 3:  Loss:     0.5746 Validation Accuracy: 0.649800\n",
      "Epoch 16, CIFAR-10 Batch 4:  Loss:     0.5863 Validation Accuracy: 0.655400\n",
      "Epoch 16, CIFAR-10 Batch 5:  Loss:     0.5716 Validation Accuracy: 0.657000\n",
      "Epoch 17, CIFAR-10 Batch 1:  Loss:     0.7039 Validation Accuracy: 0.659400\n",
      "Epoch 17, CIFAR-10 Batch 2:  Loss:     0.6063 Validation Accuracy: 0.663200\n",
      "Epoch 17, CIFAR-10 Batch 3:  Loss:     0.5291 Validation Accuracy: 0.655400\n",
      "Epoch 17, CIFAR-10 Batch 4:  Loss:     0.5360 Validation Accuracy: 0.665200\n",
      "Epoch 17, CIFAR-10 Batch 5:  Loss:     0.5293 Validation Accuracy: 0.661000\n",
      "Epoch 18, CIFAR-10 Batch 1:  Loss:     0.6671 Validation Accuracy: 0.663000\n",
      "Epoch 18, CIFAR-10 Batch 2:  Loss:     0.5706 Validation Accuracy: 0.662800\n",
      "Epoch 18, CIFAR-10 Batch 3:  Loss:     0.5204 Validation Accuracy: 0.663800\n",
      "Epoch 18, CIFAR-10 Batch 4:  Loss:     0.5147 Validation Accuracy: 0.663000\n",
      "Epoch 18, CIFAR-10 Batch 5:  Loss:     0.5074 Validation Accuracy: 0.661200\n",
      "Epoch 19, CIFAR-10 Batch 1:  Loss:     0.6270 Validation Accuracy: 0.666000\n",
      "Epoch 19, CIFAR-10 Batch 2:  Loss:     0.5522 Validation Accuracy: 0.668600\n",
      "Epoch 19, CIFAR-10 Batch 3:  Loss:     0.4783 Validation Accuracy: 0.667200\n",
      "Epoch 19, CIFAR-10 Batch 4:  Loss:     0.4879 Validation Accuracy: 0.664400\n",
      "Epoch 19, CIFAR-10 Batch 5:  Loss:     0.4637 Validation Accuracy: 0.662800\n",
      "Epoch 20, CIFAR-10 Batch 1:  Loss:     0.5966 Validation Accuracy: 0.667800\n",
      "Epoch 20, CIFAR-10 Batch 2:  Loss:     0.5181 Validation Accuracy: 0.670600\n",
      "Epoch 20, CIFAR-10 Batch 3:  Loss:     0.4592 Validation Accuracy: 0.665800\n",
      "Epoch 20, CIFAR-10 Batch 4:  Loss:     0.4554 Validation Accuracy: 0.670000\n",
      "Epoch 20, CIFAR-10 Batch 5:  Loss:     0.4491 Validation Accuracy: 0.665400\n",
      "Epoch 21, CIFAR-10 Batch 1:  Loss:     0.5702 Validation Accuracy: 0.671600\n",
      "Epoch 21, CIFAR-10 Batch 2:  Loss:     0.4979 Validation Accuracy: 0.676800\n",
      "Epoch 21, CIFAR-10 Batch 3:  Loss:     0.4169 Validation Accuracy: 0.668600\n",
      "Epoch 21, CIFAR-10 Batch 4:  Loss:     0.4439 Validation Accuracy: 0.675200\n",
      "Epoch 21, CIFAR-10 Batch 5:  Loss:     0.4165 Validation Accuracy: 0.673600\n",
      "Epoch 22, CIFAR-10 Batch 1:  Loss:     0.5326 Validation Accuracy: 0.676200\n",
      "Epoch 22, CIFAR-10 Batch 2:  Loss:     0.4736 Validation Accuracy: 0.678200\n",
      "Epoch 22, CIFAR-10 Batch 3:  Loss:     0.4039 Validation Accuracy: 0.676400\n",
      "Epoch 22, CIFAR-10 Batch 4:  Loss:     0.4042 Validation Accuracy: 0.679400\n",
      "Epoch 22, CIFAR-10 Batch 5:  Loss:     0.3832 Validation Accuracy: 0.674600\n",
      "Epoch 23, CIFAR-10 Batch 1:  Loss:     0.5086 Validation Accuracy: 0.676000\n",
      "Epoch 23, CIFAR-10 Batch 2:  Loss:     0.4455 Validation Accuracy: 0.679400\n",
      "Epoch 23, CIFAR-10 Batch 3:  Loss:     0.3780 Validation Accuracy: 0.676800\n",
      "Epoch 23, CIFAR-10 Batch 4:  Loss:     0.3864 Validation Accuracy: 0.686200\n",
      "Epoch 23, CIFAR-10 Batch 5:  Loss:     0.3646 Validation Accuracy: 0.681200\n",
      "Epoch 24, CIFAR-10 Batch 1:  Loss:     0.4813 Validation Accuracy: 0.685000\n",
      "Epoch 24, CIFAR-10 Batch 2:  Loss:     0.4181 Validation Accuracy: 0.682000\n",
      "Epoch 24, CIFAR-10 Batch 3:  Loss:     0.3574 Validation Accuracy: 0.678600\n",
      "Epoch 24, CIFAR-10 Batch 4:  Loss:     0.3643 Validation Accuracy: 0.684800\n",
      "Epoch 24, CIFAR-10 Batch 5:  Loss:     0.3484 Validation Accuracy: 0.682800\n",
      "Epoch 25, CIFAR-10 Batch 1:  Loss:     0.4557 Validation Accuracy: 0.684800\n",
      "Epoch 25, CIFAR-10 Batch 2:  Loss:     0.3884 Validation Accuracy: 0.686600\n",
      "Epoch 25, CIFAR-10 Batch 3:  Loss:     0.3245 Validation Accuracy: 0.687200\n",
      "Epoch 25, CIFAR-10 Batch 4:  Loss:     0.3479 Validation Accuracy: 0.685600\n",
      "Epoch 25, CIFAR-10 Batch 5:  Loss:     0.3359 Validation Accuracy: 0.684200\n",
      "Epoch 26, CIFAR-10 Batch 1:  Loss:     0.4303 Validation Accuracy: 0.676400\n",
      "Epoch 26, CIFAR-10 Batch 2:  Loss:     0.3814 Validation Accuracy: 0.689800\n",
      "Epoch 26, CIFAR-10 Batch 3:  Loss:     0.3275 Validation Accuracy: 0.684800\n",
      "Epoch 26, CIFAR-10 Batch 4:  Loss:     0.3335 Validation Accuracy: 0.687400\n",
      "Epoch 26, CIFAR-10 Batch 5:  Loss:     0.3057 Validation Accuracy: 0.687200\n",
      "Epoch 27, CIFAR-10 Batch 1:  Loss:     0.4209 Validation Accuracy: 0.680800\n",
      "Epoch 27, CIFAR-10 Batch 2:  Loss:     0.3546 Validation Accuracy: 0.692200\n",
      "Epoch 27, CIFAR-10 Batch 3:  Loss:     0.2874 Validation Accuracy: 0.687200\n",
      "Epoch 27, CIFAR-10 Batch 4:  Loss:     0.3131 Validation Accuracy: 0.694200\n",
      "Epoch 27, CIFAR-10 Batch 5:  Loss:     0.2882 Validation Accuracy: 0.684000\n",
      "Epoch 28, CIFAR-10 Batch 1:  Loss:     0.3984 Validation Accuracy: 0.678400\n",
      "Epoch 28, CIFAR-10 Batch 2:  Loss:     0.3347 Validation Accuracy: 0.692600\n",
      "Epoch 28, CIFAR-10 Batch 3:  Loss:     0.2799 Validation Accuracy: 0.684400\n",
      "Epoch 28, CIFAR-10 Batch 4:  Loss:     0.3053 Validation Accuracy: 0.694000\n",
      "Epoch 28, CIFAR-10 Batch 5:  Loss:     0.2801 Validation Accuracy: 0.684600\n",
      "Epoch 29, CIFAR-10 Batch 1:  Loss:     0.3708 Validation Accuracy: 0.687200\n",
      "Epoch 29, CIFAR-10 Batch 2:  Loss:     0.3214 Validation Accuracy: 0.689200\n",
      "Epoch 29, CIFAR-10 Batch 3:  Loss:     0.2684 Validation Accuracy: 0.687200\n",
      "Epoch 29, CIFAR-10 Batch 4:  Loss:     0.2745 Validation Accuracy: 0.694200\n",
      "Epoch 29, CIFAR-10 Batch 5:  Loss:     0.2696 Validation Accuracy: 0.685600\n",
      "Epoch 30, CIFAR-10 Batch 1:  Loss:     0.3480 Validation Accuracy: 0.687600\n",
      "Epoch 30, CIFAR-10 Batch 2:  Loss:     0.2960 Validation Accuracy: 0.698400\n",
      "Epoch 30, CIFAR-10 Batch 3:  Loss:     0.2507 Validation Accuracy: 0.696200\n",
      "Epoch 30, CIFAR-10 Batch 4:  Loss:     0.2515 Validation Accuracy: 0.693200\n",
      "Epoch 30, CIFAR-10 Batch 5:  Loss:     0.2449 Validation Accuracy: 0.698400\n",
      "Epoch 31, CIFAR-10 Batch 1:  Loss:     0.3158 Validation Accuracy: 0.696000\n",
      "Epoch 31, CIFAR-10 Batch 2:  Loss:     0.2819 Validation Accuracy: 0.692200\n",
      "Epoch 31, CIFAR-10 Batch 3:  Loss:     0.2355 Validation Accuracy: 0.694000\n",
      "Epoch 31, CIFAR-10 Batch 4:  Loss:     0.2420 Validation Accuracy: 0.699400\n",
      "Epoch 31, CIFAR-10 Batch 5:  Loss:     0.2255 Validation Accuracy: 0.694600\n",
      "Epoch 32, CIFAR-10 Batch 1:  Loss:     0.3062 Validation Accuracy: 0.696200\n",
      "Epoch 32, CIFAR-10 Batch 2:  Loss:     0.2605 Validation Accuracy: 0.697800\n",
      "Epoch 32, CIFAR-10 Batch 3:  Loss:     0.2306 Validation Accuracy: 0.696400\n",
      "Epoch 32, CIFAR-10 Batch 4:  Loss:     0.2469 Validation Accuracy: 0.693200\n",
      "Epoch 32, CIFAR-10 Batch 5:  Loss:     0.2269 Validation Accuracy: 0.697400\n",
      "Epoch 33, CIFAR-10 Batch 1:  Loss:     0.2827 Validation Accuracy: 0.697200\n",
      "Epoch 33, CIFAR-10 Batch 2:  Loss:     0.2452 Validation Accuracy: 0.698000\n",
      "Epoch 33, CIFAR-10 Batch 3:  Loss:     0.2209 Validation Accuracy: 0.694400\n",
      "Epoch 33, CIFAR-10 Batch 4:  Loss:     0.2241 Validation Accuracy: 0.699600\n",
      "Epoch 33, CIFAR-10 Batch 5:  Loss:     0.2033 Validation Accuracy: 0.696400\n",
      "Epoch 34, CIFAR-10 Batch 1:  Loss:     0.2582 Validation Accuracy: 0.694000\n",
      "Epoch 34, CIFAR-10 Batch 2:  Loss:     0.2245 Validation Accuracy: 0.704600\n",
      "Epoch 34, CIFAR-10 Batch 3:  Loss:     0.1841 Validation Accuracy: 0.703800\n",
      "Epoch 34, CIFAR-10 Batch 4:  Loss:     0.2079 Validation Accuracy: 0.694400\n",
      "Epoch 34, CIFAR-10 Batch 5:  Loss:     0.1893 Validation Accuracy: 0.704800\n",
      "Epoch 35, CIFAR-10 Batch 1:  Loss:     0.2619 Validation Accuracy: 0.693800\n",
      "Epoch 35, CIFAR-10 Batch 2:  Loss:     0.2299 Validation Accuracy: 0.698200\n",
      "Epoch 35, CIFAR-10 Batch 3:  Loss:     0.1849 Validation Accuracy: 0.704800\n",
      "Epoch 35, CIFAR-10 Batch 4:  Loss:     0.1930 Validation Accuracy: 0.701600\n",
      "Epoch 35, CIFAR-10 Batch 5:  Loss:     0.1836 Validation Accuracy: 0.699000\n",
      "Epoch 36, CIFAR-10 Batch 1:  Loss:     0.2467 Validation Accuracy: 0.699800\n",
      "Epoch 36, CIFAR-10 Batch 2:  Loss:     0.2019 Validation Accuracy: 0.704400\n",
      "Epoch 36, CIFAR-10 Batch 3:  Loss:     0.1916 Validation Accuracy: 0.695000\n",
      "Epoch 36, CIFAR-10 Batch 4:  Loss:     0.2027 Validation Accuracy: 0.695800\n",
      "Epoch 36, CIFAR-10 Batch 5:  Loss:     0.1724 Validation Accuracy: 0.702600\n",
      "Epoch 37, CIFAR-10 Batch 1:  Loss:     0.2295 Validation Accuracy: 0.698200\n",
      "Epoch 37, CIFAR-10 Batch 2:  Loss:     0.1756 Validation Accuracy: 0.707200\n",
      "Epoch 37, CIFAR-10 Batch 3:  Loss:     0.1648 Validation Accuracy: 0.694200\n",
      "Epoch 37, CIFAR-10 Batch 4:  Loss:     0.1948 Validation Accuracy: 0.695200\n",
      "Epoch 37, CIFAR-10 Batch 5:  Loss:     0.1525 Validation Accuracy: 0.703800\n",
      "Epoch 38, CIFAR-10 Batch 1:  Loss:     0.2156 Validation Accuracy: 0.702000\n",
      "Epoch 38, CIFAR-10 Batch 2:  Loss:     0.1773 Validation Accuracy: 0.703600\n",
      "Epoch 38, CIFAR-10 Batch 3:  Loss:     0.1495 Validation Accuracy: 0.695000\n",
      "Epoch 38, CIFAR-10 Batch 4:  Loss:     0.1737 Validation Accuracy: 0.702400\n",
      "Epoch 38, CIFAR-10 Batch 5:  Loss:     0.1577 Validation Accuracy: 0.704000\n",
      "Epoch 39, CIFAR-10 Batch 1:  Loss:     0.1983 Validation Accuracy: 0.704000\n",
      "Epoch 39, CIFAR-10 Batch 2:  Loss:     0.1658 Validation Accuracy: 0.699600\n",
      "Epoch 39, CIFAR-10 Batch 3:  Loss:     0.1532 Validation Accuracy: 0.701400\n",
      "Epoch 39, CIFAR-10 Batch 4:  Loss:     0.1655 Validation Accuracy: 0.702000\n",
      "Epoch 39, CIFAR-10 Batch 5:  Loss:     0.1604 Validation Accuracy: 0.701800\n",
      "Epoch 40, CIFAR-10 Batch 1:  Loss:     0.1806 Validation Accuracy: 0.699400\n",
      "Epoch 40, CIFAR-10 Batch 2:  Loss:     0.1632 Validation Accuracy: 0.701600\n",
      "Epoch 40, CIFAR-10 Batch 3:  Loss:     0.1398 Validation Accuracy: 0.697000\n",
      "Epoch 40, CIFAR-10 Batch 4:  Loss:     0.1465 Validation Accuracy: 0.706000\n",
      "Epoch 40, CIFAR-10 Batch 5:  Loss:     0.1324 Validation Accuracy: 0.702000\n",
      "Epoch 41, CIFAR-10 Batch 1:  Loss:     0.1718 Validation Accuracy: 0.701400\n",
      "Epoch 41, CIFAR-10 Batch 2:  Loss:     0.1439 Validation Accuracy: 0.703400\n",
      "Epoch 41, CIFAR-10 Batch 3:  Loss:     0.1284 Validation Accuracy: 0.703200\n",
      "Epoch 41, CIFAR-10 Batch 4:  Loss:     0.1348 Validation Accuracy: 0.707000\n",
      "Epoch 41, CIFAR-10 Batch 5:  Loss:     0.1278 Validation Accuracy: 0.704000\n",
      "Epoch 42, CIFAR-10 Batch 1:  Loss:     0.1706 Validation Accuracy: 0.700800\n",
      "Epoch 42, CIFAR-10 Batch 2:  Loss:     0.1380 Validation Accuracy: 0.705200\n",
      "Epoch 42, CIFAR-10 Batch 3:  Loss:     0.1226 Validation Accuracy: 0.698600\n",
      "Epoch 42, CIFAR-10 Batch 4:  Loss:     0.1448 Validation Accuracy: 0.703800\n",
      "Epoch 42, CIFAR-10 Batch 5:  Loss:     0.1282 Validation Accuracy: 0.701800\n",
      "Epoch 43, CIFAR-10 Batch 1:  Loss:     0.1521 Validation Accuracy: 0.704800\n",
      "Epoch 43, CIFAR-10 Batch 2:  Loss:     0.1408 Validation Accuracy: 0.708800\n",
      "Epoch 43, CIFAR-10 Batch 3:  Loss:     0.1233 Validation Accuracy: 0.694200\n",
      "Epoch 43, CIFAR-10 Batch 4:  Loss:     0.1270 Validation Accuracy: 0.704400\n",
      "Epoch 43, CIFAR-10 Batch 5:  Loss:     0.1167 Validation Accuracy: 0.706400\n",
      "Epoch 44, CIFAR-10 Batch 1:  Loss:     0.1451 Validation Accuracy: 0.703400\n",
      "Epoch 44, CIFAR-10 Batch 2:  Loss:     0.1262 Validation Accuracy: 0.704000\n",
      "Epoch 44, CIFAR-10 Batch 3:  Loss:     0.1093 Validation Accuracy: 0.702000\n",
      "Epoch 44, CIFAR-10 Batch 4:  Loss:     0.1237 Validation Accuracy: 0.701800\n",
      "Epoch 44, CIFAR-10 Batch 5:  Loss:     0.1109 Validation Accuracy: 0.703400\n",
      "Epoch 45, CIFAR-10 Batch 1:  Loss:     0.1360 Validation Accuracy: 0.700800\n",
      "Epoch 45, CIFAR-10 Batch 2:  Loss:     0.1181 Validation Accuracy: 0.709800\n",
      "Epoch 45, CIFAR-10 Batch 3:  Loss:     0.1066 Validation Accuracy: 0.700000\n",
      "Epoch 45, CIFAR-10 Batch 4:  Loss:     0.1156 Validation Accuracy: 0.704000\n",
      "Epoch 45, CIFAR-10 Batch 5:  Loss:     0.0977 Validation Accuracy: 0.705400\n",
      "Epoch 46, CIFAR-10 Batch 1:  Loss:     0.1278 Validation Accuracy: 0.701200\n",
      "Epoch 46, CIFAR-10 Batch 2:  Loss:     0.1124 Validation Accuracy: 0.707600\n",
      "Epoch 46, CIFAR-10 Batch 3:  Loss:     0.0922 Validation Accuracy: 0.705600\n",
      "Epoch 46, CIFAR-10 Batch 4:  Loss:     0.1214 Validation Accuracy: 0.700200\n",
      "Epoch 46, CIFAR-10 Batch 5:  Loss:     0.1075 Validation Accuracy: 0.703200\n",
      "Epoch 47, CIFAR-10 Batch 1:  Loss:     0.1276 Validation Accuracy: 0.705200\n",
      "Epoch 47, CIFAR-10 Batch 2:  Loss:     0.1045 Validation Accuracy: 0.704600\n",
      "Epoch 47, CIFAR-10 Batch 3:  Loss:     0.0821 Validation Accuracy: 0.706000\n",
      "Epoch 47, CIFAR-10 Batch 4:  Loss:     0.1052 Validation Accuracy: 0.709200\n",
      "Epoch 47, CIFAR-10 Batch 5:  Loss:     0.0839 Validation Accuracy: 0.707200\n",
      "Epoch 48, CIFAR-10 Batch 1:  Loss:     0.1051 Validation Accuracy: 0.709000\n",
      "Epoch 48, CIFAR-10 Batch 2:  Loss:     0.1002 Validation Accuracy: 0.706200\n",
      "Epoch 48, CIFAR-10 Batch 3:  Loss:     0.0848 Validation Accuracy: 0.703200\n",
      "Epoch 48, CIFAR-10 Batch 4:  Loss:     0.1196 Validation Accuracy: 0.699000\n",
      "Epoch 48, CIFAR-10 Batch 5:  Loss:     0.0811 Validation Accuracy: 0.704600\n",
      "Epoch 49, CIFAR-10 Batch 1:  Loss:     0.1085 Validation Accuracy: 0.707200\n",
      "Epoch 49, CIFAR-10 Batch 2:  Loss:     0.1034 Validation Accuracy: 0.705400\n",
      "Epoch 49, CIFAR-10 Batch 3:  Loss:     0.0743 Validation Accuracy: 0.700600\n",
      "Epoch 49, CIFAR-10 Batch 4:  Loss:     0.0979 Validation Accuracy: 0.704000\n",
      "Epoch 49, CIFAR-10 Batch 5:  Loss:     0.0698 Validation Accuracy: 0.711000\n",
      "Epoch 50, CIFAR-10 Batch 1:  Loss:     0.1024 Validation Accuracy: 0.704800\n",
      "Epoch 50, CIFAR-10 Batch 2:  Loss:     0.0894 Validation Accuracy: 0.711200\n",
      "Epoch 50, CIFAR-10 Batch 3:  Loss:     0.0734 Validation Accuracy: 0.706600\n",
      "Epoch 50, CIFAR-10 Batch 4:  Loss:     0.0989 Validation Accuracy: 0.704600\n",
      "Epoch 50, CIFAR-10 Batch 5:  Loss:     0.0640 Validation Accuracy: 0.709000\n",
      "Epoch 51, CIFAR-10 Batch 1:  Loss:     0.0920 Validation Accuracy: 0.711800\n",
      "Epoch 51, CIFAR-10 Batch 2:  Loss:     0.0883 Validation Accuracy: 0.711400\n",
      "Epoch 51, CIFAR-10 Batch 3:  Loss:     0.0711 Validation Accuracy: 0.710400\n",
      "Epoch 51, CIFAR-10 Batch 4:  Loss:     0.0839 Validation Accuracy: 0.703600\n",
      "Epoch 51, CIFAR-10 Batch 5:  Loss:     0.0614 Validation Accuracy: 0.710800\n",
      "Epoch 52, CIFAR-10 Batch 1:  Loss:     0.1021 Validation Accuracy: 0.704400\n",
      "Epoch 52, CIFAR-10 Batch 2:  Loss:     0.0755 Validation Accuracy: 0.707600\n",
      "Epoch 52, CIFAR-10 Batch 3:  Loss:     0.0709 Validation Accuracy: 0.708600\n",
      "Epoch 52, CIFAR-10 Batch 4:  Loss:     0.0768 Validation Accuracy: 0.707000\n",
      "Epoch 52, CIFAR-10 Batch 5:  Loss:     0.0658 Validation Accuracy: 0.708600\n",
      "Epoch 53, CIFAR-10 Batch 1:  Loss:     0.0926 Validation Accuracy: 0.706600\n",
      "Epoch 53, CIFAR-10 Batch 2:  Loss:     0.0764 Validation Accuracy: 0.704600\n",
      "Epoch 53, CIFAR-10 Batch 3:  Loss:     0.0652 Validation Accuracy: 0.706200\n",
      "Epoch 53, CIFAR-10 Batch 4:  Loss:     0.0940 Validation Accuracy: 0.704200\n",
      "Epoch 53, CIFAR-10 Batch 5:  Loss:     0.0549 Validation Accuracy: 0.711800\n",
      "Epoch 54, CIFAR-10 Batch 1:  Loss:     0.0788 Validation Accuracy: 0.710800\n",
      "Epoch 54, CIFAR-10 Batch 2:  Loss:     0.0736 Validation Accuracy: 0.707400\n",
      "Epoch 54, CIFAR-10 Batch 3:  Loss:     0.0606 Validation Accuracy: 0.710200\n",
      "Epoch 54, CIFAR-10 Batch 4:  Loss:     0.0720 Validation Accuracy: 0.708400\n",
      "Epoch 54, CIFAR-10 Batch 5:  Loss:     0.0517 Validation Accuracy: 0.709800\n",
      "Epoch 55, CIFAR-10 Batch 1:  Loss:     0.0818 Validation Accuracy: 0.704200\n",
      "Epoch 55, CIFAR-10 Batch 2:  Loss:     0.0674 Validation Accuracy: 0.709600\n",
      "Epoch 55, CIFAR-10 Batch 3:  Loss:     0.0572 Validation Accuracy: 0.709800\n",
      "Epoch 55, CIFAR-10 Batch 4:  Loss:     0.0682 Validation Accuracy: 0.700600\n",
      "Epoch 55, CIFAR-10 Batch 5:  Loss:     0.0457 Validation Accuracy: 0.708000\n",
      "Epoch 56, CIFAR-10 Batch 1:  Loss:     0.0724 Validation Accuracy: 0.704600\n",
      "Epoch 56, CIFAR-10 Batch 2:  Loss:     0.0774 Validation Accuracy: 0.711200\n",
      "Epoch 56, CIFAR-10 Batch 3:  Loss:     0.0548 Validation Accuracy: 0.707800\n",
      "Epoch 56, CIFAR-10 Batch 4:  Loss:     0.0600 Validation Accuracy: 0.708000\n",
      "Epoch 56, CIFAR-10 Batch 5:  Loss:     0.0467 Validation Accuracy: 0.713800\n",
      "Epoch 57, CIFAR-10 Batch 1:  Loss:     0.0656 Validation Accuracy: 0.704800\n",
      "Epoch 57, CIFAR-10 Batch 2:  Loss:     0.0586 Validation Accuracy: 0.708600\n",
      "Epoch 57, CIFAR-10 Batch 3:  Loss:     0.0543 Validation Accuracy: 0.710000\n",
      "Epoch 57, CIFAR-10 Batch 4:  Loss:     0.0607 Validation Accuracy: 0.705400\n",
      "Epoch 57, CIFAR-10 Batch 5:  Loss:     0.0433 Validation Accuracy: 0.709800\n",
      "Epoch 58, CIFAR-10 Batch 1:  Loss:     0.0626 Validation Accuracy: 0.713000\n",
      "Epoch 58, CIFAR-10 Batch 2:  Loss:     0.0594 Validation Accuracy: 0.708200\n",
      "Epoch 58, CIFAR-10 Batch 3:  Loss:     0.0509 Validation Accuracy: 0.708400\n",
      "Epoch 58, CIFAR-10 Batch 4:  Loss:     0.0629 Validation Accuracy: 0.700800\n",
      "Epoch 58, CIFAR-10 Batch 5:  Loss:     0.0432 Validation Accuracy: 0.711200\n",
      "Epoch 59, CIFAR-10 Batch 1:  Loss:     0.0583 Validation Accuracy: 0.713200\n",
      "Epoch 59, CIFAR-10 Batch 2:  Loss:     0.0540 Validation Accuracy: 0.703000\n",
      "Epoch 59, CIFAR-10 Batch 3:  Loss:     0.0510 Validation Accuracy: 0.711800\n",
      "Epoch 59, CIFAR-10 Batch 4:  Loss:     0.0558 Validation Accuracy: 0.706400\n",
      "Epoch 59, CIFAR-10 Batch 5:  Loss:     0.0389 Validation Accuracy: 0.713600\n",
      "Epoch 60, CIFAR-10 Batch 1:  Loss:     0.0597 Validation Accuracy: 0.709400\n",
      "Epoch 60, CIFAR-10 Batch 2:  Loss:     0.0484 Validation Accuracy: 0.708000\n",
      "Epoch 60, CIFAR-10 Batch 3:  Loss:     0.0480 Validation Accuracy: 0.709400\n",
      "Epoch 60, CIFAR-10 Batch 4:  Loss:     0.0525 Validation Accuracy: 0.709400\n",
      "Epoch 60, CIFAR-10 Batch 5:  Loss:     0.0360 Validation Accuracy: 0.708400\n",
      "Epoch 61, CIFAR-10 Batch 1:  Loss:     0.0519 Validation Accuracy: 0.713600\n",
      "Epoch 61, CIFAR-10 Batch 2:  Loss:     0.0496 Validation Accuracy: 0.706600\n",
      "Epoch 61, CIFAR-10 Batch 3:  Loss:     0.0460 Validation Accuracy: 0.706800\n",
      "Epoch 61, CIFAR-10 Batch 4:  Loss:     0.0534 Validation Accuracy: 0.695600\n",
      "Epoch 61, CIFAR-10 Batch 5:  Loss:     0.0392 Validation Accuracy: 0.706800\n",
      "Epoch 62, CIFAR-10 Batch 1:  Loss:     0.0513 Validation Accuracy: 0.712000\n",
      "Epoch 62, CIFAR-10 Batch 2:  Loss:     0.0514 Validation Accuracy: 0.703200\n",
      "Epoch 62, CIFAR-10 Batch 3:  Loss:     0.0416 Validation Accuracy: 0.708400\n",
      "Epoch 62, CIFAR-10 Batch 4:  Loss:     0.0414 Validation Accuracy: 0.705600\n",
      "Epoch 62, CIFAR-10 Batch 5:  Loss:     0.0300 Validation Accuracy: 0.710000\n",
      "Epoch 63, CIFAR-10 Batch 1:  Loss:     0.0474 Validation Accuracy: 0.715800\n",
      "Epoch 63, CIFAR-10 Batch 2:  Loss:     0.0452 Validation Accuracy: 0.699600\n",
      "Epoch 63, CIFAR-10 Batch 3:  Loss:     0.0391 Validation Accuracy: 0.709000\n",
      "Epoch 63, CIFAR-10 Batch 4:  Loss:     0.0472 Validation Accuracy: 0.701400\n",
      "Epoch 63, CIFAR-10 Batch 5:  Loss:     0.0351 Validation Accuracy: 0.710400\n",
      "Epoch 64, CIFAR-10 Batch 1:  Loss:     0.0459 Validation Accuracy: 0.708800\n",
      "Epoch 64, CIFAR-10 Batch 2:  Loss:     0.0411 Validation Accuracy: 0.705600\n",
      "Epoch 64, CIFAR-10 Batch 3:  Loss:     0.0389 Validation Accuracy: 0.705000\n",
      "Epoch 64, CIFAR-10 Batch 4:  Loss:     0.0396 Validation Accuracy: 0.703200\n",
      "Epoch 64, CIFAR-10 Batch 5:  Loss:     0.0294 Validation Accuracy: 0.711400\n",
      "Epoch 65, CIFAR-10 Batch 1:  Loss:     0.0428 Validation Accuracy: 0.710400\n",
      "Epoch 65, CIFAR-10 Batch 2:  Loss:     0.0452 Validation Accuracy: 0.707800\n",
      "Epoch 65, CIFAR-10 Batch 3:  Loss:     0.0399 Validation Accuracy: 0.702800\n",
      "Epoch 65, CIFAR-10 Batch 4:  Loss:     0.0415 Validation Accuracy: 0.709200\n",
      "Epoch 65, CIFAR-10 Batch 5:  Loss:     0.0327 Validation Accuracy: 0.710600\n",
      "Epoch 66, CIFAR-10 Batch 1:  Loss:     0.0418 Validation Accuracy: 0.708800\n",
      "Epoch 66, CIFAR-10 Batch 2:  Loss:     0.0417 Validation Accuracy: 0.703400\n",
      "Epoch 66, CIFAR-10 Batch 3:  Loss:     0.0328 Validation Accuracy: 0.711400\n",
      "Epoch 66, CIFAR-10 Batch 4:  Loss:     0.0339 Validation Accuracy: 0.708600\n",
      "Epoch 66, CIFAR-10 Batch 5:  Loss:     0.0292 Validation Accuracy: 0.707600\n",
      "Epoch 67, CIFAR-10 Batch 1:  Loss:     0.0379 Validation Accuracy: 0.707000\n",
      "Epoch 67, CIFAR-10 Batch 2:  Loss:     0.0388 Validation Accuracy: 0.705000\n",
      "Epoch 67, CIFAR-10 Batch 3:  Loss:     0.0320 Validation Accuracy: 0.707000\n",
      "Epoch 67, CIFAR-10 Batch 4:  Loss:     0.0380 Validation Accuracy: 0.710000\n",
      "Epoch 67, CIFAR-10 Batch 5:  Loss:     0.0295 Validation Accuracy: 0.709000\n",
      "Epoch 68, CIFAR-10 Batch 1:  Loss:     0.0369 Validation Accuracy: 0.708600\n",
      "Epoch 68, CIFAR-10 Batch 2:  Loss:     0.0356 Validation Accuracy: 0.707000\n",
      "Epoch 68, CIFAR-10 Batch 3:  Loss:     0.0263 Validation Accuracy: 0.716200\n",
      "Epoch 68, CIFAR-10 Batch 4:  Loss:     0.0353 Validation Accuracy: 0.704400\n",
      "Epoch 68, CIFAR-10 Batch 5:  Loss:     0.0293 Validation Accuracy: 0.711800\n",
      "Epoch 69, CIFAR-10 Batch 1:  Loss:     0.0386 Validation Accuracy: 0.709000\n",
      "Epoch 69, CIFAR-10 Batch 2:  Loss:     0.0409 Validation Accuracy: 0.707400\n",
      "Epoch 69, CIFAR-10 Batch 3:  Loss:     0.0287 Validation Accuracy: 0.707400\n",
      "Epoch 69, CIFAR-10 Batch 4:  Loss:     0.0356 Validation Accuracy: 0.705400\n",
      "Epoch 69, CIFAR-10 Batch 5:  Loss:     0.0240 Validation Accuracy: 0.715200\n",
      "Epoch 70, CIFAR-10 Batch 1:  Loss:     0.0340 Validation Accuracy: 0.711400\n",
      "Epoch 70, CIFAR-10 Batch 2:  Loss:     0.0312 Validation Accuracy: 0.710600\n",
      "Epoch 70, CIFAR-10 Batch 3:  Loss:     0.0298 Validation Accuracy: 0.706200\n",
      "Epoch 70, CIFAR-10 Batch 4:  Loss:     0.0311 Validation Accuracy: 0.711800\n",
      "Epoch 70, CIFAR-10 Batch 5:  Loss:     0.0260 Validation Accuracy: 0.712000\n",
      "Epoch 71, CIFAR-10 Batch 1:  Loss:     0.0353 Validation Accuracy: 0.715400\n",
      "Epoch 71, CIFAR-10 Batch 2:  Loss:     0.0377 Validation Accuracy: 0.704200\n",
      "Epoch 71, CIFAR-10 Batch 3:  Loss:     0.0332 Validation Accuracy: 0.709600\n",
      "Epoch 71, CIFAR-10 Batch 4:  Loss:     0.0362 Validation Accuracy: 0.704600\n",
      "Epoch 71, CIFAR-10 Batch 5:  Loss:     0.0251 Validation Accuracy: 0.714200\n",
      "Epoch 72, CIFAR-10 Batch 1:  Loss:     0.0304 Validation Accuracy: 0.709200\n",
      "Epoch 72, CIFAR-10 Batch 2:  Loss:     0.0390 Validation Accuracy: 0.705000\n",
      "Epoch 72, CIFAR-10 Batch 3:  Loss:     0.0280 Validation Accuracy: 0.712400\n",
      "Epoch 72, CIFAR-10 Batch 4:  Loss:     0.0342 Validation Accuracy: 0.703200\n",
      "Epoch 72, CIFAR-10 Batch 5:  Loss:     0.0231 Validation Accuracy: 0.712000\n",
      "Epoch 73, CIFAR-10 Batch 1:  Loss:     0.0275 Validation Accuracy: 0.711200\n",
      "Epoch 73, CIFAR-10 Batch 2:  Loss:     0.0347 Validation Accuracy: 0.704800\n",
      "Epoch 73, CIFAR-10 Batch 3:  Loss:     0.0251 Validation Accuracy: 0.707000\n",
      "Epoch 73, CIFAR-10 Batch 4:  Loss:     0.0259 Validation Accuracy: 0.704400\n",
      "Epoch 73, CIFAR-10 Batch 5:  Loss:     0.0248 Validation Accuracy: 0.710200\n",
      "Epoch 74, CIFAR-10 Batch 1:  Loss:     0.0284 Validation Accuracy: 0.701600\n",
      "Epoch 74, CIFAR-10 Batch 2:  Loss:     0.0312 Validation Accuracy: 0.703800\n",
      "Epoch 74, CIFAR-10 Batch 3:  Loss:     0.0222 Validation Accuracy: 0.708000\n",
      "Epoch 74, CIFAR-10 Batch 4:  Loss:     0.0285 Validation Accuracy: 0.705400\n",
      "Epoch 74, CIFAR-10 Batch 5:  Loss:     0.0192 Validation Accuracy: 0.710000\n",
      "Epoch 75, CIFAR-10 Batch 1:  Loss:     0.0288 Validation Accuracy: 0.709000\n",
      "Epoch 75, CIFAR-10 Batch 2:  Loss:     0.0293 Validation Accuracy: 0.704200\n",
      "Epoch 75, CIFAR-10 Batch 3:  Loss:     0.0241 Validation Accuracy: 0.703800\n",
      "Epoch 75, CIFAR-10 Batch 4:  Loss:     0.0285 Validation Accuracy: 0.707400\n",
      "Epoch 75, CIFAR-10 Batch 5:  Loss:     0.0210 Validation Accuracy: 0.710800\n",
      "Epoch 76, CIFAR-10 Batch 1:  Loss:     0.0258 Validation Accuracy: 0.706800\n",
      "Epoch 76, CIFAR-10 Batch 2:  Loss:     0.0284 Validation Accuracy: 0.705600\n",
      "Epoch 76, CIFAR-10 Batch 3:  Loss:     0.0204 Validation Accuracy: 0.705800\n",
      "Epoch 76, CIFAR-10 Batch 4:  Loss:     0.0242 Validation Accuracy: 0.708000\n",
      "Epoch 76, CIFAR-10 Batch 5:  Loss:     0.0166 Validation Accuracy: 0.707000\n",
      "Epoch 77, CIFAR-10 Batch 1:  Loss:     0.0281 Validation Accuracy: 0.706000\n",
      "Epoch 77, CIFAR-10 Batch 2:  Loss:     0.0266 Validation Accuracy: 0.705200\n",
      "Epoch 77, CIFAR-10 Batch 3:  Loss:     0.0203 Validation Accuracy: 0.699200\n",
      "Epoch 77, CIFAR-10 Batch 4:  Loss:     0.0225 Validation Accuracy: 0.703200\n",
      "Epoch 77, CIFAR-10 Batch 5:  Loss:     0.0212 Validation Accuracy: 0.705400\n",
      "Epoch 78, CIFAR-10 Batch 1:  Loss:     0.0264 Validation Accuracy: 0.705200\n",
      "Epoch 78, CIFAR-10 Batch 2:  Loss:     0.0254 Validation Accuracy: 0.705600\n",
      "Epoch 78, CIFAR-10 Batch 3:  Loss:     0.0255 Validation Accuracy: 0.706200\n",
      "Epoch 78, CIFAR-10 Batch 4:  Loss:     0.0235 Validation Accuracy: 0.703200\n",
      "Epoch 78, CIFAR-10 Batch 5:  Loss:     0.0256 Validation Accuracy: 0.703800\n",
      "Epoch 79, CIFAR-10 Batch 1:  Loss:     0.0248 Validation Accuracy: 0.706000\n",
      "Epoch 79, CIFAR-10 Batch 2:  Loss:     0.0251 Validation Accuracy: 0.707600\n",
      "Epoch 79, CIFAR-10 Batch 3:  Loss:     0.0174 Validation Accuracy: 0.703400\n",
      "Epoch 79, CIFAR-10 Batch 4:  Loss:     0.0216 Validation Accuracy: 0.705400\n",
      "Epoch 79, CIFAR-10 Batch 5:  Loss:     0.0210 Validation Accuracy: 0.702400\n",
      "Epoch 80, CIFAR-10 Batch 1:  Loss:     0.0220 Validation Accuracy: 0.702000\n",
      "Epoch 80, CIFAR-10 Batch 2:  Loss:     0.0260 Validation Accuracy: 0.699400\n",
      "Epoch 80, CIFAR-10 Batch 3:  Loss:     0.0178 Validation Accuracy: 0.699600\n",
      "Epoch 80, CIFAR-10 Batch 4:  Loss:     0.0227 Validation Accuracy: 0.706800\n",
      "Epoch 80, CIFAR-10 Batch 5:  Loss:     0.0169 Validation Accuracy: 0.710600\n",
      "Epoch 81, CIFAR-10 Batch 1:  Loss:     0.0210 Validation Accuracy: 0.707400\n",
      "Epoch 81, CIFAR-10 Batch 2:  Loss:     0.0238 Validation Accuracy: 0.705200\n",
      "Epoch 81, CIFAR-10 Batch 3:  Loss:     0.0189 Validation Accuracy: 0.703600\n",
      "Epoch 81, CIFAR-10 Batch 4:  Loss:     0.0210 Validation Accuracy: 0.707000\n",
      "Epoch 81, CIFAR-10 Batch 5:  Loss:     0.0152 Validation Accuracy: 0.710200\n",
      "Epoch 82, CIFAR-10 Batch 1:  Loss:     0.0209 Validation Accuracy: 0.706200\n",
      "Epoch 82, CIFAR-10 Batch 2:  Loss:     0.0230 Validation Accuracy: 0.706200\n",
      "Epoch 82, CIFAR-10 Batch 3:  Loss:     0.0171 Validation Accuracy: 0.708400\n",
      "Epoch 82, CIFAR-10 Batch 4:  Loss:     0.0214 Validation Accuracy: 0.703800\n",
      "Epoch 82, CIFAR-10 Batch 5:  Loss:     0.0163 Validation Accuracy: 0.704800\n",
      "Epoch 83, CIFAR-10 Batch 1:  Loss:     0.0183 Validation Accuracy: 0.707200\n",
      "Epoch 83, CIFAR-10 Batch 2:  Loss:     0.0259 Validation Accuracy: 0.697800\n",
      "Epoch 83, CIFAR-10 Batch 3:  Loss:     0.0170 Validation Accuracy: 0.702000\n",
      "Epoch 83, CIFAR-10 Batch 4:  Loss:     0.0196 Validation Accuracy: 0.704000\n",
      "Epoch 83, CIFAR-10 Batch 5:  Loss:     0.0145 Validation Accuracy: 0.708600\n",
      "Epoch 84, CIFAR-10 Batch 1:  Loss:     0.0235 Validation Accuracy: 0.706200\n",
      "Epoch 84, CIFAR-10 Batch 2:  Loss:     0.0217 Validation Accuracy: 0.702800\n",
      "Epoch 84, CIFAR-10 Batch 3:  Loss:     0.0151 Validation Accuracy: 0.701000\n",
      "Epoch 84, CIFAR-10 Batch 4:  Loss:     0.0174 Validation Accuracy: 0.704000\n",
      "Epoch 84, CIFAR-10 Batch 5:  Loss:     0.0151 Validation Accuracy: 0.709000\n",
      "Epoch 85, CIFAR-10 Batch 1:  Loss:     0.0173 Validation Accuracy: 0.706200\n",
      "Epoch 85, CIFAR-10 Batch 2:  Loss:     0.0221 Validation Accuracy: 0.697200\n",
      "Epoch 85, CIFAR-10 Batch 3:  Loss:     0.0139 Validation Accuracy: 0.704200\n",
      "Epoch 85, CIFAR-10 Batch 4:  Loss:     0.0218 Validation Accuracy: 0.698400\n",
      "Epoch 85, CIFAR-10 Batch 5:  Loss:     0.0151 Validation Accuracy: 0.702800\n",
      "Epoch 86, CIFAR-10 Batch 1:  Loss:     0.0196 Validation Accuracy: 0.703800\n",
      "Epoch 86, CIFAR-10 Batch 2:  Loss:     0.0188 Validation Accuracy: 0.703400\n",
      "Epoch 86, CIFAR-10 Batch 3:  Loss:     0.0154 Validation Accuracy: 0.698400\n",
      "Epoch 86, CIFAR-10 Batch 4:  Loss:     0.0180 Validation Accuracy: 0.701800\n",
      "Epoch 86, CIFAR-10 Batch 5:  Loss:     0.0154 Validation Accuracy: 0.708400\n",
      "Epoch 87, CIFAR-10 Batch 1:  Loss:     0.0184 Validation Accuracy: 0.704400\n",
      "Epoch 87, CIFAR-10 Batch 2:  Loss:     0.0185 Validation Accuracy: 0.702800\n",
      "Epoch 87, CIFAR-10 Batch 3:  Loss:     0.0135 Validation Accuracy: 0.701400\n",
      "Epoch 87, CIFAR-10 Batch 4:  Loss:     0.0188 Validation Accuracy: 0.702200\n",
      "Epoch 87, CIFAR-10 Batch 5:  Loss:     0.0135 Validation Accuracy: 0.710200\n",
      "Epoch 88, CIFAR-10 Batch 1:  Loss:     0.0165 Validation Accuracy: 0.707000\n",
      "Epoch 88, CIFAR-10 Batch 2:  Loss:     0.0162 Validation Accuracy: 0.707400\n",
      "Epoch 88, CIFAR-10 Batch 3:  Loss:     0.0140 Validation Accuracy: 0.704800\n",
      "Epoch 88, CIFAR-10 Batch 4:  Loss:     0.0160 Validation Accuracy: 0.702800\n",
      "Epoch 88, CIFAR-10 Batch 5:  Loss:     0.0145 Validation Accuracy: 0.706600\n",
      "Epoch 89, CIFAR-10 Batch 1:  Loss:     0.0179 Validation Accuracy: 0.708200\n",
      "Epoch 89, CIFAR-10 Batch 2:  Loss:     0.0168 Validation Accuracy: 0.708000\n",
      "Epoch 89, CIFAR-10 Batch 3:  Loss:     0.0125 Validation Accuracy: 0.710400\n",
      "Epoch 89, CIFAR-10 Batch 4:  Loss:     0.0185 Validation Accuracy: 0.707400\n",
      "Epoch 89, CIFAR-10 Batch 5:  Loss:     0.0139 Validation Accuracy: 0.705600\n",
      "Epoch 90, CIFAR-10 Batch 1:  Loss:     0.0161 Validation Accuracy: 0.713000\n",
      "Epoch 90, CIFAR-10 Batch 2:  Loss:     0.0173 Validation Accuracy: 0.710800\n",
      "Epoch 90, CIFAR-10 Batch 3:  Loss:     0.0121 Validation Accuracy: 0.711200\n",
      "Epoch 90, CIFAR-10 Batch 4:  Loss:     0.0145 Validation Accuracy: 0.704200\n",
      "Epoch 90, CIFAR-10 Batch 5:  Loss:     0.0135 Validation Accuracy: 0.709000\n",
      "Epoch 91, CIFAR-10 Batch 1:  Loss:     0.0164 Validation Accuracy: 0.712600\n",
      "Epoch 91, CIFAR-10 Batch 2:  Loss:     0.0163 Validation Accuracy: 0.707400\n",
      "Epoch 91, CIFAR-10 Batch 3:  Loss:     0.0131 Validation Accuracy: 0.711200\n",
      "Epoch 91, CIFAR-10 Batch 4:  Loss:     0.0130 Validation Accuracy: 0.701600\n",
      "Epoch 91, CIFAR-10 Batch 5:  Loss:     0.0152 Validation Accuracy: 0.709600\n",
      "Epoch 92, CIFAR-10 Batch 1:  Loss:     0.0142 Validation Accuracy: 0.715600\n",
      "Epoch 92, CIFAR-10 Batch 2:  Loss:     0.0155 Validation Accuracy: 0.713200\n",
      "Epoch 92, CIFAR-10 Batch 3:  Loss:     0.0109 Validation Accuracy: 0.712600\n",
      "Epoch 92, CIFAR-10 Batch 4:  Loss:     0.0143 Validation Accuracy: 0.708400\n",
      "Epoch 92, CIFAR-10 Batch 5:  Loss:     0.0136 Validation Accuracy: 0.705000\n",
      "Epoch 93, CIFAR-10 Batch 1:  Loss:     0.0143 Validation Accuracy: 0.709600\n",
      "Epoch 93, CIFAR-10 Batch 2:  Loss:     0.0160 Validation Accuracy: 0.711800\n",
      "Epoch 93, CIFAR-10 Batch 3:  Loss:     0.0127 Validation Accuracy: 0.706400\n",
      "Epoch 93, CIFAR-10 Batch 4:  Loss:     0.0158 Validation Accuracy: 0.706200\n",
      "Epoch 93, CIFAR-10 Batch 5:  Loss:     0.0132 Validation Accuracy: 0.707400\n",
      "Epoch 94, CIFAR-10 Batch 1:  Loss:     0.0114 Validation Accuracy: 0.712800\n",
      "Epoch 94, CIFAR-10 Batch 2:  Loss:     0.0167 Validation Accuracy: 0.707400\n",
      "Epoch 94, CIFAR-10 Batch 3:  Loss:     0.0114 Validation Accuracy: 0.718600\n",
      "Epoch 94, CIFAR-10 Batch 4:  Loss:     0.0149 Validation Accuracy: 0.712400\n",
      "Epoch 94, CIFAR-10 Batch 5:  Loss:     0.0124 Validation Accuracy: 0.705600\n",
      "Epoch 95, CIFAR-10 Batch 1:  Loss:     0.0123 Validation Accuracy: 0.709800\n",
      "Epoch 95, CIFAR-10 Batch 2:  Loss:     0.0152 Validation Accuracy: 0.709800\n",
      "Epoch 95, CIFAR-10 Batch 3:  Loss:     0.0113 Validation Accuracy: 0.710200\n",
      "Epoch 95, CIFAR-10 Batch 4:  Loss:     0.0157 Validation Accuracy: 0.701400\n",
      "Epoch 95, CIFAR-10 Batch 5:  Loss:     0.0098 Validation Accuracy: 0.704800\n",
      "Epoch 96, CIFAR-10 Batch 1:  Loss:     0.0123 Validation Accuracy: 0.714200\n",
      "Epoch 96, CIFAR-10 Batch 2:  Loss:     0.0171 Validation Accuracy: 0.706800\n",
      "Epoch 96, CIFAR-10 Batch 3:  Loss:     0.0132 Validation Accuracy: 0.707000\n",
      "Epoch 96, CIFAR-10 Batch 4:  Loss:     0.0144 Validation Accuracy: 0.708800\n",
      "Epoch 96, CIFAR-10 Batch 5:  Loss:     0.0104 Validation Accuracy: 0.709200\n",
      "Epoch 97, CIFAR-10 Batch 1:  Loss:     0.0127 Validation Accuracy: 0.712800\n",
      "Epoch 97, CIFAR-10 Batch 2:  Loss:     0.0124 Validation Accuracy: 0.709200\n",
      "Epoch 97, CIFAR-10 Batch 3:  Loss:     0.0112 Validation Accuracy: 0.707800\n",
      "Epoch 97, CIFAR-10 Batch 4:  Loss:     0.0125 Validation Accuracy: 0.702200\n",
      "Epoch 97, CIFAR-10 Batch 5:  Loss:     0.0092 Validation Accuracy: 0.708200\n",
      "Epoch 98, CIFAR-10 Batch 1:  Loss:     0.0117 Validation Accuracy: 0.711200\n",
      "Epoch 98, CIFAR-10 Batch 2:  Loss:     0.0129 Validation Accuracy: 0.711600\n",
      "Epoch 98, CIFAR-10 Batch 3:  Loss:     0.0116 Validation Accuracy: 0.708800\n",
      "Epoch 98, CIFAR-10 Batch 4:  Loss:     0.0123 Validation Accuracy: 0.703400\n",
      "Epoch 98, CIFAR-10 Batch 5:  Loss:     0.0095 Validation Accuracy: 0.708800\n",
      "Epoch 99, CIFAR-10 Batch 1:  Loss:     0.0087 Validation Accuracy: 0.709600\n",
      "Epoch 99, CIFAR-10 Batch 2:  Loss:     0.0121 Validation Accuracy: 0.711000\n",
      "Epoch 99, CIFAR-10 Batch 3:  Loss:     0.0097 Validation Accuracy: 0.716200\n",
      "Epoch 99, CIFAR-10 Batch 4:  Loss:     0.0130 Validation Accuracy: 0.707400\n",
      "Epoch 99, CIFAR-10 Batch 5:  Loss:     0.0116 Validation Accuracy: 0.710200\n",
      "Epoch 100, CIFAR-10 Batch 1:  Loss:     0.0110 Validation Accuracy: 0.714600\n",
      "Epoch 100, CIFAR-10 Batch 2:  Loss:     0.0124 Validation Accuracy: 0.709000\n",
      "Epoch 100, CIFAR-10 Batch 3:  Loss:     0.0095 Validation Accuracy: 0.713000\n",
      "Epoch 100, CIFAR-10 Batch 4:  Loss:     0.0093 Validation Accuracy: 0.713600\n",
      "Epoch 100, CIFAR-10 Batch 5:  Loss:     0.0100 Validation Accuracy: 0.708400\n"
     ]
    }
   ],
   "source": [
    "\"\"\"\n",
    "DON'T MODIFY ANYTHING IN THIS CELL\n",
    "\"\"\"\n",
    "save_model_path = './image_classification'\n",
    "\n",
    "print('Training...')\n",
    "with tf.Session() as sess:\n",
    "    # Initializing the variables\n",
    "    sess.run(tf.global_variables_initializer())\n",
    "    \n",
    "    # Training cycle\n",
    "    for epoch in range(epochs):\n",
    "        # Loop over all batches\n",
    "        n_batches = 5\n",
    "        for batch_i in range(1, n_batches + 1):\n",
    "            for batch_features, batch_labels in helper.load_preprocess_training_batch(batch_i, batch_size):\n",
    "                train_neural_network(sess, optimizer, keep_probability, batch_features, batch_labels)\n",
    "            print('Epoch {:>2}, CIFAR-10 Batch {}:  '.format(epoch + 1, batch_i), end='')\n",
    "            print_stats(sess, batch_features, batch_labels, cost, accuracy)\n",
    "            \n",
    "    # Save Model\n",
    "    saver = tf.train.Saver()\n",
    "    save_path = saver.save(sess, save_model_path)"
   ]
  },
  {
   "cell_type": "markdown",
   "metadata": {
    "deletable": true,
    "editable": true
   },
   "source": [
    "# Checkpoint\n",
    "The model has been saved to disk.\n",
    "## Test Model\n",
    "Test your model against the test dataset.  This will be your final accuracy. You should have an accuracy greater than 50%. If you don't, keep tweaking the model architecture and parameters."
   ]
  },
  {
   "cell_type": "code",
   "execution_count": 139,
   "metadata": {
    "collapsed": false,
    "deletable": true,
    "editable": true
   },
   "outputs": [
    {
     "name": "stdout",
     "output_type": "stream",
     "text": [
      "Testing Accuracy: 0.6970760583877563\n",
      "\n"
     ]
    },
    {
     "data": {
      "image/png": "[encoded data removed]",
      "text/plain": [
       "<matplotlib.figure.Figure at 0x7f27a8185cf8>"
      ]
     },
     "metadata": {
      "image/png": {
       "height": 319,
       "width": 355
      }
     },
     "output_type": "display_data"
    }
   ],
   "source": [
    "\"\"\"\n",
    "DON'T MODIFY ANYTHING IN THIS CELL\n",
    "\"\"\"\n",
    "%matplotlib inline\n",
    "%config InlineBackend.figure_format = 'retina'\n",
    "\n",
    "import tensorflow as tf\n",
    "import pickle\n",
    "import helper\n",
    "import random\n",
    "\n",
    "# Set batch size if not already set\n",
    "try:\n",
    "    if batch_size:\n",
    "        pass\n",
    "except NameError:\n",
    "    batch_size = 64\n",
    "\n",
    "save_model_path = './image_classification'\n",
    "n_samples = 4\n",
    "top_n_predictions = 3\n",
    "\n",
    "def test_model():\n",
    "    \"\"\"\n",
    "    Test the saved model against the test dataset\n",
    "    \"\"\"\n",
    "\n",
    "    test_features, test_labels = pickle.load(open('preprocess_training.p', mode='rb'))\n",
    "    loaded_graph = tf.Graph()\n",
    "\n",
    "    with tf.Session(graph=loaded_graph) as sess:\n",
    "        # Load model\n",
    "        loader = tf.train.import_meta_graph(save_model_path + '.meta')\n",
    "        loader.restore(sess, save_model_path)\n",
    "\n",
    "        # Get Tensors from loaded model\n",
    "        loaded_x = loaded_graph.get_tensor_by_name('x:0')\n",
    "        loaded_y = loaded_graph.get_tensor_by_name('y:0')\n",
    "        loaded_keep_prob = loaded_graph.get_tensor_by_name('keep_prob:0')\n",
    "        loaded_logits = loaded_graph.get_tensor_by_name('logits:0')\n",
    "        loaded_acc = loaded_graph.get_tensor_by_name('accuracy:0')\n",
    "        \n",
    "        # Get accuracy in batches for memory limitations\n",
    "        test_batch_acc_total = 0\n",
    "        test_batch_count = 0\n",
    "        \n",
    "        for train_feature_batch, train_label_batch in helper.batch_features_labels(test_features, test_labels, batch_size):\n",
    "            test_batch_acc_total += sess.run(\n",
    "                loaded_acc,\n",
    "                feed_dict={loaded_x: train_feature_batch, loaded_y: train_label_batch, loaded_keep_prob: 1.0})\n",
    "            test_batch_count += 1\n",
    "\n",
    "        print('Testing Accuracy: {}\\n'.format(test_batch_acc_total/test_batch_count))\n",
    "\n",
    "        # Print Random Samples\n",
    "        random_test_features, random_test_labels = tuple(zip(*random.sample(list(zip(test_features, test_labels)), n_samples)))\n",
    "        random_test_predictions = sess.run(\n",
    "            tf.nn.top_k(tf.nn.softmax(loaded_logits), top_n_predictions),\n",
    "            feed_dict={loaded_x: random_test_features, loaded_y: random_test_labels, loaded_keep_prob: 1.0})\n",
    "        helper.display_image_predictions(random_test_features, random_test_labels, random_test_predictions)\n",
    "\n",
    "\n",
    "test_model()"
   ]
  },
  {
   "cell_type": "markdown",
   "metadata": {
    "deletable": true,
    "editable": true
   },
   "source": [
    "## Why 50-80% Accuracy?\n",
    "You might be wondering why you can't get an accuracy any higher. First things first, 50% isn't bad for a simple CNN.  Pure guessing would get you 10% accuracy. However, you might notice people are getting scores [well above 80%](http://rodrigob.github.io/are_we_there_yet/build/classification_datasets_results.html#43494641522d3130).  That's because we haven't taught you all there is to know about neural networks. We still need to cover a few more techniques.\n",
    "## Submitting This Project\n",
    "When submitting this project, make sure to run all the cells before saving the notebook.  Save the notebook file as \"dlnd_image_classification.ipynb\" and save it as a HTML file under \"File\" -> \"Download as\".  Include the \"helper.py\" and \"problem_unittests.py\" files in your submission."
   ]
  }
 ],
 "metadata": {
  "kernelspec": {
   "display_name": "Python 3",
   "language": "python",
   "name": "python3"
  },
  "language_info": {
   "codemirror_mode": {
    "name": "ipython",
    "version": 3
   },
   "file_extension": ".py",
   "mimetype": "text/x-python",
   "name": "python",
   "nbconvert_exporter": "python",
   "pygments_lexer": "ipython3",
   "version": "3.5.2"
  },
  "widgets": {
   "state": {},
   "version": "1.1.2"
  }
 },
 "nbformat": 4,
 "nbformat_minor": 0
}
